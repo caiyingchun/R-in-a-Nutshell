{
 "cells": [
  {
   "cell_type": "code",
   "execution_count": 1,
   "metadata": {},
   "outputs": [],
   "source": [
    "setClass('TimeSeries', \n",
    "        representation(\n",
    "        data='numeric', \n",
    "        start='POSIXct', \n",
    "        end='POSIXct'))"
   ]
  },
  {
   "cell_type": "code",
   "execution_count": 2,
   "metadata": {},
   "outputs": [],
   "source": [
    "my.TimeSeries <- new('TimeSeries', \n",
    "                    data=c(1, 2, 3, 4, 5, 6), \n",
    "                    start=as.POSIXct('07/01/2009 0:00:00', tz='GMT', \n",
    "                                    format='%m/%d/%Y %H:%M:%S'), \n",
    "                    end=as.POSIXct('07/01/2009 0:05:00', tz='GMT', \n",
    "                                  format='%m/%d/%Y %H:%M:%S'))"
   ]
  },
  {
   "cell_type": "code",
   "execution_count": 3,
   "metadata": {},
   "outputs": [
    {
     "data": {
      "text/plain": [
       "An object of class \"TimeSeries\"\n",
       "Slot \"data\":\n",
       "[1] 1 2 3 4 5 6\n",
       "\n",
       "Slot \"start\":\n",
       "[1] \"2009-07-01 GMT\"\n",
       "\n",
       "Slot \"end\":\n",
       "[1] \"2009-07-01 00:05:00 GMT\"\n"
      ]
     },
     "metadata": {},
     "output_type": "display_data"
    }
   ],
   "source": [
    "my.TimeSeries"
   ]
  },
  {
   "cell_type": "code",
   "execution_count": 4,
   "metadata": {},
   "outputs": [
    {
     "data": {
      "text/plain": [
       "Class \"TimeSeries\" [in \".GlobalEnv\"]\n",
       "\n",
       "Slots:\n",
       "                              \n",
       "Name:     data   start     end\n",
       "Class: numeric POSIXct POSIXct"
      ]
     },
     "metadata": {},
     "output_type": "display_data"
    }
   ],
   "source": [
    "setValidity('TimeSeries', \n",
    "           function(object) {\n",
    "               object@start <= object@end &&\n",
    "               length(object@start) == 1 &&\n",
    "               length(object@end) == 1\n",
    "           })"
   ]
  },
  {
   "cell_type": "code",
   "execution_count": 5,
   "metadata": {},
   "outputs": [
    {
     "data": {
      "text/html": [
       "TRUE"
      ],
      "text/latex": [
       "TRUE"
      ],
      "text/markdown": [
       "TRUE"
      ],
      "text/plain": [
       "[1] TRUE"
      ]
     },
     "metadata": {},
     "output_type": "display_data"
    }
   ],
   "source": [
    "validObject(my.TimeSeries)"
   ]
  },
  {
   "cell_type": "code",
   "execution_count": 6,
   "metadata": {},
   "outputs": [],
   "source": [
    "?validObject"
   ]
  },
  {
   "cell_type": "code",
   "execution_count": 7,
   "metadata": {},
   "outputs": [],
   "source": [
    "?setClass"
   ]
  },
  {
   "cell_type": "code",
   "execution_count": 8,
   "metadata": {},
   "outputs": [],
   "source": [
    "good.TimeSeries <- new('TimeSeries', \n",
    "                    data=c(7, 8, 9, 10, 11, 12), \n",
    "                    start=as.POSIXct('07/01/2009 0:06:00', tz='GMT', \n",
    "                                    format='%m/%d/%Y %H:%M:%S'), \n",
    "                    end=as.POSIXct('07/01/2009 0:11:00', tz='GMT', \n",
    "                                  format='%m/%d/%Y %H:%M:%S'))"
   ]
  },
  {
   "cell_type": "code",
   "execution_count": 9,
   "metadata": {},
   "outputs": [
    {
     "ename": "ERROR",
     "evalue": "Error in validObject(.Object): invalid class \"TimeSeries\" object: FALSE\n",
     "output_type": "error",
     "traceback": [
      "Error in validObject(.Object): invalid class \"TimeSeries\" object: FALSE\nTraceback:\n",
      "1. new(\"TimeSeries\", data = c(7, 8, 9, 10, 11, 12), start = as.POSIXct(\"07/01/2009 0:06:00\", \n .     tz = \"GMT\", format = \"%m/%d/%Y %H:%M:%S\"), end = as.POSIXct(\"07/01/1999 0:11:00\", \n .     tz = \"GMT\", format = \"%m/%d/%Y %H:%M:%S\"))",
      "2. initialize(value, ...)",
      "3. initialize(value, ...)",
      "4. validObject(.Object)",
      "5. stop(msg, \": \", errors, domain = NA)"
     ]
    }
   ],
   "source": [
    "bad.TimeSeries <- new('TimeSeries', \n",
    "                    data=c(7, 8, 9, 10, 11, 12), \n",
    "                    start=as.POSIXct('07/01/2009 0:06:00', tz='GMT', \n",
    "                                    format='%m/%d/%Y %H:%M:%S'), \n",
    "                    end=as.POSIXct('07/01/1999 0:11:00', tz='GMT', \n",
    "                                  format='%m/%d/%Y %H:%M:%S'))"
   ]
  },
  {
   "cell_type": "code",
   "execution_count": null,
   "metadata": {},
   "outputs": [],
   "source": []
  }
 ],
 "metadata": {
  "kernelspec": {
   "display_name": "R",
   "language": "R",
   "name": "ir"
  },
  "language_info": {
   "codemirror_mode": "r",
   "file_extension": ".r",
   "mimetype": "text/x-r-source",
   "name": "R",
   "pygments_lexer": "r",
   "version": "3.4.2"
  }
 },
 "nbformat": 4,
 "nbformat_minor": 2
}
