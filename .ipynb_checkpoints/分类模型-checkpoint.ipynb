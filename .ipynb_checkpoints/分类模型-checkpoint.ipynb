{
 "cells": [
  {
   "cell_type": "code",
   "execution_count": 1,
   "metadata": {},
   "outputs": [
    {
     "name": "stderr",
     "output_type": "stream",
     "text": [
      "Loading required package: nutshell.bbdb\n",
      "Loading required package: nutshell.audioscrobbler\n"
     ]
    }
   ],
   "source": [
    "library(nutshell)"
   ]
  },
  {
   "cell_type": "code",
   "execution_count": 2,
   "metadata": {},
   "outputs": [],
   "source": [
    "data(field.goals)"
   ]
  },
  {
   "cell_type": "code",
   "execution_count": 3,
   "metadata": {},
   "outputs": [],
   "source": [
    "field.goals.forlr <- transform(field.goals, good=as.factor(ifelse(play.type=='FG good', 'good', 'bad')))"
   ]
  },
  {
   "cell_type": "code",
   "execution_count": 4,
   "metadata": {},
   "outputs": [
    {
     "data": {
      "text/html": [
       "<table>\n",
       "<thead><tr><th scope=col>home.team</th><th scope=col>week</th><th scope=col>qtr</th><th scope=col>away.team</th><th scope=col>offense</th><th scope=col>defense</th><th scope=col>play.type</th><th scope=col>player</th><th scope=col>yards</th><th scope=col>stadium.type</th><th scope=col>good</th></tr></thead>\n",
       "<tbody>\n",
       "\t<tr><td>ARI          </td><td>14           </td><td>3            </td><td>WAS          </td><td>ARI          </td><td>WAS          </td><td>FG good      </td><td>1-N.Rackers  </td><td>20           </td><td>Out          </td><td>good         </td></tr>\n",
       "\t<tr><td>ARI          </td><td> 2           </td><td>4            </td><td>STL          </td><td>ARI          </td><td>STL          </td><td>FG good      </td><td>1-N.Rackers  </td><td>35           </td><td>Out          </td><td>good         </td></tr>\n",
       "\t<tr><td>ARI          </td><td> 7           </td><td>3            </td><td>TEN          </td><td>ARI          </td><td>TEN          </td><td>FG good      </td><td>1-N.Rackers  </td><td>24           </td><td>Out          </td><td>good         </td></tr>\n",
       "\t<tr><td>ARI          </td><td>12           </td><td>2            </td><td>JAC          </td><td>JAC          </td><td>ARI          </td><td>FG good      </td><td>10-J.Scobee  </td><td>30           </td><td>Out          </td><td>good         </td></tr>\n",
       "\t<tr><td>ARI          </td><td> 2           </td><td>3            </td><td>STL          </td><td>ARI          </td><td>STL          </td><td>FG good      </td><td>1-N.Rackers  </td><td>48           </td><td>Out          </td><td>good         </td></tr>\n",
       "\t<tr><td>ARI          </td><td> 7           </td><td>4            </td><td>TEN          </td><td>TEN          </td><td>ARI          </td><td>FG aborted   </td><td>15-C.Hentrich</td><td>33           </td><td>Out          </td><td>bad          </td></tr>\n",
       "\t<tr><td>ARI          </td><td> 2           </td><td>2            </td><td>STL          </td><td>ARI          </td><td>STL          </td><td>FG good      </td><td>1-N.Rackers  </td><td>26           </td><td>Out          </td><td>good         </td></tr>\n",
       "\t<tr><td>ARI          </td><td> 7           </td><td>2            </td><td>TEN          </td><td>ARI          </td><td>TEN          </td><td>FG good      </td><td>1-N.Rackers  </td><td>33           </td><td>Out          </td><td>good         </td></tr>\n",
       "\t<tr><td>ARI          </td><td>14           </td><td>2            </td><td>WAS          </td><td>ARI          </td><td>WAS          </td><td>FG good      </td><td>1-N.Rackers  </td><td>44           </td><td>Out          </td><td>good         </td></tr>\n",
       "\t<tr><td>ARI          </td><td> 2           </td><td>2            </td><td>STL          </td><td>STL          </td><td>ARI          </td><td>FG good      </td><td>14-J.Wilkins </td><td>29           </td><td>Out          </td><td>good         </td></tr>\n",
       "\t<tr><td>ARI          </td><td> 4           </td><td>4            </td><td>SF           </td><td>ARI          </td><td>SF           </td><td>FG good      </td><td>1-N.Rackers  </td><td>24           </td><td>Out          </td><td>good         </td></tr>\n",
       "\t<tr><td>ARI          </td><td>12           </td><td>3            </td><td>JAC          </td><td>ARI          </td><td>JAC          </td><td>FG good      </td><td>1-N.Rackers  </td><td>42           </td><td>Out          </td><td>good         </td></tr>\n",
       "\t<tr><td>ARI          </td><td>12           </td><td>1            </td><td>JAC          </td><td>ARI          </td><td>JAC          </td><td>FG no        </td><td>1-N.Rackers  </td><td>43           </td><td>Out          </td><td>bad          </td></tr>\n",
       "\t<tr><td>ARI          </td><td>16           </td><td>2            </td><td>PHI          </td><td>ARI          </td><td>PHI          </td><td>FG no        </td><td>1-N.Rackers  </td><td>54           </td><td>Out          </td><td>bad          </td></tr>\n",
       "\t<tr><td>ARI          </td><td>16           </td><td>1            </td><td>PHI          </td><td>ARI          </td><td>PHI          </td><td>FG good      </td><td>1-N.Rackers  </td><td>32           </td><td>Out          </td><td>good         </td></tr>\n",
       "\t<tr><td>ARI          </td><td> 4           </td><td>3            </td><td>SF           </td><td>ARI          </td><td>SF           </td><td>FG good      </td><td>1-N.Rackers  </td><td>23           </td><td>Out          </td><td>good         </td></tr>\n",
       "\t<tr><td>ARI          </td><td> 4           </td><td>3            </td><td>SF           </td><td>ARI          </td><td>SF           </td><td>FG good      </td><td>1-N.Rackers  </td><td>48           </td><td>Out          </td><td>good         </td></tr>\n",
       "\t<tr><td>ARI          </td><td>12           </td><td>3            </td><td>JAC          </td><td>JAC          </td><td>ARI          </td><td>FG no        </td><td>10-J.Scobee  </td><td>38           </td><td>Out          </td><td>bad          </td></tr>\n",
       "\t<tr><td>ARI          </td><td> 5           </td><td>1            </td><td>CAR          </td><td>CAR          </td><td>ARI          </td><td>FG good      </td><td>4-J.Kasay    </td><td>46           </td><td>Out          </td><td>good         </td></tr>\n",
       "\t<tr><td>ARI          </td><td>14           </td><td>2            </td><td>WAS          </td><td>WAS          </td><td>ARI          </td><td>FG good      </td><td>10-J.Hall    </td><td>41           </td><td>Out          </td><td>good         </td></tr>\n",
       "\t<tr><td>ARI          </td><td> 4           </td><td>4            </td><td>SF           </td><td>ARI          </td><td>SF           </td><td>FG good      </td><td>1-N.Rackers  </td><td>43           </td><td>Out          </td><td>good         </td></tr>\n",
       "\t<tr><td>ARI          </td><td> 4           </td><td>2            </td><td>SF           </td><td>ARI          </td><td>SF           </td><td>FG good      </td><td>1-N.Rackers  </td><td>45           </td><td>Out          </td><td>good         </td></tr>\n",
       "\t<tr><td>ARI          </td><td>16           </td><td>1            </td><td>PHI          </td><td>ARI          </td><td>PHI          </td><td>FG good      </td><td>1-N.Rackers  </td><td>32           </td><td>Out          </td><td>good         </td></tr>\n",
       "\t<tr><td>ARI          </td><td> 5           </td><td>2            </td><td>CAR          </td><td>CAR          </td><td>ARI          </td><td>FG no        </td><td>4-J.Kasay    </td><td>53           </td><td>Out          </td><td>bad          </td></tr>\n",
       "\t<tr><td>ARI          </td><td> 9           </td><td>4            </td><td>SEA          </td><td>ARI          </td><td>SEA          </td><td>FG good      </td><td>1-N.Rackers  </td><td>44           </td><td>Out          </td><td>good         </td></tr>\n",
       "\t<tr><td>ARI          </td><td> 2           </td><td>1            </td><td>STL          </td><td>ARI          </td><td>STL          </td><td>FG good      </td><td>1-N.Rackers  </td><td>29           </td><td>Out          </td><td>good         </td></tr>\n",
       "\t<tr><td>ARI          </td><td> 4           </td><td>2            </td><td>SF           </td><td>ARI          </td><td>SF           </td><td>FG good      </td><td>1-N.Rackers  </td><td>40           </td><td>Out          </td><td>good         </td></tr>\n",
       "\t<tr><td>ARI          </td><td> 5           </td><td>3            </td><td>CAR          </td><td>ARI          </td><td>CAR          </td><td>FG good      </td><td>1-N.Rackers  </td><td>49           </td><td>Out          </td><td>good         </td></tr>\n",
       "\t<tr><td>ARI          </td><td> 5           </td><td>2            </td><td>CAR          </td><td>ARI          </td><td>CAR          </td><td>FG good      </td><td>1-N.Rackers  </td><td>39           </td><td>Out          </td><td>good         </td></tr>\n",
       "\t<tr><td>ARI          </td><td> 9           </td><td>2            </td><td>SEA          </td><td>ARI          </td><td>SEA          </td><td>FG good      </td><td>1-N.Rackers  </td><td>31           </td><td>Out          </td><td>good         </td></tr>\n",
       "\t<tr><td>...</td><td>...</td><td>...</td><td>...</td><td>...</td><td>...</td><td>...</td><td>...</td><td>...</td><td>...</td><td>...</td></tr>\n",
       "\t<tr><td>TEN            </td><td> 8             </td><td>3              </td><td>OAK            </td><td>OAK            </td><td>TEN            </td><td>FG good        </td><td>11-S.Janikowski</td><td>32             </td><td>Out            </td><td>good           </td></tr>\n",
       "\t<tr><td>TEN            </td><td> 8             </td><td>1              </td><td>OAK            </td><td>OAK            </td><td>TEN            </td><td>FG good        </td><td>11-S.Janikowski</td><td>22             </td><td>Out            </td><td>good           </td></tr>\n",
       "\t<tr><td>WAS            </td><td>12             </td><td>4              </td><td>SD             </td><td>SD             </td><td>WAS            </td><td>FG good        </td><td>10-N.Kaeding   </td><td>48             </td><td>Out            </td><td>good           </td></tr>\n",
       "\t<tr><td>WAS            </td><td> 4             </td><td>3              </td><td>SEA            </td><td>WAS            </td><td>SEA            </td><td>FG good        </td><td>3-N.Novak      </td><td>40             </td><td>Out            </td><td>good           </td></tr>\n",
       "\t<tr><td>WAS            </td><td>15             </td><td>1              </td><td>DAL            </td><td>DAL            </td><td>WAS            </td><td>FG no          </td><td>3-B.Cundiff    </td><td>38             </td><td>Out            </td><td>bad            </td></tr>\n",
       "\t<tr><td>WAS            </td><td> 4             </td><td>4              </td><td>SEA            </td><td>SEA            </td><td>WAS            </td><td>FG no          </td><td>3-J.Brown      </td><td>47             </td><td>Out            </td><td>bad            </td></tr>\n",
       "\t<tr><td>WAS            </td><td> 4             </td><td>1              </td><td>SEA            </td><td>SEA            </td><td>WAS            </td><td>FG good        </td><td>3-J.Brown      </td><td>53             </td><td>Out            </td><td>good           </td></tr>\n",
       "\t<tr><td>WAS            </td><td>11             </td><td>4              </td><td>OAK            </td><td>OAK            </td><td>WAS            </td><td>FG good        </td><td>11-S.Janikowski</td><td>19             </td><td>Out            </td><td>good           </td></tr>\n",
       "\t<tr><td>WAS            </td><td>12             </td><td>4              </td><td>SD             </td><td>WAS            </td><td>SD             </td><td>FG no          </td><td>10-J.Hall      </td><td>52             </td><td>Out            </td><td>bad            </td></tr>\n",
       "\t<tr><td>WAS            </td><td>11             </td><td>2              </td><td>OAK            </td><td>WAS            </td><td>OAK            </td><td>FG good        </td><td>10-J.Hall      </td><td>24             </td><td>Out            </td><td>good           </td></tr>\n",
       "\t<tr><td>WAS            </td><td> 9             </td><td>2              </td><td>PHI            </td><td>WAS            </td><td>PHI            </td><td>FG good        </td><td>10-J.Hall      </td><td>24             </td><td>Out            </td><td>good           </td></tr>\n",
       "\t<tr><td>WAS            </td><td>12             </td><td>3              </td><td>SD             </td><td>SD             </td><td>WAS            </td><td>FG no          </td><td>10-N.Kaeding   </td><td>46             </td><td>Out            </td><td>bad            </td></tr>\n",
       "\t<tr><td>WAS            </td><td> 1             </td><td>3              </td><td>CHI            </td><td>WAS            </td><td>CHI            </td><td>FG good        </td><td>10-J.Hall      </td><td>19             </td><td>Out            </td><td>good           </td></tr>\n",
       "\t<tr><td>WAS            </td><td>12             </td><td>1              </td><td>SD             </td><td>WAS            </td><td>SD             </td><td>FG good        </td><td>10-J.Hall      </td><td>38             </td><td>Out            </td><td>good           </td></tr>\n",
       "\t<tr><td>WAS            </td><td>12             </td><td>1              </td><td>SD             </td><td>SD             </td><td>WAS            </td><td>FG no          </td><td>10-N.Kaeding   </td><td>42             </td><td>Out            </td><td>bad            </td></tr>\n",
       "\t<tr><td>WAS            </td><td> 4             </td><td>3              </td><td>SEA            </td><td>SEA            </td><td>WAS            </td><td>FG no          </td><td>3-J.Brown      </td><td>47             </td><td>Out            </td><td>bad            </td></tr>\n",
       "\t<tr><td>WAS            </td><td>16             </td><td>1              </td><td>NYG            </td><td>NYG            </td><td>WAS            </td><td>FG good        </td><td>2-J.Feely      </td><td>47             </td><td>Out            </td><td>good           </td></tr>\n",
       "\t<tr><td>WAS            </td><td> 4             </td><td>5              </td><td>SEA            </td><td>WAS            </td><td>SEA            </td><td>FG good        </td><td>3-N.Novak      </td><td>39             </td><td>Out            </td><td>good           </td></tr>\n",
       "\t<tr><td>WAS            </td><td>11             </td><td>4              </td><td>OAK            </td><td>OAK            </td><td>WAS            </td><td>FG good        </td><td>11-S.Janikowski</td><td>25             </td><td>Out            </td><td>good           </td></tr>\n",
       "\t<tr><td>WAS            </td><td> 7             </td><td>3              </td><td>SF             </td><td>WAS            </td><td>SF             </td><td>FG good        </td><td>3-N.Novak      </td><td>27             </td><td>Out            </td><td>good           </td></tr>\n",
       "\t<tr><td>WAS            </td><td> 7             </td><td>4              </td><td>SF             </td><td>SF             </td><td>WAS            </td><td>FG good        </td><td>6-J.Nedney     </td><td>47             </td><td>Out            </td><td>good           </td></tr>\n",
       "\t<tr><td>WAS            </td><td>11             </td><td>2              </td><td>OAK            </td><td>OAK            </td><td>WAS            </td><td>FG no          </td><td>11-S.Janikowski</td><td>45             </td><td>Out            </td><td>bad            </td></tr>\n",
       "\t<tr><td>WAS            </td><td>11             </td><td>2              </td><td>OAK            </td><td>WAS            </td><td>OAK            </td><td>FG good        </td><td>10-J.Hall      </td><td>45             </td><td>Out            </td><td>good           </td></tr>\n",
       "\t<tr><td>WAS            </td><td> 1             </td><td>2              </td><td>CHI            </td><td>WAS            </td><td>CHI            </td><td>FG good        </td><td>10-J.Hall      </td><td>40             </td><td>Out            </td><td>good           </td></tr>\n",
       "\t<tr><td>WAS            </td><td> 1             </td><td>2              </td><td>CHI            </td><td>WAS            </td><td>CHI            </td><td>FG good        </td><td>10-J.Hall      </td><td>43             </td><td>Out            </td><td>good           </td></tr>\n",
       "\t<tr><td>WAS            </td><td> 4             </td><td>1              </td><td>SEA            </td><td>WAS            </td><td>SEA            </td><td>FG blocked     </td><td>3-N.Novak      </td><td>39             </td><td>Out            </td><td>bad            </td></tr>\n",
       "\t<tr><td>WAS            </td><td> 9             </td><td>3              </td><td>PHI            </td><td>PHI            </td><td>WAS            </td><td>FG good        </td><td>2-D.Akers      </td><td>34             </td><td>Out            </td><td>good           </td></tr>\n",
       "\t<tr><td>WAS            </td><td>16             </td><td>3              </td><td>NYG            </td><td>NYG            </td><td>WAS            </td><td>FG blocked     </td><td>2-J.Feely      </td><td>29             </td><td>Out            </td><td>bad            </td></tr>\n",
       "\t<tr><td>WAS            </td><td>11             </td><td>1              </td><td>OAK            </td><td>OAK            </td><td>WAS            </td><td>FG good        </td><td>11-S.Janikowski</td><td>30             </td><td>Out            </td><td>good           </td></tr>\n",
       "\t<tr><td>WAS            </td><td>16             </td><td>3              </td><td>NYG            </td><td>NYG            </td><td>WAS            </td><td>FG good        </td><td>2-J.Feely      </td><td>38             </td><td>Out            </td><td>good           </td></tr>\n",
       "</tbody>\n",
       "</table>\n"
      ],
      "text/latex": [
       "\\begin{tabular}{r|lllllllllll}\n",
       " home.team & week & qtr & away.team & offense & defense & play.type & player & yards & stadium.type & good\\\\\n",
       "\\hline\n",
       "\t ARI           & 14            & 3             & WAS           & ARI           & WAS           & FG good       & 1-N.Rackers   & 20            & Out           & good         \\\\\n",
       "\t ARI           &  2            & 4             & STL           & ARI           & STL           & FG good       & 1-N.Rackers   & 35            & Out           & good         \\\\\n",
       "\t ARI           &  7            & 3             & TEN           & ARI           & TEN           & FG good       & 1-N.Rackers   & 24            & Out           & good         \\\\\n",
       "\t ARI           & 12            & 2             & JAC           & JAC           & ARI           & FG good       & 10-J.Scobee   & 30            & Out           & good         \\\\\n",
       "\t ARI           &  2            & 3             & STL           & ARI           & STL           & FG good       & 1-N.Rackers   & 48            & Out           & good         \\\\\n",
       "\t ARI           &  7            & 4             & TEN           & TEN           & ARI           & FG aborted    & 15-C.Hentrich & 33            & Out           & bad          \\\\\n",
       "\t ARI           &  2            & 2             & STL           & ARI           & STL           & FG good       & 1-N.Rackers   & 26            & Out           & good         \\\\\n",
       "\t ARI           &  7            & 2             & TEN           & ARI           & TEN           & FG good       & 1-N.Rackers   & 33            & Out           & good         \\\\\n",
       "\t ARI           & 14            & 2             & WAS           & ARI           & WAS           & FG good       & 1-N.Rackers   & 44            & Out           & good         \\\\\n",
       "\t ARI           &  2            & 2             & STL           & STL           & ARI           & FG good       & 14-J.Wilkins  & 29            & Out           & good         \\\\\n",
       "\t ARI           &  4            & 4             & SF            & ARI           & SF            & FG good       & 1-N.Rackers   & 24            & Out           & good         \\\\\n",
       "\t ARI           & 12            & 3             & JAC           & ARI           & JAC           & FG good       & 1-N.Rackers   & 42            & Out           & good         \\\\\n",
       "\t ARI           & 12            & 1             & JAC           & ARI           & JAC           & FG no         & 1-N.Rackers   & 43            & Out           & bad          \\\\\n",
       "\t ARI           & 16            & 2             & PHI           & ARI           & PHI           & FG no         & 1-N.Rackers   & 54            & Out           & bad          \\\\\n",
       "\t ARI           & 16            & 1             & PHI           & ARI           & PHI           & FG good       & 1-N.Rackers   & 32            & Out           & good         \\\\\n",
       "\t ARI           &  4            & 3             & SF            & ARI           & SF            & FG good       & 1-N.Rackers   & 23            & Out           & good         \\\\\n",
       "\t ARI           &  4            & 3             & SF            & ARI           & SF            & FG good       & 1-N.Rackers   & 48            & Out           & good         \\\\\n",
       "\t ARI           & 12            & 3             & JAC           & JAC           & ARI           & FG no         & 10-J.Scobee   & 38            & Out           & bad          \\\\\n",
       "\t ARI           &  5            & 1             & CAR           & CAR           & ARI           & FG good       & 4-J.Kasay     & 46            & Out           & good         \\\\\n",
       "\t ARI           & 14            & 2             & WAS           & WAS           & ARI           & FG good       & 10-J.Hall     & 41            & Out           & good         \\\\\n",
       "\t ARI           &  4            & 4             & SF            & ARI           & SF            & FG good       & 1-N.Rackers   & 43            & Out           & good         \\\\\n",
       "\t ARI           &  4            & 2             & SF            & ARI           & SF            & FG good       & 1-N.Rackers   & 45            & Out           & good         \\\\\n",
       "\t ARI           & 16            & 1             & PHI           & ARI           & PHI           & FG good       & 1-N.Rackers   & 32            & Out           & good         \\\\\n",
       "\t ARI           &  5            & 2             & CAR           & CAR           & ARI           & FG no         & 4-J.Kasay     & 53            & Out           & bad          \\\\\n",
       "\t ARI           &  9            & 4             & SEA           & ARI           & SEA           & FG good       & 1-N.Rackers   & 44            & Out           & good         \\\\\n",
       "\t ARI           &  2            & 1             & STL           & ARI           & STL           & FG good       & 1-N.Rackers   & 29            & Out           & good         \\\\\n",
       "\t ARI           &  4            & 2             & SF            & ARI           & SF            & FG good       & 1-N.Rackers   & 40            & Out           & good         \\\\\n",
       "\t ARI           &  5            & 3             & CAR           & ARI           & CAR           & FG good       & 1-N.Rackers   & 49            & Out           & good         \\\\\n",
       "\t ARI           &  5            & 2             & CAR           & ARI           & CAR           & FG good       & 1-N.Rackers   & 39            & Out           & good         \\\\\n",
       "\t ARI           &  9            & 2             & SEA           & ARI           & SEA           & FG good       & 1-N.Rackers   & 31            & Out           & good         \\\\\n",
       "\t ... & ... & ... & ... & ... & ... & ... & ... & ... & ... & ...\\\\\n",
       "\t TEN             &  8              & 3               & OAK             & OAK             & TEN             & FG good         & 11-S.Janikowski & 32              & Out             & good           \\\\\n",
       "\t TEN             &  8              & 1               & OAK             & OAK             & TEN             & FG good         & 11-S.Janikowski & 22              & Out             & good           \\\\\n",
       "\t WAS             & 12              & 4               & SD              & SD              & WAS             & FG good         & 10-N.Kaeding    & 48              & Out             & good           \\\\\n",
       "\t WAS             &  4              & 3               & SEA             & WAS             & SEA             & FG good         & 3-N.Novak       & 40              & Out             & good           \\\\\n",
       "\t WAS             & 15              & 1               & DAL             & DAL             & WAS             & FG no           & 3-B.Cundiff     & 38              & Out             & bad            \\\\\n",
       "\t WAS             &  4              & 4               & SEA             & SEA             & WAS             & FG no           & 3-J.Brown       & 47              & Out             & bad            \\\\\n",
       "\t WAS             &  4              & 1               & SEA             & SEA             & WAS             & FG good         & 3-J.Brown       & 53              & Out             & good           \\\\\n",
       "\t WAS             & 11              & 4               & OAK             & OAK             & WAS             & FG good         & 11-S.Janikowski & 19              & Out             & good           \\\\\n",
       "\t WAS             & 12              & 4               & SD              & WAS             & SD              & FG no           & 10-J.Hall       & 52              & Out             & bad            \\\\\n",
       "\t WAS             & 11              & 2               & OAK             & WAS             & OAK             & FG good         & 10-J.Hall       & 24              & Out             & good           \\\\\n",
       "\t WAS             &  9              & 2               & PHI             & WAS             & PHI             & FG good         & 10-J.Hall       & 24              & Out             & good           \\\\\n",
       "\t WAS             & 12              & 3               & SD              & SD              & WAS             & FG no           & 10-N.Kaeding    & 46              & Out             & bad            \\\\\n",
       "\t WAS             &  1              & 3               & CHI             & WAS             & CHI             & FG good         & 10-J.Hall       & 19              & Out             & good           \\\\\n",
       "\t WAS             & 12              & 1               & SD              & WAS             & SD              & FG good         & 10-J.Hall       & 38              & Out             & good           \\\\\n",
       "\t WAS             & 12              & 1               & SD              & SD              & WAS             & FG no           & 10-N.Kaeding    & 42              & Out             & bad            \\\\\n",
       "\t WAS             &  4              & 3               & SEA             & SEA             & WAS             & FG no           & 3-J.Brown       & 47              & Out             & bad            \\\\\n",
       "\t WAS             & 16              & 1               & NYG             & NYG             & WAS             & FG good         & 2-J.Feely       & 47              & Out             & good           \\\\\n",
       "\t WAS             &  4              & 5               & SEA             & WAS             & SEA             & FG good         & 3-N.Novak       & 39              & Out             & good           \\\\\n",
       "\t WAS             & 11              & 4               & OAK             & OAK             & WAS             & FG good         & 11-S.Janikowski & 25              & Out             & good           \\\\\n",
       "\t WAS             &  7              & 3               & SF              & WAS             & SF              & FG good         & 3-N.Novak       & 27              & Out             & good           \\\\\n",
       "\t WAS             &  7              & 4               & SF              & SF              & WAS             & FG good         & 6-J.Nedney      & 47              & Out             & good           \\\\\n",
       "\t WAS             & 11              & 2               & OAK             & OAK             & WAS             & FG no           & 11-S.Janikowski & 45              & Out             & bad            \\\\\n",
       "\t WAS             & 11              & 2               & OAK             & WAS             & OAK             & FG good         & 10-J.Hall       & 45              & Out             & good           \\\\\n",
       "\t WAS             &  1              & 2               & CHI             & WAS             & CHI             & FG good         & 10-J.Hall       & 40              & Out             & good           \\\\\n",
       "\t WAS             &  1              & 2               & CHI             & WAS             & CHI             & FG good         & 10-J.Hall       & 43              & Out             & good           \\\\\n",
       "\t WAS             &  4              & 1               & SEA             & WAS             & SEA             & FG blocked      & 3-N.Novak       & 39              & Out             & bad            \\\\\n",
       "\t WAS             &  9              & 3               & PHI             & PHI             & WAS             & FG good         & 2-D.Akers       & 34              & Out             & good           \\\\\n",
       "\t WAS             & 16              & 3               & NYG             & NYG             & WAS             & FG blocked      & 2-J.Feely       & 29              & Out             & bad            \\\\\n",
       "\t WAS             & 11              & 1               & OAK             & OAK             & WAS             & FG good         & 11-S.Janikowski & 30              & Out             & good           \\\\\n",
       "\t WAS             & 16              & 3               & NYG             & NYG             & WAS             & FG good         & 2-J.Feely       & 38              & Out             & good           \\\\\n",
       "\\end{tabular}\n"
      ],
      "text/markdown": [
       "\n",
       "home.team | week | qtr | away.team | offense | defense | play.type | player | yards | stadium.type | good | \n",
       "|---|---|---|---|---|---|---|---|---|---|---|---|---|---|---|---|---|---|---|---|---|---|---|---|---|---|---|---|---|---|---|---|---|---|---|---|---|---|---|---|---|---|---|---|---|---|---|---|---|---|---|---|---|---|---|---|---|---|---|---|---|\n",
       "| ARI           | 14            | 3             | WAS           | ARI           | WAS           | FG good       | 1-N.Rackers   | 20            | Out           | good          | \n",
       "| ARI           |  2            | 4             | STL           | ARI           | STL           | FG good       | 1-N.Rackers   | 35            | Out           | good          | \n",
       "| ARI           |  7            | 3             | TEN           | ARI           | TEN           | FG good       | 1-N.Rackers   | 24            | Out           | good          | \n",
       "| ARI           | 12            | 2             | JAC           | JAC           | ARI           | FG good       | 10-J.Scobee   | 30            | Out           | good          | \n",
       "| ARI           |  2            | 3             | STL           | ARI           | STL           | FG good       | 1-N.Rackers   | 48            | Out           | good          | \n",
       "| ARI           |  7            | 4             | TEN           | TEN           | ARI           | FG aborted    | 15-C.Hentrich | 33            | Out           | bad           | \n",
       "| ARI           |  2            | 2             | STL           | ARI           | STL           | FG good       | 1-N.Rackers   | 26            | Out           | good          | \n",
       "| ARI           |  7            | 2             | TEN           | ARI           | TEN           | FG good       | 1-N.Rackers   | 33            | Out           | good          | \n",
       "| ARI           | 14            | 2             | WAS           | ARI           | WAS           | FG good       | 1-N.Rackers   | 44            | Out           | good          | \n",
       "| ARI           |  2            | 2             | STL           | STL           | ARI           | FG good       | 14-J.Wilkins  | 29            | Out           | good          | \n",
       "| ARI           |  4            | 4             | SF            | ARI           | SF            | FG good       | 1-N.Rackers   | 24            | Out           | good          | \n",
       "| ARI           | 12            | 3             | JAC           | ARI           | JAC           | FG good       | 1-N.Rackers   | 42            | Out           | good          | \n",
       "| ARI           | 12            | 1             | JAC           | ARI           | JAC           | FG no         | 1-N.Rackers   | 43            | Out           | bad           | \n",
       "| ARI           | 16            | 2             | PHI           | ARI           | PHI           | FG no         | 1-N.Rackers   | 54            | Out           | bad           | \n",
       "| ARI           | 16            | 1             | PHI           | ARI           | PHI           | FG good       | 1-N.Rackers   | 32            | Out           | good          | \n",
       "| ARI           |  4            | 3             | SF            | ARI           | SF            | FG good       | 1-N.Rackers   | 23            | Out           | good          | \n",
       "| ARI           |  4            | 3             | SF            | ARI           | SF            | FG good       | 1-N.Rackers   | 48            | Out           | good          | \n",
       "| ARI           | 12            | 3             | JAC           | JAC           | ARI           | FG no         | 10-J.Scobee   | 38            | Out           | bad           | \n",
       "| ARI           |  5            | 1             | CAR           | CAR           | ARI           | FG good       | 4-J.Kasay     | 46            | Out           | good          | \n",
       "| ARI           | 14            | 2             | WAS           | WAS           | ARI           | FG good       | 10-J.Hall     | 41            | Out           | good          | \n",
       "| ARI           |  4            | 4             | SF            | ARI           | SF            | FG good       | 1-N.Rackers   | 43            | Out           | good          | \n",
       "| ARI           |  4            | 2             | SF            | ARI           | SF            | FG good       | 1-N.Rackers   | 45            | Out           | good          | \n",
       "| ARI           | 16            | 1             | PHI           | ARI           | PHI           | FG good       | 1-N.Rackers   | 32            | Out           | good          | \n",
       "| ARI           |  5            | 2             | CAR           | CAR           | ARI           | FG no         | 4-J.Kasay     | 53            | Out           | bad           | \n",
       "| ARI           |  9            | 4             | SEA           | ARI           | SEA           | FG good       | 1-N.Rackers   | 44            | Out           | good          | \n",
       "| ARI           |  2            | 1             | STL           | ARI           | STL           | FG good       | 1-N.Rackers   | 29            | Out           | good          | \n",
       "| ARI           |  4            | 2             | SF            | ARI           | SF            | FG good       | 1-N.Rackers   | 40            | Out           | good          | \n",
       "| ARI           |  5            | 3             | CAR           | ARI           | CAR           | FG good       | 1-N.Rackers   | 49            | Out           | good          | \n",
       "| ARI           |  5            | 2             | CAR           | ARI           | CAR           | FG good       | 1-N.Rackers   | 39            | Out           | good          | \n",
       "| ARI           |  9            | 2             | SEA           | ARI           | SEA           | FG good       | 1-N.Rackers   | 31            | Out           | good          | \n",
       "| ... | ... | ... | ... | ... | ... | ... | ... | ... | ... | ... | \n",
       "| TEN             |  8              | 3               | OAK             | OAK             | TEN             | FG good         | 11-S.Janikowski | 32              | Out             | good            | \n",
       "| TEN             |  8              | 1               | OAK             | OAK             | TEN             | FG good         | 11-S.Janikowski | 22              | Out             | good            | \n",
       "| WAS             | 12              | 4               | SD              | SD              | WAS             | FG good         | 10-N.Kaeding    | 48              | Out             | good            | \n",
       "| WAS             |  4              | 3               | SEA             | WAS             | SEA             | FG good         | 3-N.Novak       | 40              | Out             | good            | \n",
       "| WAS             | 15              | 1               | DAL             | DAL             | WAS             | FG no           | 3-B.Cundiff     | 38              | Out             | bad             | \n",
       "| WAS             |  4              | 4               | SEA             | SEA             | WAS             | FG no           | 3-J.Brown       | 47              | Out             | bad             | \n",
       "| WAS             |  4              | 1               | SEA             | SEA             | WAS             | FG good         | 3-J.Brown       | 53              | Out             | good            | \n",
       "| WAS             | 11              | 4               | OAK             | OAK             | WAS             | FG good         | 11-S.Janikowski | 19              | Out             | good            | \n",
       "| WAS             | 12              | 4               | SD              | WAS             | SD              | FG no           | 10-J.Hall       | 52              | Out             | bad             | \n",
       "| WAS             | 11              | 2               | OAK             | WAS             | OAK             | FG good         | 10-J.Hall       | 24              | Out             | good            | \n",
       "| WAS             |  9              | 2               | PHI             | WAS             | PHI             | FG good         | 10-J.Hall       | 24              | Out             | good            | \n",
       "| WAS             | 12              | 3               | SD              | SD              | WAS             | FG no           | 10-N.Kaeding    | 46              | Out             | bad             | \n",
       "| WAS             |  1              | 3               | CHI             | WAS             | CHI             | FG good         | 10-J.Hall       | 19              | Out             | good            | \n",
       "| WAS             | 12              | 1               | SD              | WAS             | SD              | FG good         | 10-J.Hall       | 38              | Out             | good            | \n",
       "| WAS             | 12              | 1               | SD              | SD              | WAS             | FG no           | 10-N.Kaeding    | 42              | Out             | bad             | \n",
       "| WAS             |  4              | 3               | SEA             | SEA             | WAS             | FG no           | 3-J.Brown       | 47              | Out             | bad             | \n",
       "| WAS             | 16              | 1               | NYG             | NYG             | WAS             | FG good         | 2-J.Feely       | 47              | Out             | good            | \n",
       "| WAS             |  4              | 5               | SEA             | WAS             | SEA             | FG good         | 3-N.Novak       | 39              | Out             | good            | \n",
       "| WAS             | 11              | 4               | OAK             | OAK             | WAS             | FG good         | 11-S.Janikowski | 25              | Out             | good            | \n",
       "| WAS             |  7              | 3               | SF              | WAS             | SF              | FG good         | 3-N.Novak       | 27              | Out             | good            | \n",
       "| WAS             |  7              | 4               | SF              | SF              | WAS             | FG good         | 6-J.Nedney      | 47              | Out             | good            | \n",
       "| WAS             | 11              | 2               | OAK             | OAK             | WAS             | FG no           | 11-S.Janikowski | 45              | Out             | bad             | \n",
       "| WAS             | 11              | 2               | OAK             | WAS             | OAK             | FG good         | 10-J.Hall       | 45              | Out             | good            | \n",
       "| WAS             |  1              | 2               | CHI             | WAS             | CHI             | FG good         | 10-J.Hall       | 40              | Out             | good            | \n",
       "| WAS             |  1              | 2               | CHI             | WAS             | CHI             | FG good         | 10-J.Hall       | 43              | Out             | good            | \n",
       "| WAS             |  4              | 1               | SEA             | WAS             | SEA             | FG blocked      | 3-N.Novak       | 39              | Out             | bad             | \n",
       "| WAS             |  9              | 3               | PHI             | PHI             | WAS             | FG good         | 2-D.Akers       | 34              | Out             | good            | \n",
       "| WAS             | 16              | 3               | NYG             | NYG             | WAS             | FG blocked      | 2-J.Feely       | 29              | Out             | bad             | \n",
       "| WAS             | 11              | 1               | OAK             | OAK             | WAS             | FG good         | 11-S.Janikowski | 30              | Out             | good            | \n",
       "| WAS             | 16              | 3               | NYG             | NYG             | WAS             | FG good         | 2-J.Feely       | 38              | Out             | good            | \n",
       "\n",
       "\n"
      ],
      "text/plain": [
       "    home.team week qtr away.team offense defense play.type  player         \n",
       "1   ARI       14   3   WAS       ARI     WAS     FG good    1-N.Rackers    \n",
       "2   ARI        2   4   STL       ARI     STL     FG good    1-N.Rackers    \n",
       "3   ARI        7   3   TEN       ARI     TEN     FG good    1-N.Rackers    \n",
       "4   ARI       12   2   JAC       JAC     ARI     FG good    10-J.Scobee    \n",
       "5   ARI        2   3   STL       ARI     STL     FG good    1-N.Rackers    \n",
       "6   ARI        7   4   TEN       TEN     ARI     FG aborted 15-C.Hentrich  \n",
       "7   ARI        2   2   STL       ARI     STL     FG good    1-N.Rackers    \n",
       "8   ARI        7   2   TEN       ARI     TEN     FG good    1-N.Rackers    \n",
       "9   ARI       14   2   WAS       ARI     WAS     FG good    1-N.Rackers    \n",
       "10  ARI        2   2   STL       STL     ARI     FG good    14-J.Wilkins   \n",
       "11  ARI        4   4   SF        ARI     SF      FG good    1-N.Rackers    \n",
       "12  ARI       12   3   JAC       ARI     JAC     FG good    1-N.Rackers    \n",
       "13  ARI       12   1   JAC       ARI     JAC     FG no      1-N.Rackers    \n",
       "14  ARI       16   2   PHI       ARI     PHI     FG no      1-N.Rackers    \n",
       "15  ARI       16   1   PHI       ARI     PHI     FG good    1-N.Rackers    \n",
       "16  ARI        4   3   SF        ARI     SF      FG good    1-N.Rackers    \n",
       "17  ARI        4   3   SF        ARI     SF      FG good    1-N.Rackers    \n",
       "18  ARI       12   3   JAC       JAC     ARI     FG no      10-J.Scobee    \n",
       "19  ARI        5   1   CAR       CAR     ARI     FG good    4-J.Kasay      \n",
       "20  ARI       14   2   WAS       WAS     ARI     FG good    10-J.Hall      \n",
       "21  ARI        4   4   SF        ARI     SF      FG good    1-N.Rackers    \n",
       "22  ARI        4   2   SF        ARI     SF      FG good    1-N.Rackers    \n",
       "23  ARI       16   1   PHI       ARI     PHI     FG good    1-N.Rackers    \n",
       "24  ARI        5   2   CAR       CAR     ARI     FG no      4-J.Kasay      \n",
       "25  ARI        9   4   SEA       ARI     SEA     FG good    1-N.Rackers    \n",
       "26  ARI        2   1   STL       ARI     STL     FG good    1-N.Rackers    \n",
       "27  ARI        4   2   SF        ARI     SF      FG good    1-N.Rackers    \n",
       "28  ARI        5   3   CAR       ARI     CAR     FG good    1-N.Rackers    \n",
       "29  ARI        5   2   CAR       ARI     CAR     FG good    1-N.Rackers    \n",
       "30  ARI        9   2   SEA       ARI     SEA     FG good    1-N.Rackers    \n",
       "... ...       ...  ... ...       ...     ...     ...        ...            \n",
       "953 TEN        8   3   OAK       OAK     TEN     FG good    11-S.Janikowski\n",
       "954 TEN        8   1   OAK       OAK     TEN     FG good    11-S.Janikowski\n",
       "955 WAS       12   4   SD        SD      WAS     FG good    10-N.Kaeding   \n",
       "956 WAS        4   3   SEA       WAS     SEA     FG good    3-N.Novak      \n",
       "957 WAS       15   1   DAL       DAL     WAS     FG no      3-B.Cundiff    \n",
       "958 WAS        4   4   SEA       SEA     WAS     FG no      3-J.Brown      \n",
       "959 WAS        4   1   SEA       SEA     WAS     FG good    3-J.Brown      \n",
       "960 WAS       11   4   OAK       OAK     WAS     FG good    11-S.Janikowski\n",
       "961 WAS       12   4   SD        WAS     SD      FG no      10-J.Hall      \n",
       "962 WAS       11   2   OAK       WAS     OAK     FG good    10-J.Hall      \n",
       "963 WAS        9   2   PHI       WAS     PHI     FG good    10-J.Hall      \n",
       "964 WAS       12   3   SD        SD      WAS     FG no      10-N.Kaeding   \n",
       "965 WAS        1   3   CHI       WAS     CHI     FG good    10-J.Hall      \n",
       "966 WAS       12   1   SD        WAS     SD      FG good    10-J.Hall      \n",
       "967 WAS       12   1   SD        SD      WAS     FG no      10-N.Kaeding   \n",
       "968 WAS        4   3   SEA       SEA     WAS     FG no      3-J.Brown      \n",
       "969 WAS       16   1   NYG       NYG     WAS     FG good    2-J.Feely      \n",
       "970 WAS        4   5   SEA       WAS     SEA     FG good    3-N.Novak      \n",
       "971 WAS       11   4   OAK       OAK     WAS     FG good    11-S.Janikowski\n",
       "972 WAS        7   3   SF        WAS     SF      FG good    3-N.Novak      \n",
       "973 WAS        7   4   SF        SF      WAS     FG good    6-J.Nedney     \n",
       "974 WAS       11   2   OAK       OAK     WAS     FG no      11-S.Janikowski\n",
       "975 WAS       11   2   OAK       WAS     OAK     FG good    10-J.Hall      \n",
       "976 WAS        1   2   CHI       WAS     CHI     FG good    10-J.Hall      \n",
       "977 WAS        1   2   CHI       WAS     CHI     FG good    10-J.Hall      \n",
       "978 WAS        4   1   SEA       WAS     SEA     FG blocked 3-N.Novak      \n",
       "979 WAS        9   3   PHI       PHI     WAS     FG good    2-D.Akers      \n",
       "980 WAS       16   3   NYG       NYG     WAS     FG blocked 2-J.Feely      \n",
       "981 WAS       11   1   OAK       OAK     WAS     FG good    11-S.Janikowski\n",
       "982 WAS       16   3   NYG       NYG     WAS     FG good    2-J.Feely      \n",
       "    yards stadium.type good\n",
       "1   20    Out          good\n",
       "2   35    Out          good\n",
       "3   24    Out          good\n",
       "4   30    Out          good\n",
       "5   48    Out          good\n",
       "6   33    Out          bad \n",
       "7   26    Out          good\n",
       "8   33    Out          good\n",
       "9   44    Out          good\n",
       "10  29    Out          good\n",
       "11  24    Out          good\n",
       "12  42    Out          good\n",
       "13  43    Out          bad \n",
       "14  54    Out          bad \n",
       "15  32    Out          good\n",
       "16  23    Out          good\n",
       "17  48    Out          good\n",
       "18  38    Out          bad \n",
       "19  46    Out          good\n",
       "20  41    Out          good\n",
       "21  43    Out          good\n",
       "22  45    Out          good\n",
       "23  32    Out          good\n",
       "24  53    Out          bad \n",
       "25  44    Out          good\n",
       "26  29    Out          good\n",
       "27  40    Out          good\n",
       "28  49    Out          good\n",
       "29  39    Out          good\n",
       "30  31    Out          good\n",
       "... ...   ...          ... \n",
       "953 32    Out          good\n",
       "954 22    Out          good\n",
       "955 48    Out          good\n",
       "956 40    Out          good\n",
       "957 38    Out          bad \n",
       "958 47    Out          bad \n",
       "959 53    Out          good\n",
       "960 19    Out          good\n",
       "961 52    Out          bad \n",
       "962 24    Out          good\n",
       "963 24    Out          good\n",
       "964 46    Out          bad \n",
       "965 19    Out          good\n",
       "966 38    Out          good\n",
       "967 42    Out          bad \n",
       "968 47    Out          bad \n",
       "969 47    Out          good\n",
       "970 39    Out          good\n",
       "971 25    Out          good\n",
       "972 27    Out          good\n",
       "973 47    Out          good\n",
       "974 45    Out          bad \n",
       "975 45    Out          good\n",
       "976 40    Out          good\n",
       "977 43    Out          good\n",
       "978 39    Out          bad \n",
       "979 34    Out          good\n",
       "980 29    Out          bad \n",
       "981 30    Out          good\n",
       "982 38    Out          good"
      ]
     },
     "metadata": {},
     "output_type": "display_data"
    }
   ],
   "source": [
    "field.goals.forlr"
   ]
  },
  {
   "cell_type": "code",
   "execution_count": 5,
   "metadata": {},
   "outputs": [],
   "source": [
    "field.goals.table <- table(field.goals.forlr$good, field.goals.forlr$yards)"
   ]
  },
  {
   "cell_type": "code",
   "execution_count": 6,
   "metadata": {},
   "outputs": [
    {
     "data": {
      "text/plain": [
       "      \n",
       "       18 19 20 21 22 23 24 25 26 27 28 29 30 31 32 33 34 35 36 37 38 39 40 41\n",
       "  bad   0  0  1  1  1  1  0  0  0  3  5  5  2  6  7  5  3  0  4  3 11  6  7  5\n",
       "  good  1 12 24 28 24 29 30 18 27 22 26 32 22 21 30 31 21 25 20 23 29 35 27 32\n",
       "      \n",
       "       42 43 44 45 46 47 48 49 50 51 52 53 54 55 56 57 58 59 60 61 62\n",
       "  bad   6 11  5  9 12 11 10  9  5  8 11 10  3  1  2  1  1  1  1  1  1\n",
       "  good 21 15 24 16 15 26 18 14 11  9 12 10  2  1  3  0  1  0  0  0  0"
      ]
     },
     "metadata": {},
     "output_type": "display_data"
    }
   ],
   "source": [
    "field.goals.table"
   ]
  },
  {
   "cell_type": "code",
   "execution_count": 7,
   "metadata": {},
   "outputs": [
    {
     "data": {
      "image/png": "[encoded data removed]",
      "text/plain": [
       "plot without title"
      ]
     },
     "metadata": {},
     "output_type": "display_data"
    }
   ],
   "source": [
    "plot(colnames(field.goals.table)\n",
    "     ,field.goals.table['good',]/\n",
    "     (field.goals.table['bad',]+field.goals.table['good',]),\n",
    "     xlab='Distance (Yards)',ylab='Percent Good')"
   ]
  },
  {
   "cell_type": "code",
   "execution_count": 8,
   "metadata": {},
   "outputs": [],
   "source": [
    "field.goals.mdl <- glm(formula = good~yards, data = field.goals.forlr, family = 'binomial')"
   ]
  },
  {
   "cell_type": "code",
   "execution_count": 9,
   "metadata": {},
   "outputs": [
    {
     "data": {
      "text/plain": [
       "\n",
       "Call:  glm(formula = good ~ yards, family = \"binomial\", data = field.goals.forlr)\n",
       "\n",
       "Coefficients:\n",
       "(Intercept)        yards  \n",
       "    5.17886     -0.09726  \n",
       "\n",
       "Degrees of Freedom: 981 Total (i.e. Null);  980 Residual\n",
       "Null Deviance:\t    978.9 \n",
       "Residual Deviance: 861.2 \tAIC: 865.2"
      ]
     },
     "metadata": {},
     "output_type": "display_data"
    }
   ],
   "source": [
    "field.goals.mdl"
   ]
  },
  {
   "cell_type": "code",
   "execution_count": 10,
   "metadata": {},
   "outputs": [
    {
     "data": {
      "text/plain": [
       "\n",
       "Call:\n",
       "glm(formula = good ~ yards, family = \"binomial\", data = field.goals.forlr)\n",
       "\n",
       "Deviance Residuals: \n",
       "    Min       1Q   Median       3Q      Max  \n",
       "-2.5582   0.2916   0.4664   0.6978   1.3789  \n",
       "\n",
       "Coefficients:\n",
       "             Estimate Std. Error z value Pr(>|z|)    \n",
       "(Intercept)  5.178856   0.416201  12.443   <2e-16 ***\n",
       "yards       -0.097261   0.009892  -9.832   <2e-16 ***\n",
       "---\n",
       "Signif. codes:  0 '***' 0.001 '**' 0.01 '*' 0.05 '.' 0.1 ' ' 1\n",
       "\n",
       "(Dispersion parameter for binomial family taken to be 1)\n",
       "\n",
       "    Null deviance: 978.90  on 981  degrees of freedom\n",
       "Residual deviance: 861.22  on 980  degrees of freedom\n",
       "AIC: 865.22\n",
       "\n",
       "Number of Fisher Scoring iterations: 5\n"
      ]
     },
     "metadata": {},
     "output_type": "display_data"
    }
   ],
   "source": [
    "summary(field.goals.mdl)"
   ]
  },
  {
   "cell_type": "code",
   "execution_count": 11,
   "metadata": {},
   "outputs": [
    {
     "data": {
      "image/png": "[encoded data removed]",
      "text/plain": [
       "plot without title"
      ]
     },
     "metadata": {},
     "output_type": "display_data"
    }
   ],
   "source": [
    "plot(colnames(field.goals.table), \n",
    "     field.goals.table['good',] / \n",
    "    (field.goals.table['bad',] + field.goals.table['good',]), \n",
    "    xlab='Distance (Yards)', ylab='Percent Good')\n",
    "fg.prob <- function(y) {\n",
    "    eta <- 5.178856 + -0.097261 * y; \n",
    "    1 / (1 + exp(-eta))\n",
    "}\n",
    "lines(15:65, fg.prob(15:65),new=TRUE)"
   ]
  },
  {
   "cell_type": "code",
   "execution_count": 12,
   "metadata": {},
   "outputs": [],
   "source": [
    "data(spambase)"
   ]
  },
  {
   "cell_type": "code",
   "execution_count": 13,
   "metadata": {},
   "outputs": [
    {
     "data": {
      "text/html": [
       "<table>\n",
       "<thead><tr><th scope=col>word_freq_make</th><th scope=col>word_freq_address</th><th scope=col>word_freq_all</th><th scope=col>word_freq_3d</th><th scope=col>word_freq_our</th><th scope=col>word_freq_over</th><th scope=col>word_freq_remove</th><th scope=col>word_freq_internet</th><th scope=col>word_freq_order</th><th scope=col>word_freq_mail</th><th scope=col>...</th><th scope=col>char_freq_semicolon</th><th scope=col>char_freq_left_paren</th><th scope=col>char_freq_left_bracket</th><th scope=col>char_freq_exclamation</th><th scope=col>char_freq_dollar</th><th scope=col>char_freq_pound</th><th scope=col>capital_run_length_average</th><th scope=col>capital_run_length_longest</th><th scope=col>capital_run_length_total</th><th scope=col>is_spam</th></tr></thead>\n",
       "<tbody>\n",
       "\t<tr><td>0.00  </td><td>0.64  </td><td>0.64  </td><td>0     </td><td>0.32  </td><td>0.00  </td><td>0.00  </td><td>0.00  </td><td>0.00  </td><td>0.00  </td><td>...   </td><td>0.000 </td><td>0.000 </td><td>0.000 </td><td>0.778 </td><td>0.000 </td><td>0.000 </td><td> 3.756</td><td> 61   </td><td> 278  </td><td>1     </td></tr>\n",
       "\t<tr><td>0.21  </td><td>0.28  </td><td>0.50  </td><td>0     </td><td>0.14  </td><td>0.28  </td><td>0.21  </td><td>0.07  </td><td>0.00  </td><td>0.94  </td><td>...   </td><td>0.000 </td><td>0.132 </td><td>0.000 </td><td>0.372 </td><td>0.180 </td><td>0.048 </td><td> 5.114</td><td>101   </td><td>1028  </td><td>1     </td></tr>\n",
       "\t<tr><td>0.06  </td><td>0.00  </td><td>0.71  </td><td>0     </td><td>1.23  </td><td>0.19  </td><td>0.19  </td><td>0.12  </td><td>0.64  </td><td>0.25  </td><td>...   </td><td>0.010 </td><td>0.143 </td><td>0.000 </td><td>0.276 </td><td>0.184 </td><td>0.010 </td><td> 9.821</td><td>485   </td><td>2259  </td><td>1     </td></tr>\n",
       "\t<tr><td>0.00  </td><td>0.00  </td><td>0.00  </td><td>0     </td><td>0.63  </td><td>0.00  </td><td>0.31  </td><td>0.63  </td><td>0.31  </td><td>0.63  </td><td>...   </td><td>0.000 </td><td>0.137 </td><td>0.000 </td><td>0.137 </td><td>0.000 </td><td>0.000 </td><td> 3.537</td><td> 40   </td><td> 191  </td><td>1     </td></tr>\n",
       "\t<tr><td>0.00  </td><td>0.00  </td><td>0.00  </td><td>0     </td><td>0.63  </td><td>0.00  </td><td>0.31  </td><td>0.63  </td><td>0.31  </td><td>0.63  </td><td>...   </td><td>0.000 </td><td>0.135 </td><td>0.000 </td><td>0.135 </td><td>0.000 </td><td>0.000 </td><td> 3.537</td><td> 40   </td><td> 191  </td><td>1     </td></tr>\n",
       "\t<tr><td>0.00  </td><td>0.00  </td><td>0.00  </td><td>0     </td><td>1.85  </td><td>0.00  </td><td>0.00  </td><td>1.85  </td><td>0.00  </td><td>0.00  </td><td>...   </td><td>0.000 </td><td>0.223 </td><td>0.000 </td><td>0.000 </td><td>0.000 </td><td>0.000 </td><td> 3.000</td><td> 15   </td><td>  54  </td><td>1     </td></tr>\n",
       "\t<tr><td>0.00  </td><td>0.00  </td><td>0.00  </td><td>0     </td><td>1.92  </td><td>0.00  </td><td>0.00  </td><td>0.00  </td><td>0.00  </td><td>0.64  </td><td>...   </td><td>0.000 </td><td>0.054 </td><td>0.000 </td><td>0.164 </td><td>0.054 </td><td>0.000 </td><td> 1.671</td><td>  4   </td><td> 112  </td><td>1     </td></tr>\n",
       "\t<tr><td>0.00  </td><td>0.00  </td><td>0.00  </td><td>0     </td><td>1.88  </td><td>0.00  </td><td>0.00  </td><td>1.88  </td><td>0.00  </td><td>0.00  </td><td>...   </td><td>0.000 </td><td>0.206 </td><td>0.000 </td><td>0.000 </td><td>0.000 </td><td>0.000 </td><td> 2.450</td><td> 11   </td><td>  49  </td><td>1     </td></tr>\n",
       "\t<tr><td>0.15  </td><td>0.00  </td><td>0.46  </td><td>0     </td><td>0.61  </td><td>0.00  </td><td>0.30  </td><td>0.00  </td><td>0.92  </td><td>0.76  </td><td>...   </td><td>0.000 </td><td>0.271 </td><td>0.000 </td><td>0.181 </td><td>0.203 </td><td>0.022 </td><td> 9.744</td><td>445   </td><td>1257  </td><td>1     </td></tr>\n",
       "\t<tr><td>0.06  </td><td>0.12  </td><td>0.77  </td><td>0     </td><td>0.19  </td><td>0.32  </td><td>0.38  </td><td>0.00  </td><td>0.06  </td><td>0.00  </td><td>...   </td><td>0.040 </td><td>0.030 </td><td>0.000 </td><td>0.244 </td><td>0.081 </td><td>0.000 </td><td> 1.729</td><td> 43   </td><td> 749  </td><td>1     </td></tr>\n",
       "\t<tr><td>0.00  </td><td>0.00  </td><td>0.00  </td><td>0     </td><td>0.00  </td><td>0.00  </td><td>0.96  </td><td>0.00  </td><td>0.00  </td><td>1.92  </td><td>...   </td><td>0.000 </td><td>0.000 </td><td>0.000 </td><td>0.462 </td><td>0.000 </td><td>0.000 </td><td> 1.312</td><td>  6   </td><td>  21  </td><td>1     </td></tr>\n",
       "\t<tr><td>0.00  </td><td>0.00  </td><td>0.25  </td><td>0     </td><td>0.38  </td><td>0.25  </td><td>0.25  </td><td>0.00  </td><td>0.00  </td><td>0.00  </td><td>...   </td><td>0.022 </td><td>0.044 </td><td>0.000 </td><td>0.663 </td><td>0.000 </td><td>0.000 </td><td> 1.243</td><td> 11   </td><td> 184  </td><td>1     </td></tr>\n",
       "\t<tr><td>0.00  </td><td>0.69  </td><td>0.34  </td><td>0     </td><td>0.34  </td><td>0.00  </td><td>0.00  </td><td>0.00  </td><td>0.00  </td><td>0.00  </td><td>...   </td><td>0.000 </td><td>0.056 </td><td>0.000 </td><td>0.786 </td><td>0.000 </td><td>0.000 </td><td> 3.728</td><td> 61   </td><td> 261  </td><td>1     </td></tr>\n",
       "\t<tr><td>0.00  </td><td>0.00  </td><td>0.00  </td><td>0     </td><td>0.90  </td><td>0.00  </td><td>0.90  </td><td>0.00  </td><td>0.00  </td><td>0.90  </td><td>...   </td><td>0.000 </td><td>0.000 </td><td>0.000 </td><td>0.000 </td><td>0.000 </td><td>0.000 </td><td> 2.083</td><td>  7   </td><td>  25  </td><td>1     </td></tr>\n",
       "\t<tr><td>0.00  </td><td>0.00  </td><td>1.42  </td><td>0     </td><td>0.71  </td><td>0.35  </td><td>0.00  </td><td>0.35  </td><td>0.00  </td><td>0.71  </td><td>...   </td><td>0.000 </td><td>0.102 </td><td>0.000 </td><td>0.357 </td><td>0.000 </td><td>0.000 </td><td> 1.971</td><td> 24   </td><td> 205  </td><td>1     </td></tr>\n",
       "\t<tr><td>0.00  </td><td>0.42  </td><td>0.42  </td><td>0     </td><td>1.27  </td><td>0.00  </td><td>0.42  </td><td>0.00  </td><td>0.00  </td><td>1.27  </td><td>...   </td><td>0.000 </td><td>0.063 </td><td>0.000 </td><td>0.572 </td><td>0.063 </td><td>0.000 </td><td> 5.659</td><td> 55   </td><td> 249  </td><td>1     </td></tr>\n",
       "\t<tr><td>0.00  </td><td>0.00  </td><td>0.00  </td><td>0     </td><td>0.94  </td><td>0.00  </td><td>0.00  </td><td>0.00  </td><td>0.00  </td><td>0.00  </td><td>...   </td><td>0.000 </td><td>0.000 </td><td>0.000 </td><td>0.428 </td><td>0.000 </td><td>0.000 </td><td> 4.652</td><td> 31   </td><td> 107  </td><td>1     </td></tr>\n",
       "\t<tr><td>0.00  </td><td>0.00  </td><td>0.00  </td><td>0     </td><td>0.00  </td><td>0.00  </td><td>0.00  </td><td>0.00  </td><td>0.00  </td><td>0.00  </td><td>...   </td><td>0.000 </td><td>0.000 </td><td>0.000 </td><td>1.975 </td><td>0.370 </td><td>0.000 </td><td>35.461</td><td> 95   </td><td> 461  </td><td>1     </td></tr>\n",
       "\t<tr><td>0.00  </td><td>0.00  </td><td>0.55  </td><td>0     </td><td>1.11  </td><td>0.00  </td><td>0.18  </td><td>0.00  </td><td>0.00  </td><td>0.00  </td><td>...   </td><td>0.000 </td><td>0.182 </td><td>0.000 </td><td>0.455 </td><td>0.000 </td><td>0.000 </td><td> 1.320</td><td>  4   </td><td>  70  </td><td>1     </td></tr>\n",
       "\t<tr><td>0.00  </td><td>0.63  </td><td>0.00  </td><td>0     </td><td>1.59  </td><td>0.31  </td><td>0.00  </td><td>0.00  </td><td>0.31  </td><td>0.00  </td><td>...   </td><td>0.000 </td><td>0.275 </td><td>0.000 </td><td>0.055 </td><td>0.496 </td><td>0.000 </td><td> 3.509</td><td> 91   </td><td> 186  </td><td>1     </td></tr>\n",
       "\t<tr><td>0.00  </td><td>0.00  </td><td>0.00  </td><td>0     </td><td>0.00  </td><td>0.00  </td><td>0.00  </td><td>0.00  </td><td>0.00  </td><td>0.00  </td><td>...   </td><td>0.000 </td><td>0.729 </td><td>0.000 </td><td>0.729 </td><td>0.000 </td><td>0.000 </td><td> 3.833</td><td>  9   </td><td>  23  </td><td>1     </td></tr>\n",
       "\t<tr><td>0.05  </td><td>0.07  </td><td>0.10  </td><td>0     </td><td>0.76  </td><td>0.05  </td><td>0.15  </td><td>0.02  </td><td>0.55  </td><td>0.00  </td><td>...   </td><td>0.042 </td><td>0.101 </td><td>0.016 </td><td>0.250 </td><td>0.046 </td><td>0.059 </td><td> 2.569</td><td> 66   </td><td>2259  </td><td>1     </td></tr>\n",
       "\t<tr><td>0.00  </td><td>0.00  </td><td>0.00  </td><td>0     </td><td>2.94  </td><td>0.00  </td><td>0.00  </td><td>0.00  </td><td>0.00  </td><td>0.00  </td><td>...   </td><td>0.404 </td><td>0.404 </td><td>0.000 </td><td>0.809 </td><td>0.000 </td><td>0.000 </td><td> 4.857</td><td> 12   </td><td>  34  </td><td>1     </td></tr>\n",
       "\t<tr><td>0.00  </td><td>0.00  </td><td>0.00  </td><td>0     </td><td>1.16  </td><td>0.00  </td><td>0.00  </td><td>0.00  </td><td>0.00  </td><td>0.00  </td><td>...   </td><td>0.000 </td><td>0.133 </td><td>0.000 </td><td>0.667 </td><td>0.000 </td><td>0.000 </td><td> 1.131</td><td>  5   </td><td>  69  </td><td>1     </td></tr>\n",
       "\t<tr><td>0.00  </td><td>0.00  </td><td>0.00  </td><td>0     </td><td>0.00  </td><td>0.00  </td><td>0.00  </td><td>0.00  </td><td>0.00  </td><td>0.00  </td><td>...   </td><td>0.000 </td><td>0.196 </td><td>0.000 </td><td>0.392 </td><td>0.196 </td><td>0.000 </td><td> 5.466</td><td> 22   </td><td>  82  </td><td>1     </td></tr>\n",
       "\t<tr><td>0.05  </td><td>0.07  </td><td>0.10  </td><td>0     </td><td>0.76  </td><td>0.05  </td><td>0.15  </td><td>0.02  </td><td>0.55  </td><td>0.00  </td><td>...   </td><td>0.042 </td><td>0.101 </td><td>0.016 </td><td>0.250 </td><td>0.046 </td><td>0.059 </td><td> 2.565</td><td> 66   </td><td>2258  </td><td>1     </td></tr>\n",
       "\t<tr><td>0.00  </td><td>0.00  </td><td>0.00  </td><td>0     </td><td>0.00  </td><td>0.00  </td><td>0.00  </td><td>0.00  </td><td>0.00  </td><td>0.00  </td><td>...   </td><td>0.000 </td><td>0.196 </td><td>0.000 </td><td>0.392 </td><td>0.196 </td><td>0.000 </td><td> 5.466</td><td> 22   </td><td>  82  </td><td>1     </td></tr>\n",
       "\t<tr><td>0.00  </td><td>0.00  </td><td>0.00  </td><td>0     </td><td>0.00  </td><td>0.00  </td><td>1.66  </td><td>0.00  </td><td>0.00  </td><td>0.00  </td><td>...   </td><td>0.000 </td><td>0.000 </td><td>0.000 </td><td>0.368 </td><td>0.000 </td><td>0.000 </td><td> 2.611</td><td> 12   </td><td>  47  </td><td>1     </td></tr>\n",
       "\t<tr><td>0.00  </td><td>0.00  </td><td>0.00  </td><td>0     </td><td>0.00  </td><td>0.00  </td><td>0.00  </td><td>0.00  </td><td>0.00  </td><td>0.00  </td><td>...   </td><td>0.000 </td><td>0.352 </td><td>0.000 </td><td>0.352 </td><td>0.000 </td><td>0.000 </td><td> 4.000</td><td> 11   </td><td>  36  </td><td>1     </td></tr>\n",
       "\t<tr><td>0.00  </td><td>0.00  </td><td>0.00  </td><td>0     </td><td>0.65  </td><td>0.00  </td><td>0.65  </td><td>0.00  </td><td>0.00  </td><td>0.00  </td><td>...   </td><td>0.000 </td><td>0.459 </td><td>0.000 </td><td>0.091 </td><td>0.000 </td><td>0.000 </td><td> 2.687</td><td> 66   </td><td> 129  </td><td>1     </td></tr>\n",
       "\t<tr><td>...</td><td>...</td><td>...</td><td>...</td><td>...</td><td>...</td><td>...</td><td>...</td><td>...</td><td>...</td><td>   </td><td>...</td><td>...</td><td>...</td><td>...</td><td>...</td><td>...</td><td>...</td><td>...</td><td>...</td><td>...</td></tr>\n",
       "\t<tr><td>0.00 </td><td>0.00 </td><td>0.46 </td><td>0    </td><td>0.23 </td><td>0.23 </td><td>0    </td><td>0    </td><td>0    </td><td>0.00 </td><td>...  </td><td>0.000</td><td>0.082</td><td>0.000</td><td>0.082</td><td>0.000</td><td>0.000</td><td>1.256</td><td> 5   </td><td>  98 </td><td>0    </td></tr>\n",
       "\t<tr><td>0.00 </td><td>0.00 </td><td>0.00 </td><td>0    </td><td>0.00 </td><td>0.00 </td><td>0    </td><td>0    </td><td>0    </td><td>0.00 </td><td>...  </td><td>0.000</td><td>0.254</td><td>0.000</td><td>0.000</td><td>0.000</td><td>0.000</td><td>1.000</td><td> 1   </td><td>  13 </td><td>0    </td></tr>\n",
       "\t<tr><td>0.00 </td><td>0.00 </td><td>0.18 </td><td>0    </td><td>0.18 </td><td>0.18 </td><td>0    </td><td>0    </td><td>0    </td><td>0.00 </td><td>...  </td><td>0.033</td><td>0.033</td><td>0.000</td><td>0.099</td><td>0.000</td><td>0.000</td><td>1.489</td><td>11   </td><td> 137 </td><td>0    </td></tr>\n",
       "\t<tr><td>0.29 </td><td>0.00 </td><td>0.29 </td><td>0    </td><td>0.00 </td><td>0.00 </td><td>0    </td><td>0    </td><td>0    </td><td>0.29 </td><td>...  </td><td>0.000</td><td>0.107</td><td>0.000</td><td>0.000</td><td>0.000</td><td>0.000</td><td>1.220</td><td> 6   </td><td>  61 </td><td>0    </td></tr>\n",
       "\t<tr><td>0.00 </td><td>0.00 </td><td>0.00 </td><td>0    </td><td>0.00 </td><td>0.00 </td><td>0    </td><td>0    </td><td>0    </td><td>1.38 </td><td>...  </td><td>0.000</td><td>0.213</td><td>0.000</td><td>0.000</td><td>0.000</td><td>0.000</td><td>1.720</td><td>11   </td><td>  43 </td><td>0    </td></tr>\n",
       "\t<tr><td>0.00 </td><td>0.00 </td><td>0.00 </td><td>0    </td><td>0.00 </td><td>0.00 </td><td>0    </td><td>0    </td><td>0    </td><td>0.00 </td><td>...  </td><td>0.000</td><td>0.131</td><td>0.000</td><td>0.000</td><td>0.000</td><td>0.000</td><td>1.488</td><td> 5   </td><td>  64 </td><td>0    </td></tr>\n",
       "\t<tr><td>0.00 </td><td>0.00 </td><td>1.20 </td><td>0    </td><td>0.00 </td><td>0.00 </td><td>0    </td><td>0    </td><td>0    </td><td>0.00 </td><td>...  </td><td>0.000</td><td>0.000</td><td>0.000</td><td>0.000</td><td>0.000</td><td>0.000</td><td>1.200</td><td> 3   </td><td>  24 </td><td>0    </td></tr>\n",
       "\t<tr><td>0.00 </td><td>0.00 </td><td>0.40 </td><td>0    </td><td>0.00 </td><td>0.00 </td><td>0    </td><td>0    </td><td>0    </td><td>0.00 </td><td>...  </td><td>0.000</td><td>0.000</td><td>0.145</td><td>0.000</td><td>0.000</td><td>0.000</td><td>1.372</td><td> 5   </td><td>  70 </td><td>0    </td></tr>\n",
       "\t<tr><td>0.27 </td><td>0.05 </td><td>0.10 </td><td>0    </td><td>0.00 </td><td>0.00 </td><td>0    </td><td>0    </td><td>0    </td><td>0.00 </td><td>...  </td><td>0.607</td><td>0.064</td><td>0.036</td><td>0.055</td><td>0.000</td><td>0.202</td><td>3.766</td><td>43   </td><td>1789 </td><td>0    </td></tr>\n",
       "\t<tr><td>0.00 </td><td>0.00 </td><td>0.00 </td><td>0    </td><td>0.00 </td><td>0.00 </td><td>0    </td><td>0    </td><td>0    </td><td>0.00 </td><td>...  </td><td>0.000</td><td>0.000</td><td>0.000</td><td>0.000</td><td>0.000</td><td>0.000</td><td>1.571</td><td> 5   </td><td>  11 </td><td>0    </td></tr>\n",
       "\t<tr><td>0.00 </td><td>0.00 </td><td>0.00 </td><td>0    </td><td>0.00 </td><td>0.51 </td><td>0    </td><td>0    </td><td>0    </td><td>0.00 </td><td>...  </td><td>0.000</td><td>0.091</td><td>0.000</td><td>0.091</td><td>0.000</td><td>0.000</td><td>1.586</td><td> 4   </td><td>  46 </td><td>0    </td></tr>\n",
       "\t<tr><td>0.00 </td><td>0.00 </td><td>0.00 </td><td>0    </td><td>0.00 </td><td>0.00 </td><td>0    </td><td>0    </td><td>0    </td><td>0.00 </td><td>...  </td><td>0.000</td><td>0.000</td><td>0.000</td><td>0.000</td><td>0.000</td><td>0.000</td><td>1.266</td><td> 3   </td><td>  19 </td><td>0    </td></tr>\n",
       "\t<tr><td>0.00 </td><td>0.00 </td><td>1.23 </td><td>0    </td><td>0.00 </td><td>0.00 </td><td>0    </td><td>0    </td><td>0    </td><td>0.00 </td><td>...  </td><td>0.000</td><td>0.000</td><td>0.406</td><td>0.000</td><td>0.000</td><td>0.000</td><td>1.666</td><td>13   </td><td>  70 </td><td>0    </td></tr>\n",
       "\t<tr><td>0.00 </td><td>0.00 </td><td>0.45 </td><td>0    </td><td>0.00 </td><td>0.22 </td><td>0    </td><td>0    </td><td>0    </td><td>0.00 </td><td>...  </td><td>0.000</td><td>0.082</td><td>0.000</td><td>0.041</td><td>0.000</td><td>0.000</td><td>1.500</td><td> 7   </td><td> 123 </td><td>0    </td></tr>\n",
       "\t<tr><td>0.00 </td><td>0.00 </td><td>0.00 </td><td>0    </td><td>0.00 </td><td>0.00 </td><td>0    </td><td>0    </td><td>0    </td><td>0.00 </td><td>...  </td><td>0.000</td><td>0.625</td><td>0.000</td><td>0.000</td><td>0.000</td><td>0.000</td><td>1.375</td><td> 4   </td><td>  11 </td><td>0    </td></tr>\n",
       "\t<tr><td>0.00 </td><td>0.00 </td><td>0.00 </td><td>0    </td><td>0.36 </td><td>0.00 </td><td>0    </td><td>0    </td><td>0    </td><td>0.00 </td><td>...  </td><td>0.000</td><td>0.112</td><td>0.000</td><td>0.000</td><td>0.000</td><td>0.056</td><td>1.793</td><td>21   </td><td> 174 </td><td>0    </td></tr>\n",
       "\t<tr><td>0.00 </td><td>0.00 </td><td>0.00 </td><td>0    </td><td>0.00 </td><td>0.00 </td><td>0    </td><td>0    </td><td>0    </td><td>0.00 </td><td>...  </td><td>0.000</td><td>0.125</td><td>0.000</td><td>0.000</td><td>0.125</td><td>0.000</td><td>1.272</td><td> 4   </td><td>  28 </td><td>0    </td></tr>\n",
       "\t<tr><td>0.00 </td><td>0.00 </td><td>3.03 </td><td>0    </td><td>0.00 </td><td>0.00 </td><td>0    </td><td>0    </td><td>0    </td><td>0.00 </td><td>...  </td><td>0.000</td><td>0.000</td><td>0.000</td><td>0.000</td><td>0.000</td><td>0.000</td><td>1.111</td><td> 2   </td><td>  10 </td><td>0    </td></tr>\n",
       "\t<tr><td>0.00 </td><td>0.00 </td><td>0.00 </td><td>0    </td><td>0.54 </td><td>0.00 </td><td>0    </td><td>0    </td><td>0    </td><td>0.00 </td><td>...  </td><td>0.000</td><td>0.000</td><td>0.000</td><td>0.000</td><td>0.000</td><td>0.000</td><td>1.000</td><td> 1   </td><td>  22 </td><td>0    </td></tr>\n",
       "\t<tr><td>0.00 </td><td>0.00 </td><td>0.00 </td><td>0    </td><td>0.00 </td><td>0.00 </td><td>0    </td><td>0    </td><td>0    </td><td>0.00 </td><td>...  </td><td>0.000</td><td>0.185</td><td>0.000</td><td>0.000</td><td>0.000</td><td>0.092</td><td>2.468</td><td>11   </td><td>  79 </td><td>0    </td></tr>\n",
       "\t<tr><td>0.00 </td><td>0.00 </td><td>0.00 </td><td>0    </td><td>0.00 </td><td>0.00 </td><td>0    </td><td>0    </td><td>0    </td><td>0.00 </td><td>...  </td><td>0.000</td><td>0.000</td><td>0.000</td><td>0.000</td><td>0.000</td><td>0.000</td><td>1.000</td><td> 1   </td><td>   8 </td><td>0    </td></tr>\n",
       "\t<tr><td>0.00 </td><td>0.00 </td><td>1.25 </td><td>0    </td><td>2.50 </td><td>0.00 </td><td>0    </td><td>0    </td><td>0    </td><td>0.00 </td><td>...  </td><td>0.000</td><td>0.111</td><td>0.000</td><td>0.000</td><td>0.000</td><td>0.000</td><td>1.285</td><td> 4   </td><td>  27 </td><td>0    </td></tr>\n",
       "\t<tr><td>0.00 </td><td>0.00 </td><td>0.00 </td><td>0    </td><td>0.00 </td><td>0.00 </td><td>0    </td><td>0    </td><td>0    </td><td>0.00 </td><td>...  </td><td>0.000</td><td>0.000</td><td>0.000</td><td>1.052</td><td>0.000</td><td>0.000</td><td>1.000</td><td> 1   </td><td>   6 </td><td>0    </td></tr>\n",
       "\t<tr><td>0.00 </td><td>0.00 </td><td>0.00 </td><td>0    </td><td>0.00 </td><td>0.00 </td><td>0    </td><td>0    </td><td>0    </td><td>0.00 </td><td>...  </td><td>0.000</td><td>0.630</td><td>0.000</td><td>0.000</td><td>0.000</td><td>0.000</td><td>1.727</td><td> 5   </td><td>  19 </td><td>0    </td></tr>\n",
       "\t<tr><td>0.00 </td><td>0.00 </td><td>1.19 </td><td>0    </td><td>0.00 </td><td>0.00 </td><td>0    </td><td>0    </td><td>0    </td><td>0.00 </td><td>...  </td><td>0.000</td><td>0.000</td><td>0.000</td><td>0.000</td><td>0.000</td><td>0.000</td><td>1.000</td><td> 1   </td><td>  24 </td><td>0    </td></tr>\n",
       "\t<tr><td>0.31 </td><td>0.00 </td><td>0.62 </td><td>0    </td><td>0.00 </td><td>0.31 </td><td>0    </td><td>0    </td><td>0    </td><td>0.00 </td><td>...  </td><td>0.000</td><td>0.232</td><td>0.000</td><td>0.000</td><td>0.000</td><td>0.000</td><td>1.142</td><td> 3   </td><td>  88 </td><td>0    </td></tr>\n",
       "\t<tr><td>0.00 </td><td>0.00 </td><td>0.00 </td><td>0    </td><td>0.00 </td><td>0.00 </td><td>0    </td><td>0    </td><td>0    </td><td>0.00 </td><td>...  </td><td>0.000</td><td>0.000</td><td>0.000</td><td>0.353</td><td>0.000</td><td>0.000</td><td>1.555</td><td> 4   </td><td>  14 </td><td>0    </td></tr>\n",
       "\t<tr><td>0.30 </td><td>0.00 </td><td>0.30 </td><td>0    </td><td>0.00 </td><td>0.00 </td><td>0    </td><td>0    </td><td>0    </td><td>0.00 </td><td>...  </td><td>0.102</td><td>0.718</td><td>0.000</td><td>0.000</td><td>0.000</td><td>0.000</td><td>1.404</td><td> 6   </td><td> 118 </td><td>0    </td></tr>\n",
       "\t<tr><td>0.96 </td><td>0.00 </td><td>0.00 </td><td>0    </td><td>0.32 </td><td>0.00 </td><td>0    </td><td>0    </td><td>0    </td><td>0.00 </td><td>...  </td><td>0.000</td><td>0.057</td><td>0.000</td><td>0.000</td><td>0.000</td><td>0.000</td><td>1.147</td><td> 5   </td><td>  78 </td><td>0    </td></tr>\n",
       "\t<tr><td>0.00 </td><td>0.00 </td><td>0.65 </td><td>0    </td><td>0.00 </td><td>0.00 </td><td>0    </td><td>0    </td><td>0    </td><td>0.00 </td><td>...  </td><td>0.000</td><td>0.000</td><td>0.000</td><td>0.125</td><td>0.000</td><td>0.000</td><td>1.250</td><td> 5   </td><td>  40 </td><td>0    </td></tr>\n",
       "</tbody>\n",
       "</table>\n"
      ],
      "text/latex": [
       "\\begin{tabular}{r|llllllllllllllllllllllllllllllllllllllllllllllllllllllllll}\n",
       " word\\_freq\\_make & word\\_freq\\_address & word\\_freq\\_all & word\\_freq\\_3d & word\\_freq\\_our & word\\_freq\\_over & word\\_freq\\_remove & word\\_freq\\_internet & word\\_freq\\_order & word\\_freq\\_mail & ... & char\\_freq\\_semicolon & char\\_freq\\_left\\_paren & char\\_freq\\_left\\_bracket & char\\_freq\\_exclamation & char\\_freq\\_dollar & char\\_freq\\_pound & capital\\_run\\_length\\_average & capital\\_run\\_length\\_longest & capital\\_run\\_length\\_total & is\\_spam\\\\\n",
       "\\hline\n",
       "\t 0.00   & 0.64   & 0.64   & 0      & 0.32   & 0.00   & 0.00   & 0.00   & 0.00   & 0.00   & ...    & 0.000  & 0.000  & 0.000  & 0.778  & 0.000  & 0.000  &  3.756 &  61    &  278   & 1     \\\\\n",
       "\t 0.21   & 0.28   & 0.50   & 0      & 0.14   & 0.28   & 0.21   & 0.07   & 0.00   & 0.94   & ...    & 0.000  & 0.132  & 0.000  & 0.372  & 0.180  & 0.048  &  5.114 & 101    & 1028   & 1     \\\\\n",
       "\t 0.06   & 0.00   & 0.71   & 0      & 1.23   & 0.19   & 0.19   & 0.12   & 0.64   & 0.25   & ...    & 0.010  & 0.143  & 0.000  & 0.276  & 0.184  & 0.010  &  9.821 & 485    & 2259   & 1     \\\\\n",
       "\t 0.00   & 0.00   & 0.00   & 0      & 0.63   & 0.00   & 0.31   & 0.63   & 0.31   & 0.63   & ...    & 0.000  & 0.137  & 0.000  & 0.137  & 0.000  & 0.000  &  3.537 &  40    &  191   & 1     \\\\\n",
       "\t 0.00   & 0.00   & 0.00   & 0      & 0.63   & 0.00   & 0.31   & 0.63   & 0.31   & 0.63   & ...    & 0.000  & 0.135  & 0.000  & 0.135  & 0.000  & 0.000  &  3.537 &  40    &  191   & 1     \\\\\n",
       "\t 0.00   & 0.00   & 0.00   & 0      & 1.85   & 0.00   & 0.00   & 1.85   & 0.00   & 0.00   & ...    & 0.000  & 0.223  & 0.000  & 0.000  & 0.000  & 0.000  &  3.000 &  15    &   54   & 1     \\\\\n",
       "\t 0.00   & 0.00   & 0.00   & 0      & 1.92   & 0.00   & 0.00   & 0.00   & 0.00   & 0.64   & ...    & 0.000  & 0.054  & 0.000  & 0.164  & 0.054  & 0.000  &  1.671 &   4    &  112   & 1     \\\\\n",
       "\t 0.00   & 0.00   & 0.00   & 0      & 1.88   & 0.00   & 0.00   & 1.88   & 0.00   & 0.00   & ...    & 0.000  & 0.206  & 0.000  & 0.000  & 0.000  & 0.000  &  2.450 &  11    &   49   & 1     \\\\\n",
       "\t 0.15   & 0.00   & 0.46   & 0      & 0.61   & 0.00   & 0.30   & 0.00   & 0.92   & 0.76   & ...    & 0.000  & 0.271  & 0.000  & 0.181  & 0.203  & 0.022  &  9.744 & 445    & 1257   & 1     \\\\\n",
       "\t 0.06   & 0.12   & 0.77   & 0      & 0.19   & 0.32   & 0.38   & 0.00   & 0.06   & 0.00   & ...    & 0.040  & 0.030  & 0.000  & 0.244  & 0.081  & 0.000  &  1.729 &  43    &  749   & 1     \\\\\n",
       "\t 0.00   & 0.00   & 0.00   & 0      & 0.00   & 0.00   & 0.96   & 0.00   & 0.00   & 1.92   & ...    & 0.000  & 0.000  & 0.000  & 0.462  & 0.000  & 0.000  &  1.312 &   6    &   21   & 1     \\\\\n",
       "\t 0.00   & 0.00   & 0.25   & 0      & 0.38   & 0.25   & 0.25   & 0.00   & 0.00   & 0.00   & ...    & 0.022  & 0.044  & 0.000  & 0.663  & 0.000  & 0.000  &  1.243 &  11    &  184   & 1     \\\\\n",
       "\t 0.00   & 0.69   & 0.34   & 0      & 0.34   & 0.00   & 0.00   & 0.00   & 0.00   & 0.00   & ...    & 0.000  & 0.056  & 0.000  & 0.786  & 0.000  & 0.000  &  3.728 &  61    &  261   & 1     \\\\\n",
       "\t 0.00   & 0.00   & 0.00   & 0      & 0.90   & 0.00   & 0.90   & 0.00   & 0.00   & 0.90   & ...    & 0.000  & 0.000  & 0.000  & 0.000  & 0.000  & 0.000  &  2.083 &   7    &   25   & 1     \\\\\n",
       "\t 0.00   & 0.00   & 1.42   & 0      & 0.71   & 0.35   & 0.00   & 0.35   & 0.00   & 0.71   & ...    & 0.000  & 0.102  & 0.000  & 0.357  & 0.000  & 0.000  &  1.971 &  24    &  205   & 1     \\\\\n",
       "\t 0.00   & 0.42   & 0.42   & 0      & 1.27   & 0.00   & 0.42   & 0.00   & 0.00   & 1.27   & ...    & 0.000  & 0.063  & 0.000  & 0.572  & 0.063  & 0.000  &  5.659 &  55    &  249   & 1     \\\\\n",
       "\t 0.00   & 0.00   & 0.00   & 0      & 0.94   & 0.00   & 0.00   & 0.00   & 0.00   & 0.00   & ...    & 0.000  & 0.000  & 0.000  & 0.428  & 0.000  & 0.000  &  4.652 &  31    &  107   & 1     \\\\\n",
       "\t 0.00   & 0.00   & 0.00   & 0      & 0.00   & 0.00   & 0.00   & 0.00   & 0.00   & 0.00   & ...    & 0.000  & 0.000  & 0.000  & 1.975  & 0.370  & 0.000  & 35.461 &  95    &  461   & 1     \\\\\n",
       "\t 0.00   & 0.00   & 0.55   & 0      & 1.11   & 0.00   & 0.18   & 0.00   & 0.00   & 0.00   & ...    & 0.000  & 0.182  & 0.000  & 0.455  & 0.000  & 0.000  &  1.320 &   4    &   70   & 1     \\\\\n",
       "\t 0.00   & 0.63   & 0.00   & 0      & 1.59   & 0.31   & 0.00   & 0.00   & 0.31   & 0.00   & ...    & 0.000  & 0.275  & 0.000  & 0.055  & 0.496  & 0.000  &  3.509 &  91    &  186   & 1     \\\\\n",
       "\t 0.00   & 0.00   & 0.00   & 0      & 0.00   & 0.00   & 0.00   & 0.00   & 0.00   & 0.00   & ...    & 0.000  & 0.729  & 0.000  & 0.729  & 0.000  & 0.000  &  3.833 &   9    &   23   & 1     \\\\\n",
       "\t 0.05   & 0.07   & 0.10   & 0      & 0.76   & 0.05   & 0.15   & 0.02   & 0.55   & 0.00   & ...    & 0.042  & 0.101  & 0.016  & 0.250  & 0.046  & 0.059  &  2.569 &  66    & 2259   & 1     \\\\\n",
       "\t 0.00   & 0.00   & 0.00   & 0      & 2.94   & 0.00   & 0.00   & 0.00   & 0.00   & 0.00   & ...    & 0.404  & 0.404  & 0.000  & 0.809  & 0.000  & 0.000  &  4.857 &  12    &   34   & 1     \\\\\n",
       "\t 0.00   & 0.00   & 0.00   & 0      & 1.16   & 0.00   & 0.00   & 0.00   & 0.00   & 0.00   & ...    & 0.000  & 0.133  & 0.000  & 0.667  & 0.000  & 0.000  &  1.131 &   5    &   69   & 1     \\\\\n",
       "\t 0.00   & 0.00   & 0.00   & 0      & 0.00   & 0.00   & 0.00   & 0.00   & 0.00   & 0.00   & ...    & 0.000  & 0.196  & 0.000  & 0.392  & 0.196  & 0.000  &  5.466 &  22    &   82   & 1     \\\\\n",
       "\t 0.05   & 0.07   & 0.10   & 0      & 0.76   & 0.05   & 0.15   & 0.02   & 0.55   & 0.00   & ...    & 0.042  & 0.101  & 0.016  & 0.250  & 0.046  & 0.059  &  2.565 &  66    & 2258   & 1     \\\\\n",
       "\t 0.00   & 0.00   & 0.00   & 0      & 0.00   & 0.00   & 0.00   & 0.00   & 0.00   & 0.00   & ...    & 0.000  & 0.196  & 0.000  & 0.392  & 0.196  & 0.000  &  5.466 &  22    &   82   & 1     \\\\\n",
       "\t 0.00   & 0.00   & 0.00   & 0      & 0.00   & 0.00   & 1.66   & 0.00   & 0.00   & 0.00   & ...    & 0.000  & 0.000  & 0.000  & 0.368  & 0.000  & 0.000  &  2.611 &  12    &   47   & 1     \\\\\n",
       "\t 0.00   & 0.00   & 0.00   & 0      & 0.00   & 0.00   & 0.00   & 0.00   & 0.00   & 0.00   & ...    & 0.000  & 0.352  & 0.000  & 0.352  & 0.000  & 0.000  &  4.000 &  11    &   36   & 1     \\\\\n",
       "\t 0.00   & 0.00   & 0.00   & 0      & 0.65   & 0.00   & 0.65   & 0.00   & 0.00   & 0.00   & ...    & 0.000  & 0.459  & 0.000  & 0.091  & 0.000  & 0.000  &  2.687 &  66    &  129   & 1     \\\\\n",
       "\t ... & ... & ... & ... & ... & ... & ... & ... & ... & ... &     & ... & ... & ... & ... & ... & ... & ... & ... & ... & ...\\\\\n",
       "\t 0.00  & 0.00  & 0.46  & 0     & 0.23  & 0.23  & 0     & 0     & 0     & 0.00  & ...   & 0.000 & 0.082 & 0.000 & 0.082 & 0.000 & 0.000 & 1.256 &  5    &   98  & 0    \\\\\n",
       "\t 0.00  & 0.00  & 0.00  & 0     & 0.00  & 0.00  & 0     & 0     & 0     & 0.00  & ...   & 0.000 & 0.254 & 0.000 & 0.000 & 0.000 & 0.000 & 1.000 &  1    &   13  & 0    \\\\\n",
       "\t 0.00  & 0.00  & 0.18  & 0     & 0.18  & 0.18  & 0     & 0     & 0     & 0.00  & ...   & 0.033 & 0.033 & 0.000 & 0.099 & 0.000 & 0.000 & 1.489 & 11    &  137  & 0    \\\\\n",
       "\t 0.29  & 0.00  & 0.29  & 0     & 0.00  & 0.00  & 0     & 0     & 0     & 0.29  & ...   & 0.000 & 0.107 & 0.000 & 0.000 & 0.000 & 0.000 & 1.220 &  6    &   61  & 0    \\\\\n",
       "\t 0.00  & 0.00  & 0.00  & 0     & 0.00  & 0.00  & 0     & 0     & 0     & 1.38  & ...   & 0.000 & 0.213 & 0.000 & 0.000 & 0.000 & 0.000 & 1.720 & 11    &   43  & 0    \\\\\n",
       "\t 0.00  & 0.00  & 0.00  & 0     & 0.00  & 0.00  & 0     & 0     & 0     & 0.00  & ...   & 0.000 & 0.131 & 0.000 & 0.000 & 0.000 & 0.000 & 1.488 &  5    &   64  & 0    \\\\\n",
       "\t 0.00  & 0.00  & 1.20  & 0     & 0.00  & 0.00  & 0     & 0     & 0     & 0.00  & ...   & 0.000 & 0.000 & 0.000 & 0.000 & 0.000 & 0.000 & 1.200 &  3    &   24  & 0    \\\\\n",
       "\t 0.00  & 0.00  & 0.40  & 0     & 0.00  & 0.00  & 0     & 0     & 0     & 0.00  & ...   & 0.000 & 0.000 & 0.145 & 0.000 & 0.000 & 0.000 & 1.372 &  5    &   70  & 0    \\\\\n",
       "\t 0.27  & 0.05  & 0.10  & 0     & 0.00  & 0.00  & 0     & 0     & 0     & 0.00  & ...   & 0.607 & 0.064 & 0.036 & 0.055 & 0.000 & 0.202 & 3.766 & 43    & 1789  & 0    \\\\\n",
       "\t 0.00  & 0.00  & 0.00  & 0     & 0.00  & 0.00  & 0     & 0     & 0     & 0.00  & ...   & 0.000 & 0.000 & 0.000 & 0.000 & 0.000 & 0.000 & 1.571 &  5    &   11  & 0    \\\\\n",
       "\t 0.00  & 0.00  & 0.00  & 0     & 0.00  & 0.51  & 0     & 0     & 0     & 0.00  & ...   & 0.000 & 0.091 & 0.000 & 0.091 & 0.000 & 0.000 & 1.586 &  4    &   46  & 0    \\\\\n",
       "\t 0.00  & 0.00  & 0.00  & 0     & 0.00  & 0.00  & 0     & 0     & 0     & 0.00  & ...   & 0.000 & 0.000 & 0.000 & 0.000 & 0.000 & 0.000 & 1.266 &  3    &   19  & 0    \\\\\n",
       "\t 0.00  & 0.00  & 1.23  & 0     & 0.00  & 0.00  & 0     & 0     & 0     & 0.00  & ...   & 0.000 & 0.000 & 0.406 & 0.000 & 0.000 & 0.000 & 1.666 & 13    &   70  & 0    \\\\\n",
       "\t 0.00  & 0.00  & 0.45  & 0     & 0.00  & 0.22  & 0     & 0     & 0     & 0.00  & ...   & 0.000 & 0.082 & 0.000 & 0.041 & 0.000 & 0.000 & 1.500 &  7    &  123  & 0    \\\\\n",
       "\t 0.00  & 0.00  & 0.00  & 0     & 0.00  & 0.00  & 0     & 0     & 0     & 0.00  & ...   & 0.000 & 0.625 & 0.000 & 0.000 & 0.000 & 0.000 & 1.375 &  4    &   11  & 0    \\\\\n",
       "\t 0.00  & 0.00  & 0.00  & 0     & 0.36  & 0.00  & 0     & 0     & 0     & 0.00  & ...   & 0.000 & 0.112 & 0.000 & 0.000 & 0.000 & 0.056 & 1.793 & 21    &  174  & 0    \\\\\n",
       "\t 0.00  & 0.00  & 0.00  & 0     & 0.00  & 0.00  & 0     & 0     & 0     & 0.00  & ...   & 0.000 & 0.125 & 0.000 & 0.000 & 0.125 & 0.000 & 1.272 &  4    &   28  & 0    \\\\\n",
       "\t 0.00  & 0.00  & 3.03  & 0     & 0.00  & 0.00  & 0     & 0     & 0     & 0.00  & ...   & 0.000 & 0.000 & 0.000 & 0.000 & 0.000 & 0.000 & 1.111 &  2    &   10  & 0    \\\\\n",
       "\t 0.00  & 0.00  & 0.00  & 0     & 0.54  & 0.00  & 0     & 0     & 0     & 0.00  & ...   & 0.000 & 0.000 & 0.000 & 0.000 & 0.000 & 0.000 & 1.000 &  1    &   22  & 0    \\\\\n",
       "\t 0.00  & 0.00  & 0.00  & 0     & 0.00  & 0.00  & 0     & 0     & 0     & 0.00  & ...   & 0.000 & 0.185 & 0.000 & 0.000 & 0.000 & 0.092 & 2.468 & 11    &   79  & 0    \\\\\n",
       "\t 0.00  & 0.00  & 0.00  & 0     & 0.00  & 0.00  & 0     & 0     & 0     & 0.00  & ...   & 0.000 & 0.000 & 0.000 & 0.000 & 0.000 & 0.000 & 1.000 &  1    &    8  & 0    \\\\\n",
       "\t 0.00  & 0.00  & 1.25  & 0     & 2.50  & 0.00  & 0     & 0     & 0     & 0.00  & ...   & 0.000 & 0.111 & 0.000 & 0.000 & 0.000 & 0.000 & 1.285 &  4    &   27  & 0    \\\\\n",
       "\t 0.00  & 0.00  & 0.00  & 0     & 0.00  & 0.00  & 0     & 0     & 0     & 0.00  & ...   & 0.000 & 0.000 & 0.000 & 1.052 & 0.000 & 0.000 & 1.000 &  1    &    6  & 0    \\\\\n",
       "\t 0.00  & 0.00  & 0.00  & 0     & 0.00  & 0.00  & 0     & 0     & 0     & 0.00  & ...   & 0.000 & 0.630 & 0.000 & 0.000 & 0.000 & 0.000 & 1.727 &  5    &   19  & 0    \\\\\n",
       "\t 0.00  & 0.00  & 1.19  & 0     & 0.00  & 0.00  & 0     & 0     & 0     & 0.00  & ...   & 0.000 & 0.000 & 0.000 & 0.000 & 0.000 & 0.000 & 1.000 &  1    &   24  & 0    \\\\\n",
       "\t 0.31  & 0.00  & 0.62  & 0     & 0.00  & 0.31  & 0     & 0     & 0     & 0.00  & ...   & 0.000 & 0.232 & 0.000 & 0.000 & 0.000 & 0.000 & 1.142 &  3    &   88  & 0    \\\\\n",
       "\t 0.00  & 0.00  & 0.00  & 0     & 0.00  & 0.00  & 0     & 0     & 0     & 0.00  & ...   & 0.000 & 0.000 & 0.000 & 0.353 & 0.000 & 0.000 & 1.555 &  4    &   14  & 0    \\\\\n",
       "\t 0.30  & 0.00  & 0.30  & 0     & 0.00  & 0.00  & 0     & 0     & 0     & 0.00  & ...   & 0.102 & 0.718 & 0.000 & 0.000 & 0.000 & 0.000 & 1.404 &  6    &  118  & 0    \\\\\n",
       "\t 0.96  & 0.00  & 0.00  & 0     & 0.32  & 0.00  & 0     & 0     & 0     & 0.00  & ...   & 0.000 & 0.057 & 0.000 & 0.000 & 0.000 & 0.000 & 1.147 &  5    &   78  & 0    \\\\\n",
       "\t 0.00  & 0.00  & 0.65  & 0     & 0.00  & 0.00  & 0     & 0     & 0     & 0.00  & ...   & 0.000 & 0.000 & 0.000 & 0.125 & 0.000 & 0.000 & 1.250 &  5    &   40  & 0    \\\\\n",
       "\\end{tabular}\n"
      ],
      "text/markdown": [
       "\n",
       "word_freq_make | word_freq_address | word_freq_all | word_freq_3d | word_freq_our | word_freq_over | word_freq_remove | word_freq_internet | word_freq_order | word_freq_mail | ... | char_freq_semicolon | char_freq_left_paren | char_freq_left_bracket | char_freq_exclamation | char_freq_dollar | char_freq_pound | capital_run_length_average | capital_run_length_longest | capital_run_length_total | is_spam | \n",
       "|---|---|---|---|---|---|---|---|---|---|---|---|---|---|---|---|---|---|---|---|---|---|---|---|---|---|---|---|---|---|---|---|---|---|---|---|---|---|---|---|---|---|---|---|---|---|---|---|---|---|---|---|---|---|---|---|---|---|---|---|---|\n",
       "| 0.00   | 0.64   | 0.64   | 0      | 0.32   | 0.00   | 0.00   | 0.00   | 0.00   | 0.00   | ...    | 0.000  | 0.000  | 0.000  | 0.778  | 0.000  | 0.000  |  3.756 |  61    |  278   | 1      | \n",
       "| 0.21   | 0.28   | 0.50   | 0      | 0.14   | 0.28   | 0.21   | 0.07   | 0.00   | 0.94   | ...    | 0.000  | 0.132  | 0.000  | 0.372  | 0.180  | 0.048  |  5.114 | 101    | 1028   | 1      | \n",
       "| 0.06   | 0.00   | 0.71   | 0      | 1.23   | 0.19   | 0.19   | 0.12   | 0.64   | 0.25   | ...    | 0.010  | 0.143  | 0.000  | 0.276  | 0.184  | 0.010  |  9.821 | 485    | 2259   | 1      | \n",
       "| 0.00   | 0.00   | 0.00   | 0      | 0.63   | 0.00   | 0.31   | 0.63   | 0.31   | 0.63   | ...    | 0.000  | 0.137  | 0.000  | 0.137  | 0.000  | 0.000  |  3.537 |  40    |  191   | 1      | \n",
       "| 0.00   | 0.00   | 0.00   | 0      | 0.63   | 0.00   | 0.31   | 0.63   | 0.31   | 0.63   | ...    | 0.000  | 0.135  | 0.000  | 0.135  | 0.000  | 0.000  |  3.537 |  40    |  191   | 1      | \n",
       "| 0.00   | 0.00   | 0.00   | 0      | 1.85   | 0.00   | 0.00   | 1.85   | 0.00   | 0.00   | ...    | 0.000  | 0.223  | 0.000  | 0.000  | 0.000  | 0.000  |  3.000 |  15    |   54   | 1      | \n",
       "| 0.00   | 0.00   | 0.00   | 0      | 1.92   | 0.00   | 0.00   | 0.00   | 0.00   | 0.64   | ...    | 0.000  | 0.054  | 0.000  | 0.164  | 0.054  | 0.000  |  1.671 |   4    |  112   | 1      | \n",
       "| 0.00   | 0.00   | 0.00   | 0      | 1.88   | 0.00   | 0.00   | 1.88   | 0.00   | 0.00   | ...    | 0.000  | 0.206  | 0.000  | 0.000  | 0.000  | 0.000  |  2.450 |  11    |   49   | 1      | \n",
       "| 0.15   | 0.00   | 0.46   | 0      | 0.61   | 0.00   | 0.30   | 0.00   | 0.92   | 0.76   | ...    | 0.000  | 0.271  | 0.000  | 0.181  | 0.203  | 0.022  |  9.744 | 445    | 1257   | 1      | \n",
       "| 0.06   | 0.12   | 0.77   | 0      | 0.19   | 0.32   | 0.38   | 0.00   | 0.06   | 0.00   | ...    | 0.040  | 0.030  | 0.000  | 0.244  | 0.081  | 0.000  |  1.729 |  43    |  749   | 1      | \n",
       "| 0.00   | 0.00   | 0.00   | 0      | 0.00   | 0.00   | 0.96   | 0.00   | 0.00   | 1.92   | ...    | 0.000  | 0.000  | 0.000  | 0.462  | 0.000  | 0.000  |  1.312 |   6    |   21   | 1      | \n",
       "| 0.00   | 0.00   | 0.25   | 0      | 0.38   | 0.25   | 0.25   | 0.00   | 0.00   | 0.00   | ...    | 0.022  | 0.044  | 0.000  | 0.663  | 0.000  | 0.000  |  1.243 |  11    |  184   | 1      | \n",
       "| 0.00   | 0.69   | 0.34   | 0      | 0.34   | 0.00   | 0.00   | 0.00   | 0.00   | 0.00   | ...    | 0.000  | 0.056  | 0.000  | 0.786  | 0.000  | 0.000  |  3.728 |  61    |  261   | 1      | \n",
       "| 0.00   | 0.00   | 0.00   | 0      | 0.90   | 0.00   | 0.90   | 0.00   | 0.00   | 0.90   | ...    | 0.000  | 0.000  | 0.000  | 0.000  | 0.000  | 0.000  |  2.083 |   7    |   25   | 1      | \n",
       "| 0.00   | 0.00   | 1.42   | 0      | 0.71   | 0.35   | 0.00   | 0.35   | 0.00   | 0.71   | ...    | 0.000  | 0.102  | 0.000  | 0.357  | 0.000  | 0.000  |  1.971 |  24    |  205   | 1      | \n",
       "| 0.00   | 0.42   | 0.42   | 0      | 1.27   | 0.00   | 0.42   | 0.00   | 0.00   | 1.27   | ...    | 0.000  | 0.063  | 0.000  | 0.572  | 0.063  | 0.000  |  5.659 |  55    |  249   | 1      | \n",
       "| 0.00   | 0.00   | 0.00   | 0      | 0.94   | 0.00   | 0.00   | 0.00   | 0.00   | 0.00   | ...    | 0.000  | 0.000  | 0.000  | 0.428  | 0.000  | 0.000  |  4.652 |  31    |  107   | 1      | \n",
       "| 0.00   | 0.00   | 0.00   | 0      | 0.00   | 0.00   | 0.00   | 0.00   | 0.00   | 0.00   | ...    | 0.000  | 0.000  | 0.000  | 1.975  | 0.370  | 0.000  | 35.461 |  95    |  461   | 1      | \n",
       "| 0.00   | 0.00   | 0.55   | 0      | 1.11   | 0.00   | 0.18   | 0.00   | 0.00   | 0.00   | ...    | 0.000  | 0.182  | 0.000  | 0.455  | 0.000  | 0.000  |  1.320 |   4    |   70   | 1      | \n",
       "| 0.00   | 0.63   | 0.00   | 0      | 1.59   | 0.31   | 0.00   | 0.00   | 0.31   | 0.00   | ...    | 0.000  | 0.275  | 0.000  | 0.055  | 0.496  | 0.000  |  3.509 |  91    |  186   | 1      | \n",
       "| 0.00   | 0.00   | 0.00   | 0      | 0.00   | 0.00   | 0.00   | 0.00   | 0.00   | 0.00   | ...    | 0.000  | 0.729  | 0.000  | 0.729  | 0.000  | 0.000  |  3.833 |   9    |   23   | 1      | \n",
       "| 0.05   | 0.07   | 0.10   | 0      | 0.76   | 0.05   | 0.15   | 0.02   | 0.55   | 0.00   | ...    | 0.042  | 0.101  | 0.016  | 0.250  | 0.046  | 0.059  |  2.569 |  66    | 2259   | 1      | \n",
       "| 0.00   | 0.00   | 0.00   | 0      | 2.94   | 0.00   | 0.00   | 0.00   | 0.00   | 0.00   | ...    | 0.404  | 0.404  | 0.000  | 0.809  | 0.000  | 0.000  |  4.857 |  12    |   34   | 1      | \n",
       "| 0.00   | 0.00   | 0.00   | 0      | 1.16   | 0.00   | 0.00   | 0.00   | 0.00   | 0.00   | ...    | 0.000  | 0.133  | 0.000  | 0.667  | 0.000  | 0.000  |  1.131 |   5    |   69   | 1      | \n",
       "| 0.00   | 0.00   | 0.00   | 0      | 0.00   | 0.00   | 0.00   | 0.00   | 0.00   | 0.00   | ...    | 0.000  | 0.196  | 0.000  | 0.392  | 0.196  | 0.000  |  5.466 |  22    |   82   | 1      | \n",
       "| 0.05   | 0.07   | 0.10   | 0      | 0.76   | 0.05   | 0.15   | 0.02   | 0.55   | 0.00   | ...    | 0.042  | 0.101  | 0.016  | 0.250  | 0.046  | 0.059  |  2.565 |  66    | 2258   | 1      | \n",
       "| 0.00   | 0.00   | 0.00   | 0      | 0.00   | 0.00   | 0.00   | 0.00   | 0.00   | 0.00   | ...    | 0.000  | 0.196  | 0.000  | 0.392  | 0.196  | 0.000  |  5.466 |  22    |   82   | 1      | \n",
       "| 0.00   | 0.00   | 0.00   | 0      | 0.00   | 0.00   | 1.66   | 0.00   | 0.00   | 0.00   | ...    | 0.000  | 0.000  | 0.000  | 0.368  | 0.000  | 0.000  |  2.611 |  12    |   47   | 1      | \n",
       "| 0.00   | 0.00   | 0.00   | 0      | 0.00   | 0.00   | 0.00   | 0.00   | 0.00   | 0.00   | ...    | 0.000  | 0.352  | 0.000  | 0.352  | 0.000  | 0.000  |  4.000 |  11    |   36   | 1      | \n",
       "| 0.00   | 0.00   | 0.00   | 0      | 0.65   | 0.00   | 0.65   | 0.00   | 0.00   | 0.00   | ...    | 0.000  | 0.459  | 0.000  | 0.091  | 0.000  | 0.000  |  2.687 |  66    |  129   | 1      | \n",
       "| ... | ... | ... | ... | ... | ... | ... | ... | ... | ... |     | ... | ... | ... | ... | ... | ... | ... | ... | ... | ... | \n",
       "| 0.00  | 0.00  | 0.46  | 0     | 0.23  | 0.23  | 0     | 0     | 0     | 0.00  | ...   | 0.000 | 0.082 | 0.000 | 0.082 | 0.000 | 0.000 | 1.256 |  5    |   98  | 0     | \n",
       "| 0.00  | 0.00  | 0.00  | 0     | 0.00  | 0.00  | 0     | 0     | 0     | 0.00  | ...   | 0.000 | 0.254 | 0.000 | 0.000 | 0.000 | 0.000 | 1.000 |  1    |   13  | 0     | \n",
       "| 0.00  | 0.00  | 0.18  | 0     | 0.18  | 0.18  | 0     | 0     | 0     | 0.00  | ...   | 0.033 | 0.033 | 0.000 | 0.099 | 0.000 | 0.000 | 1.489 | 11    |  137  | 0     | \n",
       "| 0.29  | 0.00  | 0.29  | 0     | 0.00  | 0.00  | 0     | 0     | 0     | 0.29  | ...   | 0.000 | 0.107 | 0.000 | 0.000 | 0.000 | 0.000 | 1.220 |  6    |   61  | 0     | \n",
       "| 0.00  | 0.00  | 0.00  | 0     | 0.00  | 0.00  | 0     | 0     | 0     | 1.38  | ...   | 0.000 | 0.213 | 0.000 | 0.000 | 0.000 | 0.000 | 1.720 | 11    |   43  | 0     | \n",
       "| 0.00  | 0.00  | 0.00  | 0     | 0.00  | 0.00  | 0     | 0     | 0     | 0.00  | ...   | 0.000 | 0.131 | 0.000 | 0.000 | 0.000 | 0.000 | 1.488 |  5    |   64  | 0     | \n",
       "| 0.00  | 0.00  | 1.20  | 0     | 0.00  | 0.00  | 0     | 0     | 0     | 0.00  | ...   | 0.000 | 0.000 | 0.000 | 0.000 | 0.000 | 0.000 | 1.200 |  3    |   24  | 0     | \n",
       "| 0.00  | 0.00  | 0.40  | 0     | 0.00  | 0.00  | 0     | 0     | 0     | 0.00  | ...   | 0.000 | 0.000 | 0.145 | 0.000 | 0.000 | 0.000 | 1.372 |  5    |   70  | 0     | \n",
       "| 0.27  | 0.05  | 0.10  | 0     | 0.00  | 0.00  | 0     | 0     | 0     | 0.00  | ...   | 0.607 | 0.064 | 0.036 | 0.055 | 0.000 | 0.202 | 3.766 | 43    | 1789  | 0     | \n",
       "| 0.00  | 0.00  | 0.00  | 0     | 0.00  | 0.00  | 0     | 0     | 0     | 0.00  | ...   | 0.000 | 0.000 | 0.000 | 0.000 | 0.000 | 0.000 | 1.571 |  5    |   11  | 0     | \n",
       "| 0.00  | 0.00  | 0.00  | 0     | 0.00  | 0.51  | 0     | 0     | 0     | 0.00  | ...   | 0.000 | 0.091 | 0.000 | 0.091 | 0.000 | 0.000 | 1.586 |  4    |   46  | 0     | \n",
       "| 0.00  | 0.00  | 0.00  | 0     | 0.00  | 0.00  | 0     | 0     | 0     | 0.00  | ...   | 0.000 | 0.000 | 0.000 | 0.000 | 0.000 | 0.000 | 1.266 |  3    |   19  | 0     | \n",
       "| 0.00  | 0.00  | 1.23  | 0     | 0.00  | 0.00  | 0     | 0     | 0     | 0.00  | ...   | 0.000 | 0.000 | 0.406 | 0.000 | 0.000 | 0.000 | 1.666 | 13    |   70  | 0     | \n",
       "| 0.00  | 0.00  | 0.45  | 0     | 0.00  | 0.22  | 0     | 0     | 0     | 0.00  | ...   | 0.000 | 0.082 | 0.000 | 0.041 | 0.000 | 0.000 | 1.500 |  7    |  123  | 0     | \n",
       "| 0.00  | 0.00  | 0.00  | 0     | 0.00  | 0.00  | 0     | 0     | 0     | 0.00  | ...   | 0.000 | 0.625 | 0.000 | 0.000 | 0.000 | 0.000 | 1.375 |  4    |   11  | 0     | \n",
       "| 0.00  | 0.00  | 0.00  | 0     | 0.36  | 0.00  | 0     | 0     | 0     | 0.00  | ...   | 0.000 | 0.112 | 0.000 | 0.000 | 0.000 | 0.056 | 1.793 | 21    |  174  | 0     | \n",
       "| 0.00  | 0.00  | 0.00  | 0     | 0.00  | 0.00  | 0     | 0     | 0     | 0.00  | ...   | 0.000 | 0.125 | 0.000 | 0.000 | 0.125 | 0.000 | 1.272 |  4    |   28  | 0     | \n",
       "| 0.00  | 0.00  | 3.03  | 0     | 0.00  | 0.00  | 0     | 0     | 0     | 0.00  | ...   | 0.000 | 0.000 | 0.000 | 0.000 | 0.000 | 0.000 | 1.111 |  2    |   10  | 0     | \n",
       "| 0.00  | 0.00  | 0.00  | 0     | 0.54  | 0.00  | 0     | 0     | 0     | 0.00  | ...   | 0.000 | 0.000 | 0.000 | 0.000 | 0.000 | 0.000 | 1.000 |  1    |   22  | 0     | \n",
       "| 0.00  | 0.00  | 0.00  | 0     | 0.00  | 0.00  | 0     | 0     | 0     | 0.00  | ...   | 0.000 | 0.185 | 0.000 | 0.000 | 0.000 | 0.092 | 2.468 | 11    |   79  | 0     | \n",
       "| 0.00  | 0.00  | 0.00  | 0     | 0.00  | 0.00  | 0     | 0     | 0     | 0.00  | ...   | 0.000 | 0.000 | 0.000 | 0.000 | 0.000 | 0.000 | 1.000 |  1    |    8  | 0     | \n",
       "| 0.00  | 0.00  | 1.25  | 0     | 2.50  | 0.00  | 0     | 0     | 0     | 0.00  | ...   | 0.000 | 0.111 | 0.000 | 0.000 | 0.000 | 0.000 | 1.285 |  4    |   27  | 0     | \n",
       "| 0.00  | 0.00  | 0.00  | 0     | 0.00  | 0.00  | 0     | 0     | 0     | 0.00  | ...   | 0.000 | 0.000 | 0.000 | 1.052 | 0.000 | 0.000 | 1.000 |  1    |    6  | 0     | \n",
       "| 0.00  | 0.00  | 0.00  | 0     | 0.00  | 0.00  | 0     | 0     | 0     | 0.00  | ...   | 0.000 | 0.630 | 0.000 | 0.000 | 0.000 | 0.000 | 1.727 |  5    |   19  | 0     | \n",
       "| 0.00  | 0.00  | 1.19  | 0     | 0.00  | 0.00  | 0     | 0     | 0     | 0.00  | ...   | 0.000 | 0.000 | 0.000 | 0.000 | 0.000 | 0.000 | 1.000 |  1    |   24  | 0     | \n",
       "| 0.31  | 0.00  | 0.62  | 0     | 0.00  | 0.31  | 0     | 0     | 0     | 0.00  | ...   | 0.000 | 0.232 | 0.000 | 0.000 | 0.000 | 0.000 | 1.142 |  3    |   88  | 0     | \n",
       "| 0.00  | 0.00  | 0.00  | 0     | 0.00  | 0.00  | 0     | 0     | 0     | 0.00  | ...   | 0.000 | 0.000 | 0.000 | 0.353 | 0.000 | 0.000 | 1.555 |  4    |   14  | 0     | \n",
       "| 0.30  | 0.00  | 0.30  | 0     | 0.00  | 0.00  | 0     | 0     | 0     | 0.00  | ...   | 0.102 | 0.718 | 0.000 | 0.000 | 0.000 | 0.000 | 1.404 |  6    |  118  | 0     | \n",
       "| 0.96  | 0.00  | 0.00  | 0     | 0.32  | 0.00  | 0     | 0     | 0     | 0.00  | ...   | 0.000 | 0.057 | 0.000 | 0.000 | 0.000 | 0.000 | 1.147 |  5    |   78  | 0     | \n",
       "| 0.00  | 0.00  | 0.65  | 0     | 0.00  | 0.00  | 0     | 0     | 0     | 0.00  | ...   | 0.000 | 0.000 | 0.000 | 0.125 | 0.000 | 0.000 | 1.250 |  5    |   40  | 0     | \n",
       "\n",
       "\n"
      ],
      "text/plain": [
       "     word_freq_make word_freq_address word_freq_all word_freq_3d word_freq_our\n",
       "1    0.00           0.64              0.64          0            0.32         \n",
       "2    0.21           0.28              0.50          0            0.14         \n",
       "3    0.06           0.00              0.71          0            1.23         \n",
       "4    0.00           0.00              0.00          0            0.63         \n",
       "5    0.00           0.00              0.00          0            0.63         \n",
       "6    0.00           0.00              0.00          0            1.85         \n",
       "7    0.00           0.00              0.00          0            1.92         \n",
       "8    0.00           0.00              0.00          0            1.88         \n",
       "9    0.15           0.00              0.46          0            0.61         \n",
       "10   0.06           0.12              0.77          0            0.19         \n",
       "11   0.00           0.00              0.00          0            0.00         \n",
       "12   0.00           0.00              0.25          0            0.38         \n",
       "13   0.00           0.69              0.34          0            0.34         \n",
       "14   0.00           0.00              0.00          0            0.90         \n",
       "15   0.00           0.00              1.42          0            0.71         \n",
       "16   0.00           0.42              0.42          0            1.27         \n",
       "17   0.00           0.00              0.00          0            0.94         \n",
       "18   0.00           0.00              0.00          0            0.00         \n",
       "19   0.00           0.00              0.55          0            1.11         \n",
       "20   0.00           0.63              0.00          0            1.59         \n",
       "21   0.00           0.00              0.00          0            0.00         \n",
       "22   0.05           0.07              0.10          0            0.76         \n",
       "23   0.00           0.00              0.00          0            2.94         \n",
       "24   0.00           0.00              0.00          0            1.16         \n",
       "25   0.00           0.00              0.00          0            0.00         \n",
       "26   0.05           0.07              0.10          0            0.76         \n",
       "27   0.00           0.00              0.00          0            0.00         \n",
       "28   0.00           0.00              0.00          0            0.00         \n",
       "29   0.00           0.00              0.00          0            0.00         \n",
       "30   0.00           0.00              0.00          0            0.65         \n",
       "...  ...            ...               ...           ...          ...          \n",
       "4572 0.00           0.00              0.46          0            0.23         \n",
       "4573 0.00           0.00              0.00          0            0.00         \n",
       "4574 0.00           0.00              0.18          0            0.18         \n",
       "4575 0.29           0.00              0.29          0            0.00         \n",
       "4576 0.00           0.00              0.00          0            0.00         \n",
       "4577 0.00           0.00              0.00          0            0.00         \n",
       "4578 0.00           0.00              1.20          0            0.00         \n",
       "4579 0.00           0.00              0.40          0            0.00         \n",
       "4580 0.27           0.05              0.10          0            0.00         \n",
       "4581 0.00           0.00              0.00          0            0.00         \n",
       "4582 0.00           0.00              0.00          0            0.00         \n",
       "4583 0.00           0.00              0.00          0            0.00         \n",
       "4584 0.00           0.00              1.23          0            0.00         \n",
       "4585 0.00           0.00              0.45          0            0.00         \n",
       "4586 0.00           0.00              0.00          0            0.00         \n",
       "4587 0.00           0.00              0.00          0            0.36         \n",
       "4588 0.00           0.00              0.00          0            0.00         \n",
       "4589 0.00           0.00              3.03          0            0.00         \n",
       "4590 0.00           0.00              0.00          0            0.54         \n",
       "4591 0.00           0.00              0.00          0            0.00         \n",
       "4592 0.00           0.00              0.00          0            0.00         \n",
       "4593 0.00           0.00              1.25          0            2.50         \n",
       "4594 0.00           0.00              0.00          0            0.00         \n",
       "4595 0.00           0.00              0.00          0            0.00         \n",
       "4596 0.00           0.00              1.19          0            0.00         \n",
       "4597 0.31           0.00              0.62          0            0.00         \n",
       "4598 0.00           0.00              0.00          0            0.00         \n",
       "4599 0.30           0.00              0.30          0            0.00         \n",
       "4600 0.96           0.00              0.00          0            0.32         \n",
       "4601 0.00           0.00              0.65          0            0.00         \n",
       "     word_freq_over word_freq_remove word_freq_internet word_freq_order\n",
       "1    0.00           0.00             0.00               0.00           \n",
       "2    0.28           0.21             0.07               0.00           \n",
       "3    0.19           0.19             0.12               0.64           \n",
       "4    0.00           0.31             0.63               0.31           \n",
       "5    0.00           0.31             0.63               0.31           \n",
       "6    0.00           0.00             1.85               0.00           \n",
       "7    0.00           0.00             0.00               0.00           \n",
       "8    0.00           0.00             1.88               0.00           \n",
       "9    0.00           0.30             0.00               0.92           \n",
       "10   0.32           0.38             0.00               0.06           \n",
       "11   0.00           0.96             0.00               0.00           \n",
       "12   0.25           0.25             0.00               0.00           \n",
       "13   0.00           0.00             0.00               0.00           \n",
       "14   0.00           0.90             0.00               0.00           \n",
       "15   0.35           0.00             0.35               0.00           \n",
       "16   0.00           0.42             0.00               0.00           \n",
       "17   0.00           0.00             0.00               0.00           \n",
       "18   0.00           0.00             0.00               0.00           \n",
       "19   0.00           0.18             0.00               0.00           \n",
       "20   0.31           0.00             0.00               0.31           \n",
       "21   0.00           0.00             0.00               0.00           \n",
       "22   0.05           0.15             0.02               0.55           \n",
       "23   0.00           0.00             0.00               0.00           \n",
       "24   0.00           0.00             0.00               0.00           \n",
       "25   0.00           0.00             0.00               0.00           \n",
       "26   0.05           0.15             0.02               0.55           \n",
       "27   0.00           0.00             0.00               0.00           \n",
       "28   0.00           1.66             0.00               0.00           \n",
       "29   0.00           0.00             0.00               0.00           \n",
       "30   0.00           0.65             0.00               0.00           \n",
       "...  ...            ...              ...                ...            \n",
       "4572 0.23           0                0                  0              \n",
       "4573 0.00           0                0                  0              \n",
       "4574 0.18           0                0                  0              \n",
       "4575 0.00           0                0                  0              \n",
       "4576 0.00           0                0                  0              \n",
       "4577 0.00           0                0                  0              \n",
       "4578 0.00           0                0                  0              \n",
       "4579 0.00           0                0                  0              \n",
       "4580 0.00           0                0                  0              \n",
       "4581 0.00           0                0                  0              \n",
       "4582 0.51           0                0                  0              \n",
       "4583 0.00           0                0                  0              \n",
       "4584 0.00           0                0                  0              \n",
       "4585 0.22           0                0                  0              \n",
       "4586 0.00           0                0                  0              \n",
       "4587 0.00           0                0                  0              \n",
       "4588 0.00           0                0                  0              \n",
       "4589 0.00           0                0                  0              \n",
       "4590 0.00           0                0                  0              \n",
       "4591 0.00           0                0                  0              \n",
       "4592 0.00           0                0                  0              \n",
       "4593 0.00           0                0                  0              \n",
       "4594 0.00           0                0                  0              \n",
       "4595 0.00           0                0                  0              \n",
       "4596 0.00           0                0                  0              \n",
       "4597 0.31           0                0                  0              \n",
       "4598 0.00           0                0                  0              \n",
       "4599 0.00           0                0                  0              \n",
       "4600 0.00           0                0                  0              \n",
       "4601 0.00           0                0                  0              \n",
       "     word_freq_mail ... char_freq_semicolon char_freq_left_paren\n",
       "1    0.00           ... 0.000               0.000               \n",
       "2    0.94           ... 0.000               0.132               \n",
       "3    0.25           ... 0.010               0.143               \n",
       "4    0.63           ... 0.000               0.137               \n",
       "5    0.63           ... 0.000               0.135               \n",
       "6    0.00           ... 0.000               0.223               \n",
       "7    0.64           ... 0.000               0.054               \n",
       "8    0.00           ... 0.000               0.206               \n",
       "9    0.76           ... 0.000               0.271               \n",
       "10   0.00           ... 0.040               0.030               \n",
       "11   1.92           ... 0.000               0.000               \n",
       "12   0.00           ... 0.022               0.044               \n",
       "13   0.00           ... 0.000               0.056               \n",
       "14   0.90           ... 0.000               0.000               \n",
       "15   0.71           ... 0.000               0.102               \n",
       "16   1.27           ... 0.000               0.063               \n",
       "17   0.00           ... 0.000               0.000               \n",
       "18   0.00           ... 0.000               0.000               \n",
       "19   0.00           ... 0.000               0.182               \n",
       "20   0.00           ... 0.000               0.275               \n",
       "21   0.00           ... 0.000               0.729               \n",
       "22   0.00           ... 0.042               0.101               \n",
       "23   0.00           ... 0.404               0.404               \n",
       "24   0.00           ... 0.000               0.133               \n",
       "25   0.00           ... 0.000               0.196               \n",
       "26   0.00           ... 0.042               0.101               \n",
       "27   0.00           ... 0.000               0.196               \n",
       "28   0.00           ... 0.000               0.000               \n",
       "29   0.00           ... 0.000               0.352               \n",
       "30   0.00           ... 0.000               0.459               \n",
       "...  ...                ...                 ...                 \n",
       "4572 0.00           ... 0.000               0.082               \n",
       "4573 0.00           ... 0.000               0.254               \n",
       "4574 0.00           ... 0.033               0.033               \n",
       "4575 0.29           ... 0.000               0.107               \n",
       "4576 1.38           ... 0.000               0.213               \n",
       "4577 0.00           ... 0.000               0.131               \n",
       "4578 0.00           ... 0.000               0.000               \n",
       "4579 0.00           ... 0.000               0.000               \n",
       "4580 0.00           ... 0.607               0.064               \n",
       "4581 0.00           ... 0.000               0.000               \n",
       "4582 0.00           ... 0.000               0.091               \n",
       "4583 0.00           ... 0.000               0.000               \n",
       "4584 0.00           ... 0.000               0.000               \n",
       "4585 0.00           ... 0.000               0.082               \n",
       "4586 0.00           ... 0.000               0.625               \n",
       "4587 0.00           ... 0.000               0.112               \n",
       "4588 0.00           ... 0.000               0.125               \n",
       "4589 0.00           ... 0.000               0.000               \n",
       "4590 0.00           ... 0.000               0.000               \n",
       "4591 0.00           ... 0.000               0.185               \n",
       "4592 0.00           ... 0.000               0.000               \n",
       "4593 0.00           ... 0.000               0.111               \n",
       "4594 0.00           ... 0.000               0.000               \n",
       "4595 0.00           ... 0.000               0.630               \n",
       "4596 0.00           ... 0.000               0.000               \n",
       "4597 0.00           ... 0.000               0.232               \n",
       "4598 0.00           ... 0.000               0.000               \n",
       "4599 0.00           ... 0.102               0.718               \n",
       "4600 0.00           ... 0.000               0.057               \n",
       "4601 0.00           ... 0.000               0.000               \n",
       "     char_freq_left_bracket char_freq_exclamation char_freq_dollar\n",
       "1    0.000                  0.778                 0.000           \n",
       "2    0.000                  0.372                 0.180           \n",
       "3    0.000                  0.276                 0.184           \n",
       "4    0.000                  0.137                 0.000           \n",
       "5    0.000                  0.135                 0.000           \n",
       "6    0.000                  0.000                 0.000           \n",
       "7    0.000                  0.164                 0.054           \n",
       "8    0.000                  0.000                 0.000           \n",
       "9    0.000                  0.181                 0.203           \n",
       "10   0.000                  0.244                 0.081           \n",
       "11   0.000                  0.462                 0.000           \n",
       "12   0.000                  0.663                 0.000           \n",
       "13   0.000                  0.786                 0.000           \n",
       "14   0.000                  0.000                 0.000           \n",
       "15   0.000                  0.357                 0.000           \n",
       "16   0.000                  0.572                 0.063           \n",
       "17   0.000                  0.428                 0.000           \n",
       "18   0.000                  1.975                 0.370           \n",
       "19   0.000                  0.455                 0.000           \n",
       "20   0.000                  0.055                 0.496           \n",
       "21   0.000                  0.729                 0.000           \n",
       "22   0.016                  0.250                 0.046           \n",
       "23   0.000                  0.809                 0.000           \n",
       "24   0.000                  0.667                 0.000           \n",
       "25   0.000                  0.392                 0.196           \n",
       "26   0.016                  0.250                 0.046           \n",
       "27   0.000                  0.392                 0.196           \n",
       "28   0.000                  0.368                 0.000           \n",
       "29   0.000                  0.352                 0.000           \n",
       "30   0.000                  0.091                 0.000           \n",
       "...  ...                    ...                   ...             \n",
       "4572 0.000                  0.082                 0.000           \n",
       "4573 0.000                  0.000                 0.000           \n",
       "4574 0.000                  0.099                 0.000           \n",
       "4575 0.000                  0.000                 0.000           \n",
       "4576 0.000                  0.000                 0.000           \n",
       "4577 0.000                  0.000                 0.000           \n",
       "4578 0.000                  0.000                 0.000           \n",
       "4579 0.145                  0.000                 0.000           \n",
       "4580 0.036                  0.055                 0.000           \n",
       "4581 0.000                  0.000                 0.000           \n",
       "4582 0.000                  0.091                 0.000           \n",
       "4583 0.000                  0.000                 0.000           \n",
       "4584 0.406                  0.000                 0.000           \n",
       "4585 0.000                  0.041                 0.000           \n",
       "4586 0.000                  0.000                 0.000           \n",
       "4587 0.000                  0.000                 0.000           \n",
       "4588 0.000                  0.000                 0.125           \n",
       "4589 0.000                  0.000                 0.000           \n",
       "4590 0.000                  0.000                 0.000           \n",
       "4591 0.000                  0.000                 0.000           \n",
       "4592 0.000                  0.000                 0.000           \n",
       "4593 0.000                  0.000                 0.000           \n",
       "4594 0.000                  1.052                 0.000           \n",
       "4595 0.000                  0.000                 0.000           \n",
       "4596 0.000                  0.000                 0.000           \n",
       "4597 0.000                  0.000                 0.000           \n",
       "4598 0.000                  0.353                 0.000           \n",
       "4599 0.000                  0.000                 0.000           \n",
       "4600 0.000                  0.000                 0.000           \n",
       "4601 0.000                  0.125                 0.000           \n",
       "     char_freq_pound capital_run_length_average capital_run_length_longest\n",
       "1    0.000            3.756                      61                       \n",
       "2    0.048            5.114                     101                       \n",
       "3    0.010            9.821                     485                       \n",
       "4    0.000            3.537                      40                       \n",
       "5    0.000            3.537                      40                       \n",
       "6    0.000            3.000                      15                       \n",
       "7    0.000            1.671                       4                       \n",
       "8    0.000            2.450                      11                       \n",
       "9    0.022            9.744                     445                       \n",
       "10   0.000            1.729                      43                       \n",
       "11   0.000            1.312                       6                       \n",
       "12   0.000            1.243                      11                       \n",
       "13   0.000            3.728                      61                       \n",
       "14   0.000            2.083                       7                       \n",
       "15   0.000            1.971                      24                       \n",
       "16   0.000            5.659                      55                       \n",
       "17   0.000            4.652                      31                       \n",
       "18   0.000           35.461                      95                       \n",
       "19   0.000            1.320                       4                       \n",
       "20   0.000            3.509                      91                       \n",
       "21   0.000            3.833                       9                       \n",
       "22   0.059            2.569                      66                       \n",
       "23   0.000            4.857                      12                       \n",
       "24   0.000            1.131                       5                       \n",
       "25   0.000            5.466                      22                       \n",
       "26   0.059            2.565                      66                       \n",
       "27   0.000            5.466                      22                       \n",
       "28   0.000            2.611                      12                       \n",
       "29   0.000            4.000                      11                       \n",
       "30   0.000            2.687                      66                       \n",
       "...  ...             ...                        ...                       \n",
       "4572 0.000           1.256                       5                        \n",
       "4573 0.000           1.000                       1                        \n",
       "4574 0.000           1.489                      11                        \n",
       "4575 0.000           1.220                       6                        \n",
       "4576 0.000           1.720                      11                        \n",
       "4577 0.000           1.488                       5                        \n",
       "4578 0.000           1.200                       3                        \n",
       "4579 0.000           1.372                       5                        \n",
       "4580 0.202           3.766                      43                        \n",
       "4581 0.000           1.571                       5                        \n",
       "4582 0.000           1.586                       4                        \n",
       "4583 0.000           1.266                       3                        \n",
       "4584 0.000           1.666                      13                        \n",
       "4585 0.000           1.500                       7                        \n",
       "4586 0.000           1.375                       4                        \n",
       "4587 0.056           1.793                      21                        \n",
       "4588 0.000           1.272                       4                        \n",
       "4589 0.000           1.111                       2                        \n",
       "4590 0.000           1.000                       1                        \n",
       "4591 0.092           2.468                      11                        \n",
       "4592 0.000           1.000                       1                        \n",
       "4593 0.000           1.285                       4                        \n",
       "4594 0.000           1.000                       1                        \n",
       "4595 0.000           1.727                       5                        \n",
       "4596 0.000           1.000                       1                        \n",
       "4597 0.000           1.142                       3                        \n",
       "4598 0.000           1.555                       4                        \n",
       "4599 0.000           1.404                       6                        \n",
       "4600 0.000           1.147                       5                        \n",
       "4601 0.000           1.250                       5                        \n",
       "     capital_run_length_total is_spam\n",
       "1     278                     1      \n",
       "2    1028                     1      \n",
       "3    2259                     1      \n",
       "4     191                     1      \n",
       "5     191                     1      \n",
       "6      54                     1      \n",
       "7     112                     1      \n",
       "8      49                     1      \n",
       "9    1257                     1      \n",
       "10    749                     1      \n",
       "11     21                     1      \n",
       "12    184                     1      \n",
       "13    261                     1      \n",
       "14     25                     1      \n",
       "15    205                     1      \n",
       "16    249                     1      \n",
       "17    107                     1      \n",
       "18    461                     1      \n",
       "19     70                     1      \n",
       "20    186                     1      \n",
       "21     23                     1      \n",
       "22   2259                     1      \n",
       "23     34                     1      \n",
       "24     69                     1      \n",
       "25     82                     1      \n",
       "26   2258                     1      \n",
       "27     82                     1      \n",
       "28     47                     1      \n",
       "29     36                     1      \n",
       "30    129                     1      \n",
       "...  ...                      ...    \n",
       "4572   98                     0      \n",
       "4573   13                     0      \n",
       "4574  137                     0      \n",
       "4575   61                     0      \n",
       "4576   43                     0      \n",
       "4577   64                     0      \n",
       "4578   24                     0      \n",
       "4579   70                     0      \n",
       "4580 1789                     0      \n",
       "4581   11                     0      \n",
       "4582   46                     0      \n",
       "4583   19                     0      \n",
       "4584   70                     0      \n",
       "4585  123                     0      \n",
       "4586   11                     0      \n",
       "4587  174                     0      \n",
       "4588   28                     0      \n",
       "4589   10                     0      \n",
       "4590   22                     0      \n",
       "4591   79                     0      \n",
       "4592    8                     0      \n",
       "4593   27                     0      \n",
       "4594    6                     0      \n",
       "4595   19                     0      \n",
       "4596   24                     0      \n",
       "4597   88                     0      \n",
       "4598   14                     0      \n",
       "4599  118                     0      \n",
       "4600   78                     0      \n",
       "4601   40                     0      "
      ]
     },
     "metadata": {},
     "output_type": "display_data"
    }
   ],
   "source": [
    "spambase"
   ]
  },
  {
   "cell_type": "code",
   "execution_count": 24,
   "metadata": {},
   "outputs": [
    {
     "name": "stderr",
     "output_type": "stream",
     "text": [
      "Warning message:\n",
      "\"package 'sampling' is in use and will not be installed\""
     ]
    }
   ],
   "source": [
    "install.packages('sampling')"
   ]
  },
  {
   "cell_type": "code",
   "execution_count": 15,
   "metadata": {},
   "outputs": [],
   "source": [
    "library(sampling)"
   ]
  },
  {
   "cell_type": "code",
   "execution_count": 16,
   "metadata": {},
   "outputs": [
    {
     "data": {
      "text/plain": [
       "\n",
       "   0    1 \n",
       "2788 1813 "
      ]
     },
     "metadata": {},
     "output_type": "display_data"
    }
   ],
   "source": [
    "table(spambase$is_spam)"
   ]
  },
  {
   "cell_type": "code",
   "execution_count": 17,
   "metadata": {},
   "outputs": [],
   "source": [
    "spambase.strata <- strata(spambase, stratanames = c('is_spam'), size=c(1269, 1951), method='srswor')"
   ]
  },
  {
   "cell_type": "code",
   "execution_count": 18,
   "metadata": {},
   "outputs": [
    {
     "data": {
      "text/html": [
       "<ol class=list-inline>\n",
       "\t<li>'is_spam'</li>\n",
       "\t<li>'ID_unit'</li>\n",
       "\t<li>'Prob'</li>\n",
       "\t<li>'Stratum'</li>\n",
       "</ol>\n"
      ],
      "text/latex": [
       "\\begin{enumerate*}\n",
       "\\item 'is\\_spam'\n",
       "\\item 'ID\\_unit'\n",
       "\\item 'Prob'\n",
       "\\item 'Stratum'\n",
       "\\end{enumerate*}\n"
      ],
      "text/markdown": [
       "1. 'is_spam'\n",
       "2. 'ID_unit'\n",
       "3. 'Prob'\n",
       "4. 'Stratum'\n",
       "\n",
       "\n"
      ],
      "text/plain": [
       "[1] \"is_spam\" \"ID_unit\" \"Prob\"    \"Stratum\""
      ]
     },
     "metadata": {},
     "output_type": "display_data"
    }
   ],
   "source": [
    "names(spambase.strata)"
   ]
  },
  {
   "cell_type": "code",
   "execution_count": 19,
   "metadata": {},
   "outputs": [],
   "source": [
    "spambase.training <- spambase[rownames(spambase) %in% spambase.strata$ID_unit,]"
   ]
  },
  {
   "cell_type": "code",
   "execution_count": 20,
   "metadata": {},
   "outputs": [],
   "source": [
    "spambase.validation <- spambase[!(rownames(spambase) %in% spambase.strata$ID_unit),]"
   ]
  },
  {
   "cell_type": "code",
   "execution_count": 21,
   "metadata": {},
   "outputs": [
    {
     "data": {
      "text/html": [
       "3220"
      ],
      "text/latex": [
       "3220"
      ],
      "text/markdown": [
       "3220"
      ],
      "text/plain": [
       "[1] 3220"
      ]
     },
     "metadata": {},
     "output_type": "display_data"
    }
   ],
   "source": [
    "nrow(spambase.training)"
   ]
  },
  {
   "cell_type": "code",
   "execution_count": 22,
   "metadata": {},
   "outputs": [
    {
     "data": {
      "text/html": [
       "1381"
      ],
      "text/latex": [
       "1381"
      ],
      "text/markdown": [
       "1381"
      ],
      "text/plain": [
       "[1] 1381"
      ]
     },
     "metadata": {},
     "output_type": "display_data"
    }
   ],
   "source": [
    "nrow(spambase.validation)"
   ]
  },
  {
   "cell_type": "code",
   "execution_count": 23,
   "metadata": {},
   "outputs": [],
   "source": [
    "library(MASS)"
   ]
  },
  {
   "cell_type": "code",
   "execution_count": 26,
   "metadata": {},
   "outputs": [],
   "source": [
    "library(class)\n",
    "spambase.knn <- knn(train=spambase.training, test=spambase.validation,cl=spambase.training$is_spam)"
   ]
  },
  {
   "cell_type": "code",
   "execution_count": 27,
   "metadata": {},
   "outputs": [
    {
     "data": {
      "text/html": [
       "<dl class=dl-horizontal>\n",
       "\t<dt>0</dt>\n",
       "\t\t<dd>844</dd>\n",
       "\t<dt>1</dt>\n",
       "\t\t<dd>537</dd>\n",
       "</dl>\n"
      ],
      "text/latex": [
       "\\begin{description*}\n",
       "\\item[0] 844\n",
       "\\item[1] 537\n",
       "\\end{description*}\n"
      ],
      "text/markdown": [
       "0\n",
       ":   8441\n",
       ":   537\n",
       "\n"
      ],
      "text/plain": [
       "  0   1 \n",
       "844 537 "
      ]
     },
     "metadata": {},
     "output_type": "display_data"
    }
   ],
   "source": [
    "summary(spambase.knn)"
   ]
  },
  {
   "cell_type": "code",
   "execution_count": 28,
   "metadata": {},
   "outputs": [
    {
     "data": {
      "text/plain": [
       "         actual\n",
       "predicted   0   1\n",
       "        0 720 124\n",
       "        1 117 420"
      ]
     },
     "metadata": {},
     "output_type": "display_data"
    }
   ],
   "source": [
    "table(predicted=spambase.knn, actual=spambase.validation$is_spam)"
   ]
  },
  {
   "cell_type": "code",
   "execution_count": 29,
   "metadata": {},
   "outputs": [],
   "source": [
    "spambase.knn <- knn(train=spambase.training, test=spambase.validation,cl=spambase.training$is_spam, k = 5)"
   ]
  },
  {
   "cell_type": "code",
   "execution_count": 30,
   "metadata": {},
   "outputs": [
    {
     "data": {
      "text/html": [
       "<dl class=dl-horizontal>\n",
       "\t<dt>0</dt>\n",
       "\t\t<dd>815</dd>\n",
       "\t<dt>1</dt>\n",
       "\t\t<dd>566</dd>\n",
       "</dl>\n"
      ],
      "text/latex": [
       "\\begin{description*}\n",
       "\\item[0] 815\n",
       "\\item[1] 566\n",
       "\\end{description*}\n"
      ],
      "text/markdown": [
       "0\n",
       ":   8151\n",
       ":   566\n",
       "\n"
      ],
      "text/plain": [
       "  0   1 \n",
       "815 566 "
      ]
     },
     "metadata": {},
     "output_type": "display_data"
    }
   ],
   "source": [
    "summary(spambase.knn)"
   ]
  },
  {
   "cell_type": "code",
   "execution_count": 31,
   "metadata": {},
   "outputs": [
    {
     "data": {
      "text/plain": [
       "         actual\n",
       "predicted   0   1\n",
       "        0 688 127\n",
       "        1 149 417"
      ]
     },
     "metadata": {},
     "output_type": "display_data"
    }
   ],
   "source": [
    "table(predicted=spambase.knn, actual=spambase.validation$is_spam)"
   ]
  },
  {
   "cell_type": "code",
   "execution_count": 33,
   "metadata": {},
   "outputs": [],
   "source": [
    "library(rpart)\n",
    "spam.tree <- rpart(is_spam~.,data=spambase.training)"
   ]
  },
  {
   "cell_type": "code",
   "execution_count": 34,
   "metadata": {},
   "outputs": [
    {
     "data": {
      "text/plain": [
       "n= 3220 \n",
       "\n",
       "node), split, n, loss, yval, (yprob)\n",
       "      * denotes terminal node\n",
       "\n",
       " 1) root 3220 1269 0 (0.60590062 0.39409938)  \n",
       "   2) char_freq_dollar< 0.0555 2426  567 0 (0.76628195 0.23371805)  \n",
       "     4) word_freq_remove< 0.06 2198  362 0 (0.83530482 0.16469518)  \n",
       "       8) char_freq_exclamation< 0.5085 1982  221 0 (0.88849647 0.11150353) *\n",
       "       9) char_freq_exclamation>=0.5085 216   75 1 (0.34722222 0.65277778)  \n",
       "        18) capital_run_length_total< 22.5 54    8 0 (0.85185185 0.14814815) *\n",
       "        19) capital_run_length_total>=22.5 162   29 1 (0.17901235 0.82098765) *\n",
       "     5) word_freq_remove>=0.06 228   23 1 (0.10087719 0.89912281) *\n",
       "   3) char_freq_dollar>=0.0555 794   92 1 (0.11586902 0.88413098)  \n",
       "     6) word_freq_hp>=0.405 46    4 0 (0.91304348 0.08695652) *\n",
       "     7) word_freq_hp< 0.405 748   50 1 (0.06684492 0.93315508)  \n",
       "      14) word_freq_edu>=0.49 13    0 0 (1.00000000 0.00000000) *\n",
       "      15) word_freq_edu< 0.49 735   37 1 (0.05034014 0.94965986) *"
      ]
     },
     "metadata": {},
     "output_type": "display_data"
    }
   ],
   "source": [
    "spam.tree"
   ]
  },
  {
   "cell_type": "code",
   "execution_count": 35,
   "metadata": {},
   "outputs": [
    {
     "name": "stdout",
     "output_type": "stream",
     "text": [
      "\n",
      "Classification tree:\n",
      "rpart(formula = is_spam ~ ., data = spambase.training)\n",
      "\n",
      "Variables actually used in tree construction:\n",
      "[1] capital_run_length_total char_freq_dollar         char_freq_exclamation   \n",
      "[4] word_freq_edu            word_freq_hp             word_freq_remove        \n",
      "\n",
      "Root node error: 1269/3220 = 0.3941\n",
      "\n",
      "n= 3220 \n",
      "\n",
      "        CP nsplit rel error  xerror     xstd\n",
      "1 0.480693      0   1.00000 1.00000 0.021851\n",
      "2 0.143420      1   0.51931 0.52640 0.018132\n",
      "3 0.052009      2   0.37589 0.38455 0.016035\n",
      "4 0.029945      3   0.32388 0.35619 0.015533\n",
      "5 0.010244      5   0.26399 0.27581 0.013918\n",
      "6 0.010000      6   0.25374 0.26714 0.013724\n"
     ]
    }
   ],
   "source": [
    "printcp(spam.tree)"
   ]
  },
  {
   "cell_type": "code",
   "execution_count": 36,
   "metadata": {},
   "outputs": [
    {
     "data": {
      "image/png": "[encoded data removed]",
      "text/plain": [
       "plot without title"
      ]
     },
     "metadata": {},
     "output_type": "display_data"
    }
   ],
   "source": [
    "plot(spam.tree, uniform = TRUE)\n",
    "text(spam.tree, all = TRUE, cex = .75, splits = TRUE, use.n = TRUE, xpd=TRUE)"
   ]
  },
  {
   "cell_type": "code",
   "execution_count": 38,
   "metadata": {},
   "outputs": [
    {
     "name": "stdout",
     "output_type": "stream",
     "text": [
      "package 'maptree' successfully unpacked and MD5 sums checked\n",
      "\n",
      "The downloaded binary packages are in\n",
      "\tC:\\Users\\Lenovo\\AppData\\Local\\Temp\\RtmpmstIrp\\downloaded_packages\n"
     ]
    }
   ],
   "source": [
    "install.packages('maptree')"
   ]
  },
  {
   "cell_type": "code",
   "execution_count": 39,
   "metadata": {},
   "outputs": [
    {
     "name": "stderr",
     "output_type": "stream",
     "text": [
      "Loading required package: cluster\n"
     ]
    }
   ],
   "source": [
    "library(maptree)"
   ]
  },
  {
   "cell_type": "code",
   "execution_count": 40,
   "metadata": {},
   "outputs": [
    {
     "data": {
      "image/png": "[encoded data removed]",
      "text/plain": [
       "plot without title"
      ]
     },
     "metadata": {},
     "output_type": "display_data"
    }
   ],
   "source": [
    "draw.tree(spam.tree, cex = 0.5, nodeinfo = TRUE, col = gray(0:8 / 8))"
   ]
  },
  {
   "cell_type": "code",
   "execution_count": 42,
   "metadata": {},
   "outputs": [
    {
     "name": "stderr",
     "output_type": "stream",
     "text": [
      "also installing the dependency 'mlbench'\n",
      "\n"
     ]
    },
    {
     "name": "stdout",
     "output_type": "stream",
     "text": [
      "package 'mlbench' successfully unpacked and MD5 sums checked\n",
      "package 'adabag' successfully unpacked and MD5 sums checked\n",
      "\n",
      "The downloaded binary packages are in\n",
      "\tC:\\Users\\Lenovo\\AppData\\Local\\Temp\\RtmpmstIrp\\downloaded_packages\n"
     ]
    }
   ],
   "source": [
    "install.packages('adabag')"
   ]
  },
  {
   "cell_type": "code",
   "execution_count": 43,
   "metadata": {},
   "outputs": [
    {
     "name": "stderr",
     "output_type": "stream",
     "text": [
      "Loading required package: mlbench\n",
      "Loading required package: caret\n",
      "Loading required package: lattice\n",
      "Loading required package: ggplot2\n",
      "\n",
      "Attaching package: 'caret'\n",
      "\n",
      "The following object is masked from 'package:sampling':\n",
      "\n",
      "    cluster\n",
      "\n"
     ]
    }
   ],
   "source": [
    "library(adabag)"
   ]
  },
  {
   "cell_type": "code",
   "execution_count": 44,
   "metadata": {},
   "outputs": [],
   "source": [
    "spam.bag <- bagging(formula = is_spam~., data = spambase.training)"
   ]
  },
  {
   "cell_type": "code",
   "execution_count": 45,
   "metadata": {},
   "outputs": [
    {
     "data": {
      "text/plain": [
       "           Length Class   Mode     \n",
       "formula         3 formula call     \n",
       "trees         100 -none-  list     \n",
       "votes        6440 -none-  numeric  \n",
       "prob         6440 -none-  numeric  \n",
       "class        3220 -none-  character\n",
       "samples    322000 -none-  numeric  \n",
       "importance     57 -none-  numeric  \n",
       "terms           3 terms   call     \n",
       "call            3 -none-  call     "
      ]
     },
     "metadata": {},
     "output_type": "display_data"
    }
   ],
   "source": [
    "summary(spam.bag)"
   ]
  },
  {
   "cell_type": "code",
   "execution_count": 48,
   "metadata": {},
   "outputs": [
    {
     "data": {
      "text/plain": [
       "      predicted\n",
       "actual    0    1\n",
       "     0 1869   82\n",
       "     1  212 1057"
      ]
     },
     "metadata": {},
     "output_type": "display_data"
    }
   ],
   "source": [
    "table(actual= spambase.training$is_spam, predicted=predict(spam.bag, newdata=spambase.training)$class)"
   ]
  },
  {
   "cell_type": "code",
   "execution_count": 49,
   "metadata": {},
   "outputs": [
    {
     "data": {
      "text/plain": [
       "      predicted\n",
       "actual   0   1\n",
       "     0 805  32\n",
       "     1  85 459"
      ]
     },
     "metadata": {},
     "output_type": "display_data"
    }
   ],
   "source": [
    "table(actual= spambase.validation$is_spam, predicted=predict(spam.bag, newdata=spambase.validation)$class)"
   ]
  },
  {
   "cell_type": "code",
   "execution_count": 51,
   "metadata": {},
   "outputs": [
    {
     "name": "stdout",
     "output_type": "stream",
     "text": [
      "package 'ada' successfully unpacked and MD5 sums checked\n",
      "\n",
      "The downloaded binary packages are in\n",
      "\tC:\\Users\\Lenovo\\AppData\\Local\\Temp\\RtmpmstIrp\\downloaded_packages\n"
     ]
    }
   ],
   "source": [
    "install.packages('ada')"
   ]
  },
  {
   "cell_type": "code",
   "execution_count": 52,
   "metadata": {},
   "outputs": [],
   "source": [
    "library(ada)"
   ]
  },
  {
   "cell_type": "code",
   "execution_count": 53,
   "metadata": {},
   "outputs": [],
   "source": [
    "spam.ada <- ada(formula = is_spam~., data = spambase.training, loss = 'logistic')"
   ]
  },
  {
   "cell_type": "code",
   "execution_count": 54,
   "metadata": {},
   "outputs": [
    {
     "data": {
      "text/plain": [
       "Call:\n",
       "ada(is_spam ~ ., data = spambase.training, loss = \"logistic\")\n",
       "\n",
       "Loss: logistic Method: discrete   Iteration: 50 \n",
       "\n",
       "Final Confusion Matrix for Data:\n",
       "          Final Prediction\n",
       "True value    0    1\n",
       "         0 1931   20\n",
       "         1   47 1222\n",
       "\n",
       "Train Error: 0.021 \n",
       "\n",
       "Out-Of-Bag Error:  0.034  iteration= 50 \n",
       "\n",
       "Additional Estimates of number of iterations:\n",
       "\n",
       "train.err1 train.kap1 \n",
       "        49         49 \n"
      ]
     },
     "metadata": {},
     "output_type": "display_data"
    }
   ],
   "source": [
    "spam.ada"
   ]
  },
  {
   "cell_type": "code",
   "execution_count": 55,
   "metadata": {},
   "outputs": [
    {
     "data": {
      "text/plain": [
       "      predicted\n",
       "actual    0    1\n",
       "     0 1931   20\n",
       "     1   47 1222"
      ]
     },
     "metadata": {},
     "output_type": "display_data"
    }
   ],
   "source": [
    "table(actual=spambase.training$is_spam, predicted=predict(spam.ada, newdata = spambase.training))"
   ]
  },
  {
   "cell_type": "code",
   "execution_count": 56,
   "metadata": {},
   "outputs": [
    {
     "data": {
      "text/plain": [
       "      predicted\n",
       "actual   0   1\n",
       "     0 803  34\n",
       "     1  29 515"
      ]
     },
     "metadata": {},
     "output_type": "display_data"
    }
   ],
   "source": [
    "table(actual=spambase.validation$is_spam, predicted = predict(spam.ada, newdata = spambase.validation))"
   ]
  },
  {
   "cell_type": "code",
   "execution_count": 57,
   "metadata": {},
   "outputs": [],
   "source": [
    "library(nnet)"
   ]
  },
  {
   "cell_type": "code",
   "execution_count": 58,
   "metadata": {},
   "outputs": [
    {
     "name": "stdout",
     "output_type": "stream",
     "text": [
      "# weights:  591\n",
      "initial  value 2491.568089 \n",
      "iter  10 value 2042.355924\n",
      "iter  20 value 1198.725768\n",
      "iter  30 value 867.693468\n",
      "iter  40 value 731.412535\n",
      "iter  50 value 644.909866\n",
      "iter  60 value 545.123260\n",
      "iter  70 value 496.297037\n",
      "iter  80 value 463.971094\n",
      "iter  90 value 455.096932\n",
      "iter 100 value 443.632787\n",
      "final  value 443.632787 \n",
      "stopped after 100 iterations\n"
     ]
    }
   ],
   "source": [
    "spam.nnet <- nnet(is_spam~., data = spambase.training, size=10, decay=.1)"
   ]
  },
  {
   "cell_type": "code",
   "execution_count": 59,
   "metadata": {},
   "outputs": [
    {
     "data": {
      "text/plain": [
       "      predicted\n",
       "actual    0    1\n",
       "     0 1898   53\n",
       "     1   84 1185"
      ]
     },
     "metadata": {},
     "output_type": "display_data"
    }
   ],
   "source": [
    "table(actual=spambase.training$is_spam, predicted=predict(spam.nnet, type='class'))"
   ]
  },
  {
   "cell_type": "code",
   "execution_count": 60,
   "metadata": {},
   "outputs": [
    {
     "data": {
      "text/plain": [
       "      predicted\n",
       "actual   0   1\n",
       "     0 803  34\n",
       "     1  49 495"
      ]
     },
     "metadata": {},
     "output_type": "display_data"
    }
   ],
   "source": [
    "table(actual=spambase.validation$is_spam, predicted=predict(spam.nnet, newdata = spambase.validation,type='class'))"
   ]
  },
  {
   "cell_type": "code",
   "execution_count": 61,
   "metadata": {},
   "outputs": [
    {
     "name": "stdout",
     "output_type": "stream",
     "text": [
      "package 'e1071' successfully unpacked and MD5 sums checked\n",
      "\n",
      "The downloaded binary packages are in\n",
      "\tC:\\Users\\Lenovo\\AppData\\Local\\Temp\\RtmpmstIrp\\downloaded_packages\n"
     ]
    }
   ],
   "source": [
    "install.packages('e1071')"
   ]
  },
  {
   "cell_type": "code",
   "execution_count": 62,
   "metadata": {},
   "outputs": [],
   "source": [
    "library(e1071)"
   ]
  },
  {
   "cell_type": "code",
   "execution_count": 63,
   "metadata": {},
   "outputs": [],
   "source": [
    "spam.svm <- svm(is_spam~., data = spambase.training)"
   ]
  },
  {
   "cell_type": "code",
   "execution_count": 64,
   "metadata": {},
   "outputs": [
    {
     "data": {
      "text/plain": [
       "\n",
       "Call:\n",
       "svm(formula = is_spam ~ ., data = spambase.training)\n",
       "\n",
       "\n",
       "Parameters:\n",
       "   SVM-Type:  C-classification \n",
       " SVM-Kernel:  radial \n",
       "       cost:  1 \n",
       "      gamma:  0.01754386 \n",
       "\n",
       "Number of Support Vectors:  956\n"
      ]
     },
     "metadata": {},
     "output_type": "display_data"
    }
   ],
   "source": [
    "spam.svm"
   ]
  },
  {
   "cell_type": "code",
   "execution_count": 67,
   "metadata": {},
   "outputs": [
    {
     "data": {
      "text/plain": [
       "      predicted\n",
       "actual   0   1\n",
       "     0 801  36\n",
       "     1  56 488"
      ]
     },
     "metadata": {},
     "output_type": "display_data"
    }
   ],
   "source": [
    "table(actual=spambase.validation$is_spam, predicted=predict(spam.svm, newdata = spambase.validation, type ='class'))"
   ]
  },
  {
   "cell_type": "code",
   "execution_count": 68,
   "metadata": {},
   "outputs": [
    {
     "name": "stdout",
     "output_type": "stream",
     "text": [
      "package 'randomForest' successfully unpacked and MD5 sums checked\n",
      "\n",
      "The downloaded binary packages are in\n",
      "\tC:\\Users\\Lenovo\\AppData\\Local\\Temp\\RtmpmstIrp\\downloaded_packages\n"
     ]
    }
   ],
   "source": [
    "install.packages('randomForest')"
   ]
  },
  {
   "cell_type": "code",
   "execution_count": 69,
   "metadata": {},
   "outputs": [
    {
     "name": "stderr",
     "output_type": "stream",
     "text": [
      "randomForest 4.6-12\n",
      "Type rfNews() to see new features/changes/bug fixes.\n",
      "\n",
      "Attaching package: 'randomForest'\n",
      "\n",
      "The following object is masked from 'package:ggplot2':\n",
      "\n",
      "    margin\n",
      "\n"
     ]
    }
   ],
   "source": [
    "library(randomForest)"
   ]
  },
  {
   "cell_type": "code",
   "execution_count": 70,
   "metadata": {},
   "outputs": [],
   "source": [
    "spam.rf <- randomForest(is_spam~., data = spambase.training)"
   ]
  },
  {
   "cell_type": "code",
   "execution_count": 72,
   "metadata": {},
   "outputs": [
    {
     "data": {
      "text/plain": [
       "      predicted\n",
       "actual   0   1\n",
       "     0 810  27\n",
       "     1  29 515"
      ]
     },
     "metadata": {},
     "output_type": "display_data"
    }
   ],
   "source": [
    "table(actual=spambase.validation$is_spam, predicted=predict(spam.rf, newdata = spambase.validation, type='class'))"
   ]
  },
  {
   "cell_type": "code",
   "execution_count": null,
   "metadata": {},
   "outputs": [],
   "source": []
  }
 ],
 "metadata": {
  "kernelspec": {
   "display_name": "R",
   "language": "R",
   "name": "ir"
  },
  "language_info": {
   "codemirror_mode": "r",
   "file_extension": ".r",
   "mimetype": "text/x-r-source",
   "name": "R",
   "pygments_lexer": "r",
   "version": "3.4.3"
  }
 },
 "nbformat": 4,
 "nbformat_minor": 2
}
