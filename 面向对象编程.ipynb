{
 "cells": [
  {
   "cell_type": "code",
   "execution_count": 1,
   "metadata": {},
   "outputs": [],
   "source": [
    "setClass('TimeSeries', \n",
    "        representation(\n",
    "        data='numeric', \n",
    "        start='POSIXct', \n",
    "        end='POSIXct'))"
   ]
  },
  {
   "cell_type": "code",
   "execution_count": 2,
   "metadata": {},
   "outputs": [],
   "source": [
    "my.TimeSeries <- new('TimeSeries', \n",
    "                    data=c(1, 2, 3, 4, 5, 6), \n",
    "                    start=as.POSIXct('07/01/2009 0:00:00', tz='GMT', \n",
    "                                    format='%m/%d/%Y %H:%M:%S'), \n",
    "                    end=as.POSIXct('07/01/2009 0:05:00', tz='GMT', \n",
    "                                  format='%m/%d/%Y %H:%M:%S'))"
   ]
  },
  {
   "cell_type": "code",
   "execution_count": 3,
   "metadata": {},
   "outputs": [
    {
     "data": {
      "text/plain": [
       "An object of class \"TimeSeries\"\n",
       "Slot \"data\":\n",
       "[1] 1 2 3 4 5 6\n",
       "\n",
       "Slot \"start\":\n",
       "[1] \"2009-07-01 GMT\"\n",
       "\n",
       "Slot \"end\":\n",
       "[1] \"2009-07-01 00:05:00 GMT\"\n"
      ]
     },
     "metadata": {},
     "output_type": "display_data"
    }
   ],
   "source": [
    "my.TimeSeries"
   ]
  },
  {
   "cell_type": "code",
   "execution_count": 4,
   "metadata": {},
   "outputs": [
    {
     "data": {
      "text/plain": [
       "Class \"TimeSeries\" [in \".GlobalEnv\"]\n",
       "\n",
       "Slots:\n",
       "                              \n",
       "Name:     data   start     end\n",
       "Class: numeric POSIXct POSIXct"
      ]
     },
     "metadata": {},
     "output_type": "display_data"
    }
   ],
   "source": [
    "setValidity('TimeSeries', \n",
    "           function(object) {\n",
    "               object@start <= object@end &&\n",
    "               length(object@start) == 1 &&\n",
    "               length(object@end) == 1\n",
    "           })"
   ]
  },
  {
   "cell_type": "code",
   "execution_count": 5,
   "metadata": {},
   "outputs": [
    {
     "data": {
      "text/html": [
       "TRUE"
      ],
      "text/latex": [
       "TRUE"
      ],
      "text/markdown": [
       "TRUE"
      ],
      "text/plain": [
       "[1] TRUE"
      ]
     },
     "metadata": {},
     "output_type": "display_data"
    }
   ],
   "source": [
    "validObject(my.TimeSeries)"
   ]
  },
  {
   "cell_type": "code",
   "execution_count": 6,
   "metadata": {},
   "outputs": [],
   "source": [
    "?validObject"
   ]
  },
  {
   "cell_type": "code",
   "execution_count": 7,
   "metadata": {},
   "outputs": [],
   "source": [
    "?setClass"
   ]
  },
  {
   "cell_type": "code",
   "execution_count": 8,
   "metadata": {},
   "outputs": [],
   "source": [
    "good.TimeSeries <- new('TimeSeries', \n",
    "                    data=c(7, 8, 9, 10, 11, 12), \n",
    "                    start=as.POSIXct('07/01/2009 0:06:00', tz='GMT', \n",
    "                                    format='%m/%d/%Y %H:%M:%S'), \n",
    "                    end=as.POSIXct('07/01/2009 0:11:00', tz='GMT', \n",
    "                                  format='%m/%d/%Y %H:%M:%S'))"
   ]
  },
  {
   "cell_type": "code",
   "execution_count": 9,
   "metadata": {},
   "outputs": [
    {
     "ename": "ERROR",
     "evalue": "Error in validObject(.Object): invalid class \"TimeSeries\" object: FALSE\n",
     "output_type": "error",
     "traceback": [
      "Error in validObject(.Object): invalid class \"TimeSeries\" object: FALSE\nTraceback:\n",
      "1. new(\"TimeSeries\", data = c(7, 8, 9, 10, 11, 12), start = as.POSIXct(\"07/01/2009 0:06:00\", \n .     tz = \"GMT\", format = \"%m/%d/%Y %H:%M:%S\"), end = as.POSIXct(\"07/01/1999 0:11:00\", \n .     tz = \"GMT\", format = \"%m/%d/%Y %H:%M:%S\"))",
      "2. initialize(value, ...)",
      "3. initialize(value, ...)",
      "4. validObject(.Object)",
      "5. stop(msg, \": \", errors, domain = NA)"
     ]
    }
   ],
   "source": [
    "bad.TimeSeries <- new('TimeSeries', \n",
    "                    data=c(7, 8, 9, 10, 11, 12), \n",
    "                    start=as.POSIXct('07/01/2009 0:06:00', tz='GMT', \n",
    "                                    format='%m/%d/%Y %H:%M:%S'), \n",
    "                    end=as.POSIXct('07/01/1999 0:11:00', tz='GMT', \n",
    "                                  format='%m/%d/%Y %H:%M:%S'))"
   ]
  },
  {
   "cell_type": "code",
   "execution_count": 10,
   "metadata": {},
   "outputs": [],
   "source": [
    "period.TimeSeries <- function(object) {\n",
    "    if (length(object@data) > 1) {\n",
    "        (object@end - object@start) / (length(object@data) - 1)\n",
    "    } else {Inf}\n",
    "}"
   ]
  },
  {
   "cell_type": "code",
   "execution_count": 11,
   "metadata": {},
   "outputs": [],
   "source": [
    "series <- function(object) {object@data}"
   ]
  },
  {
   "cell_type": "code",
   "execution_count": 12,
   "metadata": {},
   "outputs": [
    {
     "data": {
      "text/html": [
       "'series'"
      ],
      "text/latex": [
       "'series'"
      ],
      "text/markdown": [
       "'series'"
      ],
      "text/plain": [
       "[1] \"series\""
      ]
     },
     "metadata": {},
     "output_type": "display_data"
    }
   ],
   "source": [
    "setGeneric('series')"
   ]
  },
  {
   "cell_type": "code",
   "execution_count": 13,
   "metadata": {},
   "outputs": [
    {
     "data": {
      "text/html": [
       "<ol class=list-inline>\n",
       "\t<li>1</li>\n",
       "\t<li>2</li>\n",
       "\t<li>3</li>\n",
       "\t<li>4</li>\n",
       "\t<li>5</li>\n",
       "\t<li>6</li>\n",
       "</ol>\n"
      ],
      "text/latex": [
       "\\begin{enumerate*}\n",
       "\\item 1\n",
       "\\item 2\n",
       "\\item 3\n",
       "\\item 4\n",
       "\\item 5\n",
       "\\item 6\n",
       "\\end{enumerate*}\n"
      ],
      "text/markdown": [
       "1. 1\n",
       "2. 2\n",
       "3. 3\n",
       "4. 4\n",
       "5. 5\n",
       "6. 6\n",
       "\n",
       "\n"
      ],
      "text/plain": [
       "[1] 1 2 3 4 5 6"
      ]
     },
     "metadata": {},
     "output_type": "display_data"
    }
   ],
   "source": [
    "series(my.TimeSeries)"
   ]
  },
  {
   "cell_type": "code",
   "execution_count": 14,
   "metadata": {},
   "outputs": [
    {
     "data": {
      "text/html": [
       "<pre class=language-r><code>structure(function (object) \n",
       "standardGeneric(\"series\"), generic = structure(\"series\", package = \".GlobalEnv\"), package = \".GlobalEnv\", group = list(), valueClass = character(0), signature = \"object\", default = structure(function (object) \n",
       "{\n",
       "<span style=white-space:pre-wrap>    object@data</span>\n",
       "}, target = structure(\"ANY\", class = structure(\"signature\", package = \"methods\"), .Names = \"object\", package = \"methods\"), defined = structure(\"ANY\", class = structure(\"signature\", package = \"methods\"), .Names = \"object\", package = \"methods\"), generic = structure(\"series\", package = \".GlobalEnv\"), class = structure(\"derivedDefaultMethod\", package = \"methods\")), skeleton = (structure(function (object) \n",
       "{\n",
       "<span style=white-space:pre-wrap>    object@data</span>\n",
       "}, target = structure(\"ANY\", class = structure(\"signature\", package = \"methods\"), .Names = \"object\", package = \"methods\"), defined = structure(\"ANY\", class = structure(\"signature\", package = \"methods\"), .Names = \"object\", package = \"methods\"), generic = structure(\"series\", package = \".GlobalEnv\"), class = structure(\"derivedDefaultMethod\", package = \"methods\")))(object), class = structure(\"standardGeneric\", package = \"methods\"))</code></pre>"
      ],
      "text/latex": [
       "\\begin{minted}{r}\n",
       "structure(function (object) \n",
       "standardGeneric(\"series\"), generic = structure(\"series\", package = \".GlobalEnv\"), package = \".GlobalEnv\", group = list(), valueClass = character(0), signature = \"object\", default = structure(function (object) \n",
       "\\{\n",
       "    object@data\n",
       "\\}, target = structure(\"ANY\", class = structure(\"signature\", package = \"methods\"), .Names = \"object\", package = \"methods\"), defined = structure(\"ANY\", class = structure(\"signature\", package = \"methods\"), .Names = \"object\", package = \"methods\"), generic = structure(\"series\", package = \".GlobalEnv\"), class = structure(\"derivedDefaultMethod\", package = \"methods\")), skeleton = (structure(function (object) \n",
       "\\{\n",
       "    object@data\n",
       "\\}, target = structure(\"ANY\", class = structure(\"signature\", package = \"methods\"), .Names = \"object\", package = \"methods\"), defined = structure(\"ANY\", class = structure(\"signature\", package = \"methods\"), .Names = \"object\", package = \"methods\"), generic = structure(\"series\", package = \".GlobalEnv\"), class = structure(\"derivedDefaultMethod\", package = \"methods\")))(object), class = structure(\"standardGeneric\", package = \"methods\"))\n",
       "\\end{minted}"
      ],
      "text/markdown": [
       "```r\n",
       "structure(function (object) \n",
       "standardGeneric(\"series\"), generic = structure(\"series\", package = \".GlobalEnv\"), package = \".GlobalEnv\", group = list(), valueClass = character(0), signature = \"object\", default = structure(function (object) \n",
       "{\n",
       "    object@data\n",
       "}, target = structure(\"ANY\", class = structure(\"signature\", package = \"methods\"), .Names = \"object\", package = \"methods\"), defined = structure(\"ANY\", class = structure(\"signature\", package = \"methods\"), .Names = \"object\", package = \"methods\"), generic = structure(\"series\", package = \".GlobalEnv\"), class = structure(\"derivedDefaultMethod\", package = \"methods\")), skeleton = (structure(function (object) \n",
       "{\n",
       "    object@data\n",
       "}, target = structure(\"ANY\", class = structure(\"signature\", package = \"methods\"), .Names = \"object\", package = \"methods\"), defined = structure(\"ANY\", class = structure(\"signature\", package = \"methods\"), .Names = \"object\", package = \"methods\"), generic = structure(\"series\", package = \".GlobalEnv\"), class = structure(\"derivedDefaultMethod\", package = \"methods\")))(object), class = structure(\"standardGeneric\", package = \"methods\"))\n",
       "```"
      ],
      "text/plain": [
       "function (object) \n",
       "standardGeneric(\"series\")\n",
       "<environment: 0x00000000223b9bd0>\n",
       "attr(,\"generic\")\n",
       "[1] \"series\"\n",
       "attr(,\"generic\")attr(,\"package\")\n",
       "[1] \".GlobalEnv\"\n",
       "attr(,\"package\")\n",
       "[1] \".GlobalEnv\"\n",
       "attr(,\"group\")\n",
       "list()\n",
       "attr(,\"valueClass\")\n",
       "character(0)\n",
       "attr(,\"signature\")\n",
       "[1] \"object\"\n",
       "attr(,\"default\")\n",
       "Method Definition (Class \"derivedDefaultMethod\"):\n",
       "\n",
       "function (object) \n",
       "{\n",
       "    object@data\n",
       "}\n",
       "\n",
       "Signatures:\n",
       "        object\n",
       "target  \"ANY\" \n",
       "defined \"ANY\" \n",
       "attr(,\"skeleton\")\n",
       "(function (object) \n",
       "{\n",
       "    object@data\n",
       "})(object)\n",
       "attr(,\"class\")\n",
       "[1] \"standardGeneric\"\n",
       "attr(,\"class\")attr(,\"package\")\n",
       "[1] \"methods\""
      ]
     },
     "metadata": {},
     "output_type": "display_data"
    }
   ],
   "source": [
    "series"
   ]
  },
  {
   "cell_type": "code",
   "execution_count": 15,
   "metadata": {},
   "outputs": [],
   "source": [
    "period <- function(object) {object@period}"
   ]
  },
  {
   "cell_type": "code",
   "execution_count": 17,
   "metadata": {},
   "outputs": [
    {
     "data": {
      "text/html": [
       "'period'"
      ],
      "text/latex": [
       "'period'"
      ],
      "text/markdown": [
       "'period'"
      ],
      "text/plain": [
       "[1] \"period\""
      ]
     },
     "metadata": {},
     "output_type": "display_data"
    }
   ],
   "source": [
    "setGeneric('period')"
   ]
  },
  {
   "cell_type": "code",
   "execution_count": 18,
   "metadata": {},
   "outputs": [
    {
     "data": {
      "text/html": [
       "'period'"
      ],
      "text/latex": [
       "'period'"
      ],
      "text/markdown": [
       "'period'"
      ],
      "text/plain": [
       "[1] \"period\"\n",
       "attr(,\"package\")\n",
       "[1] \".GlobalEnv\""
      ]
     },
     "metadata": {},
     "output_type": "display_data"
    }
   ],
   "source": [
    "setMethod(period, signature = c('TimeSeries'), definition = period.TimeSeries)"
   ]
  },
  {
   "cell_type": "code",
   "execution_count": 19,
   "metadata": {},
   "outputs": [
    {
     "name": "stdout",
     "output_type": "stream",
     "text": [
      "Function: period (package .GlobalEnv)\n",
      "object=\"ANY\"\n",
      "object=\"TimeSeries\"\n",
      "\n"
     ]
    }
   ],
   "source": [
    "showMethods('period')"
   ]
  },
  {
   "cell_type": "code",
   "execution_count": 20,
   "metadata": {},
   "outputs": [
    {
     "data": {
      "text/plain": [
       "Time difference of 1 mins"
      ]
     },
     "metadata": {},
     "output_type": "display_data"
    }
   ],
   "source": [
    "period(my.TimeSeries)"
   ]
  },
  {
   "cell_type": "code",
   "execution_count": 24,
   "metadata": {},
   "outputs": [
    {
     "data": {
      "text/html": [
       "'summary'"
      ],
      "text/latex": [
       "'summary'"
      ],
      "text/markdown": [
       "'summary'"
      ],
      "text/plain": [
       "[1] \"summary\""
      ]
     },
     "metadata": {},
     "output_type": "display_data"
    }
   ],
   "source": [
    "setMethod('summary', signature = 'TimeSeries', definition = function(object) {\n",
    "    print(paste(object@start, ' to ', object@end, sep = '', collapse = ''))\n",
    "    print(paste(object@data, sep = '', collapse = ','))\n",
    "})"
   ]
  },
  {
   "cell_type": "code",
   "execution_count": 25,
   "metadata": {},
   "outputs": [
    {
     "name": "stdout",
     "output_type": "stream",
     "text": [
      "[1] \"2009-07-01 to 2009-07-01 00:05:00\"\n",
      "[1] \"1,2,3,4,5,6\"\n"
     ]
    }
   ],
   "source": [
    "summary(my.TimeSeries)"
   ]
  },
  {
   "cell_type": "code",
   "execution_count": 27,
   "metadata": {},
   "outputs": [],
   "source": [
    "setClass('WeightHistory', representation(height = 'numeric', name = 'character'), contains = 'TimeSeries')"
   ]
  },
  {
   "cell_type": "code",
   "execution_count": 30,
   "metadata": {},
   "outputs": [],
   "source": [
    "john.doe <- new('WeightHistory', \n",
    "                data=c(170, 169, 171, 168, 170, 169), \n",
    "                start=as.POSIXct('02/14/2009 0:00:00', tz='GMT', format='%m/%d/%Y %H:%M:%S'), \n",
    "                end=as.POSIXct('03/28/2009 0:00:00', tz='GMT', format='%m/%d/%Y %H:%M:%S'), \n",
    "                height=72, \n",
    "                name='John Doe')"
   ]
  },
  {
   "cell_type": "code",
   "execution_count": 31,
   "metadata": {},
   "outputs": [
    {
     "data": {
      "text/plain": [
       "An object of class \"WeightHistory\"\n",
       "Slot \"height\":\n",
       "[1] 72\n",
       "\n",
       "Slot \"name\":\n",
       "[1] \"John Doe\"\n",
       "\n",
       "Slot \"data\":\n",
       "[1] 170 169 171 168 170 169\n",
       "\n",
       "Slot \"start\":\n",
       "[1] \"2009-02-14 GMT\"\n",
       "\n",
       "Slot \"end\":\n",
       "[1] \"2009-03-28 GMT\"\n"
      ]
     },
     "metadata": {},
     "output_type": "display_data"
    }
   ],
   "source": [
    "john.doe"
   ]
  },
  {
   "cell_type": "code",
   "execution_count": 32,
   "metadata": {},
   "outputs": [],
   "source": [
    "setClass('Person', representation(height='numeric', name='character'))"
   ]
  },
  {
   "cell_type": "code",
   "execution_count": 34,
   "metadata": {},
   "outputs": [],
   "source": [
    "setClass('AltWeightHistory', contains = c('TimeSeries', 'Person'))"
   ]
  },
  {
   "cell_type": "code",
   "execution_count": 35,
   "metadata": {},
   "outputs": [],
   "source": [
    "setClass('Cat', representation(breed = 'character', name = 'character'))"
   ]
  },
  {
   "cell_type": "code",
   "execution_count": 36,
   "metadata": {},
   "outputs": [],
   "source": [
    "setClassUnion('NamedThing', c('Person', 'Cat'))"
   ]
  },
  {
   "cell_type": "code",
   "execution_count": 38,
   "metadata": {},
   "outputs": [],
   "source": [
    "jane.doe <- new('AltWeightHistory', \n",
    "                data=c(130, 129, 131, 128, 130, 129), \n",
    "               start=as.POSIXct('02/14/2009 0:00:00', tz='GMT', format='%m/%d/%Y %H:%M:%S'), \n",
    "               end=as.POSIXct('03/28/2009 0:00:00', tz='GMT', format='%m/%d/%Y %H:%M:%S'), \n",
    "               height=67, \n",
    "               name='Jane Doe')"
   ]
  },
  {
   "cell_type": "code",
   "execution_count": 39,
   "metadata": {},
   "outputs": [
    {
     "data": {
      "text/html": [
       "TRUE"
      ],
      "text/latex": [
       "TRUE"
      ],
      "text/markdown": [
       "TRUE"
      ],
      "text/plain": [
       "[1] TRUE"
      ]
     },
     "metadata": {},
     "output_type": "display_data"
    }
   ],
   "source": [
    "is(jane.doe, 'NamedThing')"
   ]
  },
  {
   "cell_type": "code",
   "execution_count": 40,
   "metadata": {},
   "outputs": [
    {
     "data": {
      "text/html": [
       "TRUE"
      ],
      "text/latex": [
       "TRUE"
      ],
      "text/markdown": [
       "TRUE"
      ],
      "text/plain": [
       "[1] TRUE"
      ]
     },
     "metadata": {},
     "output_type": "display_data"
    }
   ],
   "source": [
    "is(john.doe, 'TimeSeries')"
   ]
  },
  {
   "cell_type": "code",
   "execution_count": null,
   "metadata": {},
   "outputs": [],
   "source": []
  }
 ],
 "metadata": {
  "kernelspec": {
   "display_name": "R",
   "language": "R",
   "name": "ir"
  },
  "language_info": {
   "codemirror_mode": "r",
   "file_extension": ".r",
   "mimetype": "text/x-r-source",
   "name": "R",
   "pygments_lexer": "r",
   "version": "3.4.2"
  }
 },
 "nbformat": 4,
 "nbformat_minor": 2
}
