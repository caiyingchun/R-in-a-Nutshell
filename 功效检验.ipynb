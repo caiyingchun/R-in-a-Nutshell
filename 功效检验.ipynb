{
 "cells": [
  {
   "cell_type": "code",
   "execution_count": 1,
   "metadata": {},
   "outputs": [
    {
     "data": {
      "text/plain": [
       "\n",
       "     Two-sample t test power calculation \n",
       "\n",
       "              n = 25\n",
       "          delta = 9.26214\n",
       "             sd = 8.9\n",
       "      sig.level = 0.05\n",
       "          power = 0.95\n",
       "    alternative = two.sided\n",
       "\n",
       "NOTE: n is number in *each* group\n"
      ]
     },
     "metadata": {},
     "output_type": "display_data"
    }
   ],
   "source": [
    "power.t.test(power = .95, sig.level = .05, sd = 8.9, n = 25)"
   ]
  },
  {
   "cell_type": "code",
   "execution_count": 2,
   "metadata": {},
   "outputs": [
    {
     "data": {
      "text/plain": [
       "\n",
       "     Two-sample t test power calculation \n",
       "\n",
       "              n = 50\n",
       "          delta = 6.480487\n",
       "             sd = 8.9\n",
       "      sig.level = 0.05\n",
       "          power = 0.95\n",
       "    alternative = two.sided\n",
       "\n",
       "NOTE: n is number in *each* group\n"
      ]
     },
     "metadata": {},
     "output_type": "display_data"
    }
   ],
   "source": [
    "power.t.test(power = .95, sig.level = .05, sd = 8.9, n = 50)"
   ]
  },
  {
   "cell_type": "code",
   "execution_count": 4,
   "metadata": {},
   "outputs": [
    {
     "data": {
      "text/plain": [
       "\n",
       "     Two-sample comparison of proportions power calculation \n",
       "\n",
       "              n = 2724.482\n",
       "             p1 = 0.26\n",
       "             p2 = 0.3\n",
       "      sig.level = 0.05\n",
       "          power = 0.95\n",
       "    alternative = one.sided\n",
       "\n",
       "NOTE: n is number in *each* group\n"
      ]
     },
     "metadata": {},
     "output_type": "display_data"
    }
   ],
   "source": [
    "power.prop.test(p1 = .260, p2 = .300, sig.level = .05, power = .95, alternative = 'one.sided')"
   ]
  },
  {
   "cell_type": "code",
   "execution_count": 5,
   "metadata": {},
   "outputs": [
    {
     "data": {
      "text/plain": [
       "\n",
       "     Two-sample comparison of proportions power calculation \n",
       "\n",
       "              n = 10\n",
       "             p1 = 0.26\n",
       "             p2 = 0.3\n",
       "      sig.level = 0.9256439\n",
       "          power = 0.95\n",
       "    alternative = one.sided\n",
       "\n",
       "NOTE: n is number in *each* group\n"
      ]
     },
     "metadata": {},
     "output_type": "display_data"
    }
   ],
   "source": [
    "power.prop.test(n = 10, p1 = .260, p2 = .300, power = .95, sig.level = NULL, alternative = 'one.sided')"
   ]
  },
  {
   "cell_type": "code",
   "execution_count": 6,
   "metadata": {},
   "outputs": [
    {
     "data": {
      "text/plain": [
       "\n",
       "     Two-sample comparison of proportions power calculation \n",
       "\n",
       "              n = 10\n",
       "             p1 = 0.26\n",
       "             p2 = 0.3\n",
       "      sig.level = 0.05\n",
       "          power = 0.07393654\n",
       "    alternative = one.sided\n",
       "\n",
       "NOTE: n is number in *each* group\n"
      ]
     },
     "metadata": {},
     "output_type": "display_data"
    }
   ],
   "source": [
    "power.prop.test(n = 10, p1 = .260, p2 = .300, power = NULL, sig.level = .05, alternative = 'one.sided')"
   ]
  },
  {
   "cell_type": "code",
   "execution_count": null,
   "metadata": {},
   "outputs": [],
   "source": []
  }
 ],
 "metadata": {
  "kernelspec": {
   "display_name": "R",
   "language": "R",
   "name": "ir"
  },
  "language_info": {
   "codemirror_mode": "r",
   "file_extension": ".r",
   "mimetype": "text/x-r-source",
   "name": "R",
   "pygments_lexer": "r",
   "version": "3.4.2"
  }
 },
 "nbformat": 4,
 "nbformat_minor": 2
}
