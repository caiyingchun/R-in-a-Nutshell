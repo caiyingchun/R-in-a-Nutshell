{
 "cells": [
  {
   "cell_type": "code",
   "execution_count": 1,
   "metadata": {},
   "outputs": [],
   "source": [
    "x <- 1\n",
    "y <- 2\n",
    "z <- 3"
   ]
  },
  {
   "cell_type": "code",
   "execution_count": 2,
   "metadata": {},
   "outputs": [],
   "source": [
    "v <- c(x, y, z)"
   ]
  },
  {
   "cell_type": "code",
   "execution_count": 3,
   "metadata": {},
   "outputs": [
    {
     "data": {
      "text/html": [
       "<ol class=list-inline>\n",
       "\t<li>1</li>\n",
       "\t<li>2</li>\n",
       "\t<li>3</li>\n",
       "</ol>\n"
      ],
      "text/latex": [
       "\\begin{enumerate*}\n",
       "\\item 1\n",
       "\\item 2\n",
       "\\item 3\n",
       "\\end{enumerate*}\n"
      ],
      "text/markdown": [
       "1. 1\n",
       "2. 2\n",
       "3. 3\n",
       "\n",
       "\n"
      ],
      "text/plain": [
       "[1] 1 2 3"
      ]
     },
     "metadata": {},
     "output_type": "display_data"
    }
   ],
   "source": [
    "v"
   ]
  },
  {
   "cell_type": "code",
   "execution_count": 4,
   "metadata": {},
   "outputs": [],
   "source": [
    "x <- 10"
   ]
  },
  {
   "cell_type": "code",
   "execution_count": 5,
   "metadata": {},
   "outputs": [
    {
     "data": {
      "text/html": [
       "<ol class=list-inline>\n",
       "\t<li>1</li>\n",
       "\t<li>2</li>\n",
       "\t<li>3</li>\n",
       "</ol>\n"
      ],
      "text/latex": [
       "\\begin{enumerate*}\n",
       "\\item 1\n",
       "\\item 2\n",
       "\\item 3\n",
       "\\end{enumerate*}\n"
      ],
      "text/markdown": [
       "1. 1\n",
       "2. 2\n",
       "3. 3\n",
       "\n",
       "\n"
      ],
      "text/plain": [
       "[1] 1 2 3"
      ]
     },
     "metadata": {},
     "output_type": "display_data"
    }
   ],
   "source": [
    "v"
   ]
  },
  {
   "cell_type": "code",
   "execution_count": 6,
   "metadata": {},
   "outputs": [],
   "source": [
    "x <- 1\n",
    "y <- 2\n",
    "z <- 3"
   ]
  },
  {
   "cell_type": "code",
   "execution_count": 7,
   "metadata": {},
   "outputs": [],
   "source": [
    "v <- quote(c(x, y, z))"
   ]
  },
  {
   "cell_type": "code",
   "execution_count": 8,
   "metadata": {},
   "outputs": [
    {
     "data": {
      "text/plain": [
       "c(x, y, z)"
      ]
     },
     "metadata": {},
     "output_type": "display_data"
    }
   ],
   "source": [
    "v"
   ]
  },
  {
   "cell_type": "code",
   "execution_count": 9,
   "metadata": {},
   "outputs": [
    {
     "data": {
      "text/html": [
       "<ol class=list-inline>\n",
       "\t<li>1</li>\n",
       "\t<li>2</li>\n",
       "\t<li>3</li>\n",
       "</ol>\n"
      ],
      "text/latex": [
       "\\begin{enumerate*}\n",
       "\\item 1\n",
       "\\item 2\n",
       "\\item 3\n",
       "\\end{enumerate*}\n"
      ],
      "text/markdown": [
       "1. 1\n",
       "2. 2\n",
       "3. 3\n",
       "\n",
       "\n"
      ],
      "text/plain": [
       "[1] 1 2 3"
      ]
     },
     "metadata": {},
     "output_type": "display_data"
    }
   ],
   "source": [
    "eval(v)"
   ]
  },
  {
   "cell_type": "code",
   "execution_count": 10,
   "metadata": {},
   "outputs": [],
   "source": [
    "?eval"
   ]
  },
  {
   "cell_type": "code",
   "execution_count": 11,
   "metadata": {},
   "outputs": [
    {
     "name": "stdout",
     "output_type": "stream",
     "text": [
      "\n",
      "eval> eval(2 ^ 2 ^ 3)\n",
      "[1] 256\n",
      "\n",
      "eval> mEx <- expression(2^2^3); mEx; 1 + eval(mEx)\n",
      "expression(2^2^3)\n",
      "[1] 257\n",
      "\n",
      "eval> eval({ xx <- pi; xx^2}) ; xx\n",
      "[1] 9.869604\n",
      "[1] 3.141593\n",
      "\n",
      "eval> a <- 3 ; aa <- 4 ; evalq(evalq(a+b+aa, list(a = 1)), list(b = 5)) # == 10\n",
      "[1] 10\n",
      "\n",
      "eval> a <- 3 ; aa <- 4 ; evalq(evalq(a+b+aa, -1), list(b = 5))        # == 12\n",
      "[1] 12\n",
      "\n",
      "eval> ev <- function() {\n",
      "eval+    e1 <- parent.frame()\n",
      "eval+    ## Evaluate a in e1\n",
      "eval+    aa <- eval(expression(a), e1)\n",
      "eval+    ## evaluate the expression bound to a in e1\n",
      "eval+    a <- expression(x+y)\n",
      "eval+    list(aa = aa, eval = eval(a, e1))\n",
      "eval+ }\n",
      "\n",
      "eval> tst.ev <- function(a = 7) { x <- pi; y <- 1; ev() }\n",
      "\n",
      "eval> tst.ev()  #-> aa : 7,  eval : 4.14\n",
      "$aa\n",
      "[1] 7\n",
      "\n",
      "$eval\n",
      "[1] 4.141593\n",
      "\n",
      "\n",
      "eval> a <- list(a = 3, b = 4)\n",
      "\n",
      "eval> with(a, a <- 5) # alters the copy of a from the list, discarded.\n",
      "\n",
      "eval> ##\n",
      "eval> ## Example of evalq()\n",
      "eval> ##\n",
      "eval> \n",
      "eval> N <- 3\n",
      "\n",
      "eval> env <- new.env()\n",
      "\n",
      "eval> assign(\"N\", 27, envir = env)\n",
      "\n",
      "eval> ## this version changes the visible copy of N only, since the argument\n",
      "eval> ## passed to eval is '4'.\n",
      "eval> eval(N <- 4, env)\n",
      "[1] 4\n",
      "\n",
      "eval> N\n",
      "[1] 4\n",
      "\n",
      "eval> get(\"N\", envir = env)\n",
      "[1] 27\n",
      "\n",
      "eval> ## this version does the assignment in env, and changes N only there.\n",
      "eval> evalq(N <- 5, env)\n",
      "\n",
      "eval> N\n",
      "[1] 4\n",
      "\n",
      "eval> get(\"N\", envir = env)\n",
      "[1] 5\n",
      "\n",
      "eval> ##\n",
      "eval> ## Uses of local()\n",
      "eval> ##\n",
      "eval> \n",
      "eval> # Mutually recursive.\n",
      "eval> # gg gets value of last assignment, an anonymous version of f.\n",
      "eval> \n",
      "eval> gg <- local({\n",
      "eval+     k <- function(y)f(y)\n",
      "eval+     f <- function(x) if(x) x*k(x-1) else 1\n",
      "eval+ })\n",
      "\n",
      "eval> gg(10)\n",
      "[1] 3628800\n",
      "\n",
      "eval> sapply(1:5, gg)\n",
      "[1]   1   2   6  24 120\n",
      "\n",
      "eval> # Nesting locals: a is private storage accessible to k\n",
      "eval> gg <- local({\n",
      "eval+     k <- local({\n",
      "eval+         a <- 1\n",
      "eval+         function(y){print(a <<- a+1);f(y)}\n",
      "eval+     })\n",
      "eval+     f <- function(x) if(x) x*k(x-1) else 1\n",
      "eval+ })\n",
      "\n",
      "eval> sapply(1:5, gg)\n",
      "[1] 2\n",
      "[1] 3\n",
      "[1] 4\n",
      "[1] 5\n",
      "[1] 6\n",
      "[1] 7\n",
      "[1] 8\n",
      "[1] 9\n",
      "[1] 10\n",
      "[1] 11\n",
      "[1] 12\n",
      "[1] 13\n",
      "[1] 14\n",
      "[1] 15\n",
      "[1] 16\n",
      "[1]   1   2   6  24 120\n",
      "\n",
      "eval> ls(envir = environment(gg))\n",
      "[1] \"f\" \"k\"\n",
      "\n",
      "eval> ls(envir = environment(get(\"k\", envir = environment(gg))))\n",
      "[1] \"a\"\n"
     ]
    }
   ],
   "source": [
    "example(eval)"
   ]
  },
  {
   "cell_type": "code",
   "execution_count": 12,
   "metadata": {},
   "outputs": [
    {
     "ename": "ERROR",
     "evalue": "Error in structure(.Call(C_objectSize, x), class = \"object_size\"): 缺少参数\"x\",也没有缺省值\n",
     "output_type": "error",
     "traceback": [
      "Error in structure(.Call(C_objectSize, x), class = \"object_size\"): 缺少参数\"x\",也没有缺省值\nTraceback:\n",
      "1. object.size()",
      "2. structure(.Call(C_objectSize, x), class = \"object_size\")"
     ]
    }
   ],
   "source": [
    "object.size()"
   ]
  },
  {
   "cell_type": "code",
   "execution_count": 13,
   "metadata": {},
   "outputs": [
    {
     "data": {
      "text/plain": [
       "48 bytes"
      ]
     },
     "metadata": {},
     "output_type": "display_data"
    }
   ],
   "source": [
    "object.size(x)"
   ]
  },
  {
   "cell_type": "code",
   "execution_count": 14,
   "metadata": {},
   "outputs": [
    {
     "ename": "ERROR",
     "evalue": "Error in object(): 没有\"object\"这个函数\n",
     "output_type": "error",
     "traceback": [
      "Error in object(): 没有\"object\"这个函数\nTraceback:\n"
     ]
    }
   ],
   "source": [
    "object()"
   ]
  },
  {
   "cell_type": "code",
   "execution_count": 15,
   "metadata": {},
   "outputs": [
    {
     "data": {
      "text/html": [
       "<ol class=list-inline>\n",
       "\t<li>'a'</li>\n",
       "\t<li>'aa'</li>\n",
       "\t<li>'env'</li>\n",
       "\t<li>'ev'</li>\n",
       "\t<li>'gg'</li>\n",
       "\t<li>'mEx'</li>\n",
       "\t<li>'N'</li>\n",
       "\t<li>'tst.ev'</li>\n",
       "\t<li>'v'</li>\n",
       "\t<li>'x'</li>\n",
       "\t<li>'xx'</li>\n",
       "\t<li>'y'</li>\n",
       "\t<li>'z'</li>\n",
       "</ol>\n"
      ],
      "text/latex": [
       "\\begin{enumerate*}\n",
       "\\item 'a'\n",
       "\\item 'aa'\n",
       "\\item 'env'\n",
       "\\item 'ev'\n",
       "\\item 'gg'\n",
       "\\item 'mEx'\n",
       "\\item 'N'\n",
       "\\item 'tst.ev'\n",
       "\\item 'v'\n",
       "\\item 'x'\n",
       "\\item 'xx'\n",
       "\\item 'y'\n",
       "\\item 'z'\n",
       "\\end{enumerate*}\n"
      ],
      "text/markdown": [
       "1. 'a'\n",
       "2. 'aa'\n",
       "3. 'env'\n",
       "4. 'ev'\n",
       "5. 'gg'\n",
       "6. 'mEx'\n",
       "7. 'N'\n",
       "8. 'tst.ev'\n",
       "9. 'v'\n",
       "10. 'x'\n",
       "11. 'xx'\n",
       "12. 'y'\n",
       "13. 'z'\n",
       "\n",
       "\n"
      ],
      "text/plain": [
       " [1] \"a\"      \"aa\"     \"env\"    \"ev\"     \"gg\"     \"mEx\"    \"N\"      \"tst.ev\"\n",
       " [9] \"v\"      \"x\"      \"xx\"     \"y\"      \"z\"     "
      ]
     },
     "metadata": {},
     "output_type": "display_data"
    }
   ],
   "source": [
    "objects(x)"
   ]
  },
  {
   "cell_type": "code",
   "execution_count": 16,
   "metadata": {},
   "outputs": [
    {
     "data": {
      "text/html": [
       "<ol class=list-inline>\n",
       "\t<li>'a'</li>\n",
       "\t<li>'aa'</li>\n",
       "\t<li>'env'</li>\n",
       "\t<li>'ev'</li>\n",
       "\t<li>'gg'</li>\n",
       "\t<li>'mEx'</li>\n",
       "\t<li>'N'</li>\n",
       "\t<li>'tst.ev'</li>\n",
       "\t<li>'v'</li>\n",
       "\t<li>'x'</li>\n",
       "\t<li>'xx'</li>\n",
       "\t<li>'y'</li>\n",
       "\t<li>'z'</li>\n",
       "</ol>\n"
      ],
      "text/latex": [
       "\\begin{enumerate*}\n",
       "\\item 'a'\n",
       "\\item 'aa'\n",
       "\\item 'env'\n",
       "\\item 'ev'\n",
       "\\item 'gg'\n",
       "\\item 'mEx'\n",
       "\\item 'N'\n",
       "\\item 'tst.ev'\n",
       "\\item 'v'\n",
       "\\item 'x'\n",
       "\\item 'xx'\n",
       "\\item 'y'\n",
       "\\item 'z'\n",
       "\\end{enumerate*}\n"
      ],
      "text/markdown": [
       "1. 'a'\n",
       "2. 'aa'\n",
       "3. 'env'\n",
       "4. 'ev'\n",
       "5. 'gg'\n",
       "6. 'mEx'\n",
       "7. 'N'\n",
       "8. 'tst.ev'\n",
       "9. 'v'\n",
       "10. 'x'\n",
       "11. 'xx'\n",
       "12. 'y'\n",
       "13. 'z'\n",
       "\n",
       "\n"
      ],
      "text/plain": [
       " [1] \"a\"      \"aa\"     \"env\"    \"ev\"     \"gg\"     \"mEx\"    \"N\"      \"tst.ev\"\n",
       " [9] \"v\"      \"x\"      \"xx\"     \"y\"      \"z\"     "
      ]
     },
     "metadata": {},
     "output_type": "display_data"
    }
   ],
   "source": [
    "objects()"
   ]
  },
  {
   "cell_type": "code",
   "execution_count": 20,
   "metadata": {},
   "outputs": [],
   "source": [
    "timethis <- function(...) {\n",
    "    start.time <- Sys.time();\n",
    "    eval(..., sys.frame(sys.parent(sys.parent())));\n",
    "    end.time <- Sys.time();\n",
    "    print(end.time - start.time);\n",
    "}"
   ]
  },
  {
   "cell_type": "code",
   "execution_count": 21,
   "metadata": {},
   "outputs": [],
   "source": [
    "creat.vector.of.ones <- function(n) {\n",
    "    return.vector <- NA;\n",
    "    for (i in 1:n) {\n",
    "        return.vector[i] <- i;\n",
    "    }\n",
    "    return.vector;\n",
    "}"
   ]
  },
  {
   "cell_type": "code",
   "execution_count": 22,
   "metadata": {},
   "outputs": [
    {
     "name": "stdout",
     "output_type": "stream",
     "text": [
      "Time difference of 0.01102805 secs\n"
     ]
    }
   ],
   "source": [
    "timethis(returned.vector <- creat.vector.of.ones(10000))"
   ]
  },
  {
   "cell_type": "code",
   "execution_count": 23,
   "metadata": {},
   "outputs": [
    {
     "data": {
      "text/html": [
       "10000"
      ],
      "text/latex": [
       "10000"
      ],
      "text/markdown": [
       "10000"
      ],
      "text/plain": [
       "[1] 10000"
      ]
     },
     "metadata": {},
     "output_type": "display_data"
    }
   ],
   "source": [
    "length(returned.vector)"
   ]
  },
  {
   "cell_type": "code",
   "execution_count": 24,
   "metadata": {},
   "outputs": [],
   "source": [
    "creat.vector.of.ones <- function(n) {\n",
    "    return.vector <- NA;\n",
    "    length(returned.vector) <- n;\n",
    "    for (i in 1:n) {\n",
    "        return.vector[i] <- i;\n",
    "    }\n",
    "    return.vector;\n",
    "}"
   ]
  },
  {
   "cell_type": "code",
   "execution_count": 25,
   "metadata": {},
   "outputs": [
    {
     "name": "stdout",
     "output_type": "stream",
     "text": [
      "Time difference of 0.005014181 secs\n"
     ]
    }
   ],
   "source": [
    "timethis(returned.vector <- creat.vector.of.ones(10000))"
   ]
  },
  {
   "cell_type": "code",
   "execution_count": 26,
   "metadata": {},
   "outputs": [],
   "source": [
    "example.list <- list(a=1, b=2, c=3)"
   ]
  },
  {
   "cell_type": "code",
   "execution_count": 27,
   "metadata": {},
   "outputs": [
    {
     "ename": "ERROR",
     "evalue": "Error in eval(expr, envir, enclos): 找不到对象'b'\n",
     "output_type": "error",
     "traceback": [
      "Error in eval(expr, envir, enclos): 找不到对象'b'\nTraceback:\n"
     ]
    }
   ],
   "source": [
    "a+b+c"
   ]
  },
  {
   "cell_type": "code",
   "execution_count": 28,
   "metadata": {},
   "outputs": [
    {
     "data": {
      "text/html": [
       "<dl>\n",
       "\t<dt>$a</dt>\n",
       "\t\t<dd>3</dd>\n",
       "\t<dt>$b</dt>\n",
       "\t\t<dd>4</dd>\n",
       "</dl>\n"
      ],
      "text/latex": [
       "\\begin{description}\n",
       "\\item[\\$a] 3\n",
       "\\item[\\$b] 4\n",
       "\\end{description}\n"
      ],
      "text/markdown": [
       "$a\n",
       ":   3\n",
       "$b\n",
       ":   4\n",
       "\n",
       "\n"
      ],
      "text/plain": [
       "$a\n",
       "[1] 3\n",
       "\n",
       "$b\n",
       "[1] 4\n"
      ]
     },
     "metadata": {},
     "output_type": "display_data"
    }
   ],
   "source": [
    "a"
   ]
  },
  {
   "cell_type": "code",
   "execution_count": 29,
   "metadata": {},
   "outputs": [
    {
     "data": {
      "text/html": [
       "6"
      ],
      "text/latex": [
       "6"
      ],
      "text/markdown": [
       "6"
      ],
      "text/plain": [
       "[1] 6"
      ]
     },
     "metadata": {},
     "output_type": "display_data"
    }
   ],
   "source": [
    "with(example.list, a+b+c)"
   ]
  },
  {
   "cell_type": "code",
   "execution_count": 30,
   "metadata": {},
   "outputs": [
    {
     "data": {
      "text/html": [
       "<dl>\n",
       "\t<dt>$a</dt>\n",
       "\t\t<dd>1</dd>\n",
       "\t<dt>$b</dt>\n",
       "\t\t<dd>2</dd>\n",
       "\t<dt>$c</dt>\n",
       "\t\t<dd>3</dd>\n",
       "\t<dt>$d</dt>\n",
       "\t\t<dd>6</dd>\n",
       "</dl>\n"
      ],
      "text/latex": [
       "\\begin{description}\n",
       "\\item[\\$a] 1\n",
       "\\item[\\$b] 2\n",
       "\\item[\\$c] 3\n",
       "\\item[\\$d] 6\n",
       "\\end{description}\n"
      ],
      "text/markdown": [
       "$a\n",
       ":   1\n",
       "$b\n",
       ":   2\n",
       "$c\n",
       ":   3\n",
       "$d\n",
       ":   6\n",
       "\n",
       "\n"
      ],
      "text/plain": [
       "$a\n",
       "[1] 1\n",
       "\n",
       "$b\n",
       "[1] 2\n",
       "\n",
       "$c\n",
       "[1] 3\n",
       "\n",
       "$d\n",
       "[1] 6\n"
      ]
     },
     "metadata": {},
     "output_type": "display_data"
    }
   ],
   "source": [
    "within(example.list, d<-a+b+c)"
   ]
  },
  {
   "cell_type": "code",
   "execution_count": null,
   "metadata": {},
   "outputs": [],
   "source": []
  }
 ],
 "metadata": {
  "kernelspec": {
   "display_name": "R",
   "language": "R",
   "name": "ir"
  },
  "language_info": {
   "codemirror_mode": "r",
   "file_extension": ".r",
   "mimetype": "text/x-r-source",
   "name": "R",
   "pygments_lexer": "r",
   "version": "3.4.2"
  }
 },
 "nbformat": 4,
 "nbformat_minor": 2
}
