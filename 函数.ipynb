{
 "cells": [
  {
   "cell_type": "code",
   "execution_count": 1,
   "metadata": {},
   "outputs": [
    {
     "data": {
      "text/html": [
       "3"
      ],
      "text/latex": [
       "3"
      ],
      "text/markdown": [
       "3"
      ],
      "text/plain": [
       "[1] 3"
      ]
     },
     "metadata": {},
     "output_type": "display_data"
    }
   ],
   "source": [
    "f <- function(x, y) x + y\n",
    "f(1, 2)"
   ]
  },
  {
   "cell_type": "code",
   "execution_count": 3,
   "metadata": {},
   "outputs": [
    {
     "data": {
      "text/html": [
       "11"
      ],
      "text/latex": [
       "11"
      ],
      "text/markdown": [
       "11"
      ],
      "text/plain": [
       "[1] 11"
      ]
     },
     "metadata": {},
     "output_type": "display_data"
    }
   ],
   "source": [
    "f <- function(x, y=10) {x + y}\n",
    "f(1)"
   ]
  },
  {
   "cell_type": "code",
   "execution_count": 4,
   "metadata": {},
   "outputs": [],
   "source": [
    "v <- c(sqrt(1:100))"
   ]
  },
  {
   "cell_type": "code",
   "execution_count": 5,
   "metadata": {},
   "outputs": [
    {
     "data": {
      "text/html": [
       "<ol class=list-inline>\n",
       "\t<li>1</li>\n",
       "\t<li>1.4142135623731</li>\n",
       "\t<li>1.73205080756888</li>\n",
       "\t<li>2</li>\n",
       "\t<li>2.23606797749979</li>\n",
       "\t<li>2.44948974278318</li>\n",
       "\t<li>2.64575131106459</li>\n",
       "\t<li>2.82842712474619</li>\n",
       "\t<li>3</li>\n",
       "\t<li>3.16227766016838</li>\n",
       "\t<li>3.3166247903554</li>\n",
       "\t<li>3.46410161513775</li>\n",
       "\t<li>3.60555127546399</li>\n",
       "\t<li>3.74165738677394</li>\n",
       "\t<li>3.87298334620742</li>\n",
       "\t<li>4</li>\n",
       "\t<li>4.12310562561766</li>\n",
       "\t<li>4.24264068711928</li>\n",
       "\t<li>4.35889894354067</li>\n",
       "\t<li>4.47213595499958</li>\n",
       "\t<li>4.58257569495584</li>\n",
       "\t<li>4.69041575982343</li>\n",
       "\t<li>4.79583152331272</li>\n",
       "\t<li>4.89897948556636</li>\n",
       "\t<li>5</li>\n",
       "\t<li>5.09901951359278</li>\n",
       "\t<li>5.19615242270663</li>\n",
       "\t<li>5.29150262212918</li>\n",
       "\t<li>5.3851648071345</li>\n",
       "\t<li>5.47722557505166</li>\n",
       "\t<li>5.56776436283002</li>\n",
       "\t<li>5.65685424949238</li>\n",
       "\t<li>5.74456264653803</li>\n",
       "\t<li>5.8309518948453</li>\n",
       "\t<li>5.91607978309962</li>\n",
       "\t<li>6</li>\n",
       "\t<li>6.08276253029822</li>\n",
       "\t<li>6.16441400296898</li>\n",
       "\t<li>6.2449979983984</li>\n",
       "\t<li>6.32455532033676</li>\n",
       "\t<li>6.40312423743285</li>\n",
       "\t<li>6.48074069840786</li>\n",
       "\t<li>6.557438524302</li>\n",
       "\t<li>6.6332495807108</li>\n",
       "\t<li>6.70820393249937</li>\n",
       "\t<li>6.78232998312527</li>\n",
       "\t<li>6.85565460040104</li>\n",
       "\t<li>6.92820323027551</li>\n",
       "\t<li>7</li>\n",
       "\t<li>7.07106781186548</li>\n",
       "\t<li>7.14142842854285</li>\n",
       "\t<li>7.21110255092798</li>\n",
       "\t<li>7.28010988928052</li>\n",
       "\t<li>7.34846922834953</li>\n",
       "\t<li>7.41619848709566</li>\n",
       "\t<li>7.48331477354788</li>\n",
       "\t<li>7.54983443527075</li>\n",
       "\t<li>7.61577310586391</li>\n",
       "\t<li>7.68114574786861</li>\n",
       "\t<li>7.74596669241483</li>\n",
       "\t<li>7.81024967590665</li>\n",
       "\t<li>7.87400787401181</li>\n",
       "\t<li>7.93725393319377</li>\n",
       "\t<li>8</li>\n",
       "\t<li>8.06225774829855</li>\n",
       "\t<li>8.12403840463596</li>\n",
       "\t<li>8.18535277187245</li>\n",
       "\t<li>8.24621125123532</li>\n",
       "\t<li>8.30662386291807</li>\n",
       "\t<li>8.36660026534076</li>\n",
       "\t<li>8.42614977317636</li>\n",
       "\t<li>8.48528137423857</li>\n",
       "\t<li>8.54400374531753</li>\n",
       "\t<li>8.60232526704263</li>\n",
       "\t<li>8.66025403784439</li>\n",
       "\t<li>8.71779788708135</li>\n",
       "\t<li>8.77496438739212</li>\n",
       "\t<li>8.83176086632785</li>\n",
       "\t<li>8.88819441731559</li>\n",
       "\t<li>8.94427190999916</li>\n",
       "\t<li>9</li>\n",
       "\t<li>9.05538513813742</li>\n",
       "\t<li>9.1104335791443</li>\n",
       "\t<li>9.16515138991168</li>\n",
       "\t<li>9.21954445729289</li>\n",
       "\t<li>9.2736184954957</li>\n",
       "\t<li>9.32737905308882</li>\n",
       "\t<li>9.38083151964686</li>\n",
       "\t<li>9.4339811320566</li>\n",
       "\t<li>9.48683298050514</li>\n",
       "\t<li>9.53939201416946</li>\n",
       "\t<li>9.59166304662544</li>\n",
       "\t<li>9.64365076099295</li>\n",
       "\t<li>9.69535971483266</li>\n",
       "\t<li>9.74679434480896</li>\n",
       "\t<li>9.79795897113271</li>\n",
       "\t<li>9.8488578017961</li>\n",
       "\t<li>9.89949493661167</li>\n",
       "\t<li>9.9498743710662</li>\n",
       "\t<li>10</li>\n",
       "</ol>\n"
      ],
      "text/latex": [
       "\\begin{enumerate*}\n",
       "\\item 1\n",
       "\\item 1.4142135623731\n",
       "\\item 1.73205080756888\n",
       "\\item 2\n",
       "\\item 2.23606797749979\n",
       "\\item 2.44948974278318\n",
       "\\item 2.64575131106459\n",
       "\\item 2.82842712474619\n",
       "\\item 3\n",
       "\\item 3.16227766016838\n",
       "\\item 3.3166247903554\n",
       "\\item 3.46410161513775\n",
       "\\item 3.60555127546399\n",
       "\\item 3.74165738677394\n",
       "\\item 3.87298334620742\n",
       "\\item 4\n",
       "\\item 4.12310562561766\n",
       "\\item 4.24264068711928\n",
       "\\item 4.35889894354067\n",
       "\\item 4.47213595499958\n",
       "\\item 4.58257569495584\n",
       "\\item 4.69041575982343\n",
       "\\item 4.79583152331272\n",
       "\\item 4.89897948556636\n",
       "\\item 5\n",
       "\\item 5.09901951359278\n",
       "\\item 5.19615242270663\n",
       "\\item 5.29150262212918\n",
       "\\item 5.3851648071345\n",
       "\\item 5.47722557505166\n",
       "\\item 5.56776436283002\n",
       "\\item 5.65685424949238\n",
       "\\item 5.74456264653803\n",
       "\\item 5.8309518948453\n",
       "\\item 5.91607978309962\n",
       "\\item 6\n",
       "\\item 6.08276253029822\n",
       "\\item 6.16441400296898\n",
       "\\item 6.2449979983984\n",
       "\\item 6.32455532033676\n",
       "\\item 6.40312423743285\n",
       "\\item 6.48074069840786\n",
       "\\item 6.557438524302\n",
       "\\item 6.6332495807108\n",
       "\\item 6.70820393249937\n",
       "\\item 6.78232998312527\n",
       "\\item 6.85565460040104\n",
       "\\item 6.92820323027551\n",
       "\\item 7\n",
       "\\item 7.07106781186548\n",
       "\\item 7.14142842854285\n",
       "\\item 7.21110255092798\n",
       "\\item 7.28010988928052\n",
       "\\item 7.34846922834953\n",
       "\\item 7.41619848709566\n",
       "\\item 7.48331477354788\n",
       "\\item 7.54983443527075\n",
       "\\item 7.61577310586391\n",
       "\\item 7.68114574786861\n",
       "\\item 7.74596669241483\n",
       "\\item 7.81024967590665\n",
       "\\item 7.87400787401181\n",
       "\\item 7.93725393319377\n",
       "\\item 8\n",
       "\\item 8.06225774829855\n",
       "\\item 8.12403840463596\n",
       "\\item 8.18535277187245\n",
       "\\item 8.24621125123532\n",
       "\\item 8.30662386291807\n",
       "\\item 8.36660026534076\n",
       "\\item 8.42614977317636\n",
       "\\item 8.48528137423857\n",
       "\\item 8.54400374531753\n",
       "\\item 8.60232526704263\n",
       "\\item 8.66025403784439\n",
       "\\item 8.71779788708135\n",
       "\\item 8.77496438739212\n",
       "\\item 8.83176086632785\n",
       "\\item 8.88819441731559\n",
       "\\item 8.94427190999916\n",
       "\\item 9\n",
       "\\item 9.05538513813742\n",
       "\\item 9.1104335791443\n",
       "\\item 9.16515138991168\n",
       "\\item 9.21954445729289\n",
       "\\item 9.2736184954957\n",
       "\\item 9.32737905308882\n",
       "\\item 9.38083151964686\n",
       "\\item 9.4339811320566\n",
       "\\item 9.48683298050514\n",
       "\\item 9.53939201416946\n",
       "\\item 9.59166304662544\n",
       "\\item 9.64365076099295\n",
       "\\item 9.69535971483266\n",
       "\\item 9.74679434480896\n",
       "\\item 9.79795897113271\n",
       "\\item 9.8488578017961\n",
       "\\item 9.89949493661167\n",
       "\\item 9.9498743710662\n",
       "\\item 10\n",
       "\\end{enumerate*}\n"
      ],
      "text/markdown": [
       "1. 1\n",
       "2. 1.4142135623731\n",
       "3. 1.73205080756888\n",
       "4. 2\n",
       "5. 2.23606797749979\n",
       "6. 2.44948974278318\n",
       "7. 2.64575131106459\n",
       "8. 2.82842712474619\n",
       "9. 3\n",
       "10. 3.16227766016838\n",
       "11. 3.3166247903554\n",
       "12. 3.46410161513775\n",
       "13. 3.60555127546399\n",
       "14. 3.74165738677394\n",
       "15. 3.87298334620742\n",
       "16. 4\n",
       "17. 4.12310562561766\n",
       "18. 4.24264068711928\n",
       "19. 4.35889894354067\n",
       "20. 4.47213595499958\n",
       "21. 4.58257569495584\n",
       "22. 4.69041575982343\n",
       "23. 4.79583152331272\n",
       "24. 4.89897948556636\n",
       "25. 5\n",
       "26. 5.09901951359278\n",
       "27. 5.19615242270663\n",
       "28. 5.29150262212918\n",
       "29. 5.3851648071345\n",
       "30. 5.47722557505166\n",
       "31. 5.56776436283002\n",
       "32. 5.65685424949238\n",
       "33. 5.74456264653803\n",
       "34. 5.8309518948453\n",
       "35. 5.91607978309962\n",
       "36. 6\n",
       "37. 6.08276253029822\n",
       "38. 6.16441400296898\n",
       "39. 6.2449979983984\n",
       "40. 6.32455532033676\n",
       "41. 6.40312423743285\n",
       "42. 6.48074069840786\n",
       "43. 6.557438524302\n",
       "44. 6.6332495807108\n",
       "45. 6.70820393249937\n",
       "46. 6.78232998312527\n",
       "47. 6.85565460040104\n",
       "48. 6.92820323027551\n",
       "49. 7\n",
       "50. 7.07106781186548\n",
       "51. 7.14142842854285\n",
       "52. 7.21110255092798\n",
       "53. 7.28010988928052\n",
       "54. 7.34846922834953\n",
       "55. 7.41619848709566\n",
       "56. 7.48331477354788\n",
       "57. 7.54983443527075\n",
       "58. 7.61577310586391\n",
       "59. 7.68114574786861\n",
       "60. 7.74596669241483\n",
       "61. 7.81024967590665\n",
       "62. 7.87400787401181\n",
       "63. 7.93725393319377\n",
       "64. 8\n",
       "65. 8.06225774829855\n",
       "66. 8.12403840463596\n",
       "67. 8.18535277187245\n",
       "68. 8.24621125123532\n",
       "69. 8.30662386291807\n",
       "70. 8.36660026534076\n",
       "71. 8.42614977317636\n",
       "72. 8.48528137423857\n",
       "73. 8.54400374531753\n",
       "74. 8.60232526704263\n",
       "75. 8.66025403784439\n",
       "76. 8.71779788708135\n",
       "77. 8.77496438739212\n",
       "78. 8.83176086632785\n",
       "79. 8.88819441731559\n",
       "80. 8.94427190999916\n",
       "81. 9\n",
       "82. 9.05538513813742\n",
       "83. 9.1104335791443\n",
       "84. 9.16515138991168\n",
       "85. 9.21954445729289\n",
       "86. 9.2736184954957\n",
       "87. 9.32737905308882\n",
       "88. 9.38083151964686\n",
       "89. 9.4339811320566\n",
       "90. 9.48683298050514\n",
       "91. 9.53939201416946\n",
       "92. 9.59166304662544\n",
       "93. 9.64365076099295\n",
       "94. 9.69535971483266\n",
       "95. 9.74679434480896\n",
       "96. 9.79795897113271\n",
       "97. 9.8488578017961\n",
       "98. 9.89949493661167\n",
       "99. 9.9498743710662\n",
       "100. 10\n",
       "\n",
       "\n"
      ],
      "text/plain": [
       "  [1]  1.000000  1.414214  1.732051  2.000000  2.236068  2.449490  2.645751\n",
       "  [8]  2.828427  3.000000  3.162278  3.316625  3.464102  3.605551  3.741657\n",
       " [15]  3.872983  4.000000  4.123106  4.242641  4.358899  4.472136  4.582576\n",
       " [22]  4.690416  4.795832  4.898979  5.000000  5.099020  5.196152  5.291503\n",
       " [29]  5.385165  5.477226  5.567764  5.656854  5.744563  5.830952  5.916080\n",
       " [36]  6.000000  6.082763  6.164414  6.244998  6.324555  6.403124  6.480741\n",
       " [43]  6.557439  6.633250  6.708204  6.782330  6.855655  6.928203  7.000000\n",
       " [50]  7.071068  7.141428  7.211103  7.280110  7.348469  7.416198  7.483315\n",
       " [57]  7.549834  7.615773  7.681146  7.745967  7.810250  7.874008  7.937254\n",
       " [64]  8.000000  8.062258  8.124038  8.185353  8.246211  8.306624  8.366600\n",
       " [71]  8.426150  8.485281  8.544004  8.602325  8.660254  8.717798  8.774964\n",
       " [78]  8.831761  8.888194  8.944272  9.000000  9.055385  9.110434  9.165151\n",
       " [85]  9.219544  9.273618  9.327379  9.380832  9.433981  9.486833  9.539392\n",
       " [92]  9.591663  9.643651  9.695360  9.746794  9.797959  9.848858  9.899495\n",
       " [99]  9.949874 10.000000"
      ]
     },
     "metadata": {},
     "output_type": "display_data"
    }
   ],
   "source": [
    "v"
   ]
  },
  {
   "cell_type": "code",
   "execution_count": 6,
   "metadata": {},
   "outputs": [
    {
     "name": "stdout",
     "output_type": "stream",
     "text": [
      "[1] \"Here is the summary for v.\"\n"
     ]
    },
    {
     "data": {
      "text/plain": [
       "   Min. 1st Qu.  Median    Mean 3rd Qu.    Max. \n",
       "    1.0     5.1     7.1     6.7     8.7    10.0 "
      ]
     },
     "metadata": {},
     "output_type": "display_data"
    }
   ],
   "source": [
    "f <- function(x, ...) {print(x); summary(...)}\n",
    "f('Here is the summary for v.', v, digits=2)"
   ]
  },
  {
   "cell_type": "code",
   "execution_count": 7,
   "metadata": {},
   "outputs": [
    {
     "data": {
      "text/plain": [
       "   Min. 1st Qu.  Median    Mean 3rd Qu.    Max. \n",
       "  1.000   5.074   7.106   6.715   8.675  10.000 "
      ]
     },
     "metadata": {},
     "output_type": "display_data"
    }
   ],
   "source": [
    "summary(v)"
   ]
  },
  {
   "cell_type": "code",
   "execution_count": 8,
   "metadata": {},
   "outputs": [],
   "source": [
    "addemup <- function(x, ...){\n",
    "    args <- list(...)\n",
    "    for (a in args) x <- x + a\n",
    "    x\n",
    "}"
   ]
  },
  {
   "cell_type": "code",
   "execution_count": 9,
   "metadata": {},
   "outputs": [
    {
     "data": {
      "text/html": [
       "2"
      ],
      "text/latex": [
       "2"
      ],
      "text/markdown": [
       "2"
      ],
      "text/plain": [
       "[1] 2"
      ]
     },
     "metadata": {},
     "output_type": "display_data"
    },
    {
     "data": {
      "text/html": [
       "<ol class=list-inline>\n",
       "\t<li>1</li>\n",
       "\t<li>2</li>\n",
       "\t<li>3</li>\n",
       "\t<li>4</li>\n",
       "\t<li>5</li>\n",
       "\t<li>6</li>\n",
       "\t<li>7</li>\n",
       "\t<li>8</li>\n",
       "\t<li>9</li>\n",
       "\t<li>10</li>\n",
       "</ol>\n"
      ],
      "text/latex": [
       "\\begin{enumerate*}\n",
       "\\item 1\n",
       "\\item 2\n",
       "\\item 3\n",
       "\\item 4\n",
       "\\item 5\n",
       "\\item 6\n",
       "\\item 7\n",
       "\\item 8\n",
       "\\item 9\n",
       "\\item 10\n",
       "\\end{enumerate*}\n"
      ],
      "text/markdown": [
       "1. 1\n",
       "2. 2\n",
       "3. 3\n",
       "4. 4\n",
       "5. 5\n",
       "6. 6\n",
       "7. 7\n",
       "8. 8\n",
       "9. 9\n",
       "10. 10\n",
       "\n",
       "\n"
      ],
      "text/plain": [
       " [1]  1  2  3  4  5  6  7  8  9 10"
      ]
     },
     "metadata": {},
     "output_type": "display_data"
    }
   ],
   "source": [
    "addemup(1, 1)\n",
    "addemup(1:10)"
   ]
  },
  {
   "cell_type": "code",
   "execution_count": 10,
   "metadata": {},
   "outputs": [
    {
     "data": {
      "text/html": [
       "<ol class=list-inline>\n",
       "\t<li>2</li>\n",
       "\t<li>3</li>\n",
       "\t<li>4</li>\n",
       "\t<li>5</li>\n",
       "\t<li>6</li>\n",
       "\t<li>7</li>\n",
       "\t<li>8</li>\n",
       "\t<li>9</li>\n",
       "\t<li>10</li>\n",
       "\t<li>11</li>\n",
       "</ol>\n"
      ],
      "text/latex": [
       "\\begin{enumerate*}\n",
       "\\item 2\n",
       "\\item 3\n",
       "\\item 4\n",
       "\\item 5\n",
       "\\item 6\n",
       "\\item 7\n",
       "\\item 8\n",
       "\\item 9\n",
       "\\item 10\n",
       "\\item 11\n",
       "\\end{enumerate*}\n"
      ],
      "text/markdown": [
       "1. 2\n",
       "2. 3\n",
       "3. 4\n",
       "4. 5\n",
       "5. 6\n",
       "6. 7\n",
       "7. 8\n",
       "8. 9\n",
       "9. 10\n",
       "10. 11\n",
       "\n",
       "\n"
      ],
      "text/plain": [
       " [1]  2  3  4  5  6  7  8  9 10 11"
      ]
     },
     "metadata": {},
     "output_type": "display_data"
    }
   ],
   "source": [
    "addemup(1:10, 1)"
   ]
  },
  {
   "cell_type": "code",
   "execution_count": 11,
   "metadata": {},
   "outputs": [],
   "source": [
    "a <- 1:7"
   ]
  },
  {
   "cell_type": "code",
   "execution_count": 12,
   "metadata": {},
   "outputs": [
    {
     "data": {
      "text/html": [
       "<ol class=list-inline>\n",
       "\t<li>1</li>\n",
       "\t<li>2</li>\n",
       "\t<li>3</li>\n",
       "\t<li>4</li>\n",
       "\t<li>5</li>\n",
       "\t<li>6</li>\n",
       "\t<li>7</li>\n",
       "</ol>\n"
      ],
      "text/latex": [
       "\\begin{enumerate*}\n",
       "\\item 1\n",
       "\\item 2\n",
       "\\item 3\n",
       "\\item 4\n",
       "\\item 5\n",
       "\\item 6\n",
       "\\item 7\n",
       "\\end{enumerate*}\n"
      ],
      "text/markdown": [
       "1. 1\n",
       "2. 2\n",
       "3. 3\n",
       "4. 4\n",
       "5. 5\n",
       "6. 6\n",
       "7. 7\n",
       "\n",
       "\n"
      ],
      "text/plain": [
       "[1] 1 2 3 4 5 6 7"
      ]
     },
     "metadata": {},
     "output_type": "display_data"
    }
   ],
   "source": [
    "a"
   ]
  },
  {
   "cell_type": "code",
   "execution_count": 14,
   "metadata": {},
   "outputs": [
    {
     "data": {
      "text/html": [
       "<ol class=list-inline>\n",
       "\t<li>1</li>\n",
       "\t<li>1.4142135623731</li>\n",
       "\t<li>1.73205080756888</li>\n",
       "\t<li>2</li>\n",
       "\t<li>2.23606797749979</li>\n",
       "\t<li>2.44948974278318</li>\n",
       "\t<li>2.64575131106459</li>\n",
       "</ol>\n"
      ],
      "text/latex": [
       "\\begin{enumerate*}\n",
       "\\item 1\n",
       "\\item 1.4142135623731\n",
       "\\item 1.73205080756888\n",
       "\\item 2\n",
       "\\item 2.23606797749979\n",
       "\\item 2.44948974278318\n",
       "\\item 2.64575131106459\n",
       "\\end{enumerate*}\n"
      ],
      "text/markdown": [
       "1. 1\n",
       "2. 1.4142135623731\n",
       "3. 1.73205080756888\n",
       "4. 2\n",
       "5. 2.23606797749979\n",
       "6. 2.44948974278318\n",
       "7. 2.64575131106459\n",
       "\n",
       "\n"
      ],
      "text/plain": [
       "[1] 1.000000 1.414214 1.732051 2.000000 2.236068 2.449490 2.645751"
      ]
     },
     "metadata": {},
     "output_type": "display_data"
    }
   ],
   "source": [
    "sapply(a, sqrt)"
   ]
  },
  {
   "cell_type": "code",
   "execution_count": 15,
   "metadata": {},
   "outputs": [],
   "source": [
    "a <- 1:5"
   ]
  },
  {
   "cell_type": "code",
   "execution_count": 16,
   "metadata": {},
   "outputs": [
    {
     "data": {
      "text/html": [
       "<ol class=list-inline>\n",
       "\t<li>2</li>\n",
       "\t<li>3</li>\n",
       "\t<li>4</li>\n",
       "\t<li>5</li>\n",
       "\t<li>6</li>\n",
       "</ol>\n"
      ],
      "text/latex": [
       "\\begin{enumerate*}\n",
       "\\item 2\n",
       "\\item 3\n",
       "\\item 4\n",
       "\\item 5\n",
       "\\item 6\n",
       "\\end{enumerate*}\n"
      ],
      "text/markdown": [
       "1. 2\n",
       "2. 3\n",
       "3. 4\n",
       "4. 5\n",
       "5. 6\n",
       "\n",
       "\n"
      ],
      "text/plain": [
       "[1] 2 3 4 5 6"
      ]
     },
     "metadata": {},
     "output_type": "display_data"
    }
   ],
   "source": [
    "sapply(a, function(x) x + 1)"
   ]
  },
  {
   "cell_type": "code",
   "execution_count": 17,
   "metadata": {},
   "outputs": [],
   "source": [
    "v <- 1:20"
   ]
  },
  {
   "cell_type": "code",
   "execution_count": 18,
   "metadata": {},
   "outputs": [],
   "source": [
    "w <- NULL"
   ]
  },
  {
   "cell_type": "code",
   "execution_count": 19,
   "metadata": {},
   "outputs": [],
   "source": [
    "for (i in 1:length(v)) {w[i] <- v[i]^2}"
   ]
  },
  {
   "cell_type": "code",
   "execution_count": 20,
   "metadata": {},
   "outputs": [
    {
     "data": {
      "text/html": [
       "<ol class=list-inline>\n",
       "\t<li>1</li>\n",
       "\t<li>4</li>\n",
       "\t<li>9</li>\n",
       "\t<li>16</li>\n",
       "\t<li>25</li>\n",
       "\t<li>36</li>\n",
       "\t<li>49</li>\n",
       "\t<li>64</li>\n",
       "\t<li>81</li>\n",
       "\t<li>100</li>\n",
       "\t<li>121</li>\n",
       "\t<li>144</li>\n",
       "\t<li>169</li>\n",
       "\t<li>196</li>\n",
       "\t<li>225</li>\n",
       "\t<li>256</li>\n",
       "\t<li>289</li>\n",
       "\t<li>324</li>\n",
       "\t<li>361</li>\n",
       "\t<li>400</li>\n",
       "</ol>\n"
      ],
      "text/latex": [
       "\\begin{enumerate*}\n",
       "\\item 1\n",
       "\\item 4\n",
       "\\item 9\n",
       "\\item 16\n",
       "\\item 25\n",
       "\\item 36\n",
       "\\item 49\n",
       "\\item 64\n",
       "\\item 81\n",
       "\\item 100\n",
       "\\item 121\n",
       "\\item 144\n",
       "\\item 169\n",
       "\\item 196\n",
       "\\item 225\n",
       "\\item 256\n",
       "\\item 289\n",
       "\\item 324\n",
       "\\item 361\n",
       "\\item 400\n",
       "\\end{enumerate*}\n"
      ],
      "text/markdown": [
       "1. 1\n",
       "2. 4\n",
       "3. 9\n",
       "4. 16\n",
       "5. 25\n",
       "6. 36\n",
       "7. 49\n",
       "8. 64\n",
       "9. 81\n",
       "10. 100\n",
       "11. 121\n",
       "12. 144\n",
       "13. 169\n",
       "14. 196\n",
       "15. 225\n",
       "16. 256\n",
       "17. 289\n",
       "18. 324\n",
       "19. 361\n",
       "20. 400\n",
       "\n",
       "\n"
      ],
      "text/plain": [
       " [1]   1   4   9  16  25  36  49  64  81 100 121 144 169 196 225 256 289 324 361\n",
       "[20] 400"
      ]
     },
     "metadata": {},
     "output_type": "display_data"
    }
   ],
   "source": [
    "w"
   ]
  },
  {
   "cell_type": "code",
   "execution_count": 21,
   "metadata": {},
   "outputs": [],
   "source": [
    "w <- sapply(v, function(x) x^2)"
   ]
  },
  {
   "cell_type": "code",
   "execution_count": 22,
   "metadata": {},
   "outputs": [
    {
     "data": {
      "text/html": [
       "<ol class=list-inline>\n",
       "\t<li>1</li>\n",
       "\t<li>4</li>\n",
       "\t<li>9</li>\n",
       "\t<li>16</li>\n",
       "\t<li>25</li>\n",
       "\t<li>36</li>\n",
       "\t<li>49</li>\n",
       "\t<li>64</li>\n",
       "\t<li>81</li>\n",
       "\t<li>100</li>\n",
       "\t<li>121</li>\n",
       "\t<li>144</li>\n",
       "\t<li>169</li>\n",
       "\t<li>196</li>\n",
       "\t<li>225</li>\n",
       "\t<li>256</li>\n",
       "\t<li>289</li>\n",
       "\t<li>324</li>\n",
       "\t<li>361</li>\n",
       "\t<li>400</li>\n",
       "</ol>\n"
      ],
      "text/latex": [
       "\\begin{enumerate*}\n",
       "\\item 1\n",
       "\\item 4\n",
       "\\item 9\n",
       "\\item 16\n",
       "\\item 25\n",
       "\\item 36\n",
       "\\item 49\n",
       "\\item 64\n",
       "\\item 81\n",
       "\\item 100\n",
       "\\item 121\n",
       "\\item 144\n",
       "\\item 169\n",
       "\\item 196\n",
       "\\item 225\n",
       "\\item 256\n",
       "\\item 289\n",
       "\\item 324\n",
       "\\item 361\n",
       "\\item 400\n",
       "\\end{enumerate*}\n"
      ],
      "text/markdown": [
       "1. 1\n",
       "2. 4\n",
       "3. 9\n",
       "4. 16\n",
       "5. 25\n",
       "6. 36\n",
       "7. 49\n",
       "8. 64\n",
       "9. 81\n",
       "10. 100\n",
       "11. 121\n",
       "12. 144\n",
       "13. 169\n",
       "14. 196\n",
       "15. 225\n",
       "16. 256\n",
       "17. 289\n",
       "18. 324\n",
       "19. 361\n",
       "20. 400\n",
       "\n",
       "\n"
      ],
      "text/plain": [
       " [1]   1   4   9  16  25  36  49  64  81 100 121 144 169 196 225 256 289 324 361\n",
       "[20] 400"
      ]
     },
     "metadata": {},
     "output_type": "display_data"
    }
   ],
   "source": [
    "w"
   ]
  },
  {
   "cell_type": "code",
   "execution_count": 23,
   "metadata": {},
   "outputs": [
    {
     "data": {
      "text/html": [
       "<pre class=language-r><code>function (x, ...) \n",
       "NULL</code></pre>"
      ],
      "text/latex": [
       "\\begin{minted}{r}\n",
       "function (x, ...) \n",
       "NULL\n",
       "\\end{minted}"
      ],
      "text/markdown": [
       "```r\n",
       "function (x, ...) \n",
       "NULL\n",
       "```"
      ],
      "text/plain": [
       "function (x, ...) \n",
       "NULL"
      ]
     },
     "metadata": {},
     "output_type": "display_data"
    }
   ],
   "source": [
    "args(addemup)"
   ]
  },
  {
   "cell_type": "code",
   "execution_count": 24,
   "metadata": {},
   "outputs": [],
   "source": [
    "f <- function(x, y=1, z=2) {x + y + z}"
   ]
  },
  {
   "cell_type": "code",
   "execution_count": 25,
   "metadata": {},
   "outputs": [],
   "source": [
    "f.formals <- formals(f)"
   ]
  },
  {
   "cell_type": "code",
   "execution_count": 26,
   "metadata": {},
   "outputs": [
    {
     "data": {
      "text/plain": [
       "$x\n",
       "\n",
       "\n",
       "$y\n",
       "[1] 1\n",
       "\n",
       "$z\n",
       "[1] 2\n"
      ]
     },
     "metadata": {},
     "output_type": "display_data"
    }
   ],
   "source": [
    "f.formals"
   ]
  },
  {
   "cell_type": "code",
   "execution_count": 27,
   "metadata": {},
   "outputs": [],
   "source": [
    "f.formals$y <- 3"
   ]
  },
  {
   "cell_type": "code",
   "execution_count": 28,
   "metadata": {},
   "outputs": [],
   "source": [
    "formals(f) <- f.formals"
   ]
  },
  {
   "cell_type": "code",
   "execution_count": 29,
   "metadata": {},
   "outputs": [
    {
     "data": {
      "text/html": [
       "<pre class=language-r><code>function (x, y = 3, z = 2) \n",
       "NULL</code></pre>"
      ],
      "text/latex": [
       "\\begin{minted}{r}\n",
       "function (x, y = 3, z = 2) \n",
       "NULL\n",
       "\\end{minted}"
      ],
      "text/markdown": [
       "```r\n",
       "function (x, y = 3, z = 2) \n",
       "NULL\n",
       "```"
      ],
      "text/plain": [
       "function (x, y = 3, z = 2) \n",
       "NULL"
      ]
     },
     "metadata": {},
     "output_type": "display_data"
    }
   ],
   "source": [
    "args(f)"
   ]
  },
  {
   "cell_type": "code",
   "execution_count": 30,
   "metadata": {},
   "outputs": [
    {
     "data": {
      "text/html": [
       "<pre class=language-r><code>function (x, y = 3, z = 2) \n",
       "{\n",
       "<span style=white-space:pre-wrap>    x + y + z</span>\n",
       "}</code></pre>"
      ],
      "text/latex": [
       "\\begin{minted}{r}\n",
       "function (x, y = 3, z = 2) \n",
       "\\{\n",
       "    x + y + z\n",
       "\\}\n",
       "\\end{minted}"
      ],
      "text/markdown": [
       "```r\n",
       "function (x, y = 3, z = 2) \n",
       "{\n",
       "    x + y + z\n",
       "}\n",
       "```"
      ],
      "text/plain": [
       "function (x, y = 3, z = 2) \n",
       "{\n",
       "    x + y + z\n",
       "}"
      ]
     },
     "metadata": {},
     "output_type": "display_data"
    }
   ],
   "source": [
    "f"
   ]
  },
  {
   "cell_type": "code",
   "execution_count": 31,
   "metadata": {},
   "outputs": [],
   "source": [
    "formals(f) <- alist(x=, y=100, z=200)"
   ]
  },
  {
   "cell_type": "code",
   "execution_count": 32,
   "metadata": {},
   "outputs": [
    {
     "data": {
      "text/html": [
       "<pre class=language-r><code>function (x, y = 100, z = 200) \n",
       "{\n",
       "<span style=white-space:pre-wrap>    x + y + z</span>\n",
       "}</code></pre>"
      ],
      "text/latex": [
       "\\begin{minted}{r}\n",
       "function (x, y = 100, z = 200) \n",
       "\\{\n",
       "    x + y + z\n",
       "\\}\n",
       "\\end{minted}"
      ],
      "text/markdown": [
       "```r\n",
       "function (x, y = 100, z = 200) \n",
       "{\n",
       "    x + y + z\n",
       "}\n",
       "```"
      ],
      "text/plain": [
       "function (x, y = 100, z = 200) \n",
       "{\n",
       "    x + y + z\n",
       "}"
      ]
     },
     "metadata": {},
     "output_type": "display_data"
    }
   ],
   "source": [
    "f"
   ]
  },
  {
   "cell_type": "code",
   "execution_count": 33,
   "metadata": {},
   "outputs": [
    {
     "data": {
      "text/plain": [
       "{\n",
       "    x + y + z\n",
       "}"
      ]
     },
     "metadata": {},
     "output_type": "display_data"
    }
   ],
   "source": [
    "body(f)"
   ]
  },
  {
   "cell_type": "code",
   "execution_count": 34,
   "metadata": {},
   "outputs": [],
   "source": [
    "body(f) <- expression(x * y * z)"
   ]
  },
  {
   "cell_type": "code",
   "execution_count": 35,
   "metadata": {},
   "outputs": [
    {
     "data": {
      "text/html": [
       "<pre class=language-r><code>function (x, y = 100, z = 200) \n",
       "x * y * z</code></pre>"
      ],
      "text/latex": [
       "\\begin{minted}{r}\n",
       "function (x, y = 100, z = 200) \n",
       "x * y * z\n",
       "\\end{minted}"
      ],
      "text/markdown": [
       "```r\n",
       "function (x, y = 100, z = 200) \n",
       "x * y * z\n",
       "```"
      ],
      "text/plain": [
       "function (x, y = 100, z = 200) \n",
       "x * y * z"
      ]
     },
     "metadata": {},
     "output_type": "display_data"
    }
   ],
   "source": [
    "f"
   ]
  },
  {
   "cell_type": "code",
   "execution_count": null,
   "metadata": {},
   "outputs": [],
   "source": []
  }
 ],
 "metadata": {
  "kernelspec": {
   "display_name": "R",
   "language": "R",
   "name": "ir"
  },
  "language_info": {
   "codemirror_mode": "r",
   "file_extension": ".r",
   "mimetype": "text/x-r-source",
   "name": "R",
   "pygments_lexer": "r",
   "version": "3.4.2"
  }
 },
 "nbformat": 4,
 "nbformat_minor": 2
}
