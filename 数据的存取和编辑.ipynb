{
 "cells": [
  {
   "cell_type": "code",
   "execution_count": 1,
   "metadata": {},
   "outputs": [],
   "source": [
    "?read.table"
   ]
  },
  {
   "cell_type": "code",
   "execution_count": 1,
   "metadata": {},
   "outputs": [
    {
     "name": "stderr",
     "output_type": "stream",
     "text": [
      "Warning message in file(file, \"rt\"):\n",
      "\"InternetOpenUrl失败:’无法解析服务器的名称或地址'\""
     ]
    },
    {
     "ename": "ERROR",
     "evalue": "Error in file(file, \"rt\"): 无法打开链结\n",
     "output_type": "error",
     "traceback": [
      "Error in file(file, \"rt\"): 无法打开链结\nTraceback:\n",
      "1. read.csv(paste(\"http://ichart.finance.yahoo.com/table.csv?\", \n .     \"s=%5EGSPC&a=03&b=1&c=1999&d=03&e=1&f=2009&g=m&ignore=.csv\", \n .     sep = \"\"))",
      "2. read.table(file = file, header = header, sep = sep, quote = quote, \n .     dec = dec, fill = fill, comment.char = comment.char, ...)",
      "3. file(file, \"rt\")"
     ]
    }
   ],
   "source": [
    "sp500 <- read.csv(paste('http://ichart.finance.yahoo.com/table.csv?', \n",
    "                        's=%5EGSPC&a=03&b=1&c=1999&d=03&e=1&f=2009&g=m&ignore=.csv', sep=''))"
   ]
  },
  {
   "cell_type": "code",
   "execution_count": 2,
   "metadata": {},
   "outputs": [],
   "source": [
    "salary <- c(18700000, 14626720, 14137500, 13980000, 12916666)\n",
    "position <- c('QB', 'QB', 'DE', 'QB', 'QB')\n",
    "team <- c('Colts', 'Patriots', 'Panthers', 'Bengals', 'Giants')\n",
    "name.last <- c('Manning', 'Brady', 'Pepper', 'Palmer', 'Manning')\n",
    "name.first <- c('Peyton', 'Tom', 'Julius', 'Carson', 'Eli')"
   ]
  },
  {
   "cell_type": "code",
   "execution_count": 3,
   "metadata": {},
   "outputs": [],
   "source": [
    "top.5.salaries <- data.frame(name.last, name.first, team, position, salary)"
   ]
  },
  {
   "cell_type": "code",
   "execution_count": 4,
   "metadata": {},
   "outputs": [
    {
     "data": {
      "text/html": [
       "<table>\n",
       "<thead><tr><th scope=col>name.last</th><th scope=col>name.first</th><th scope=col>team</th><th scope=col>position</th><th scope=col>salary</th></tr></thead>\n",
       "<tbody>\n",
       "\t<tr><td>Manning </td><td>Peyton  </td><td>Colts   </td><td>QB      </td><td>18700000</td></tr>\n",
       "\t<tr><td>Brady   </td><td>Tom     </td><td>Patriots</td><td>QB      </td><td>14626720</td></tr>\n",
       "\t<tr><td>Pepper  </td><td>Julius  </td><td>Panthers</td><td>DE      </td><td>14137500</td></tr>\n",
       "\t<tr><td>Palmer  </td><td>Carson  </td><td>Bengals </td><td>QB      </td><td>13980000</td></tr>\n",
       "\t<tr><td>Manning </td><td>Eli     </td><td>Giants  </td><td>QB      </td><td>12916666</td></tr>\n",
       "</tbody>\n",
       "</table>\n"
      ],
      "text/latex": [
       "\\begin{tabular}{r|lllll}\n",
       " name.last & name.first & team & position & salary\\\\\n",
       "\\hline\n",
       "\t Manning  & Peyton   & Colts    & QB       & 18700000\\\\\n",
       "\t Brady    & Tom      & Patriots & QB       & 14626720\\\\\n",
       "\t Pepper   & Julius   & Panthers & DE       & 14137500\\\\\n",
       "\t Palmer   & Carson   & Bengals  & QB       & 13980000\\\\\n",
       "\t Manning  & Eli      & Giants   & QB       & 12916666\\\\\n",
       "\\end{tabular}\n"
      ],
      "text/markdown": [
       "\n",
       "name.last | name.first | team | position | salary | \n",
       "|---|---|---|---|---|\n",
       "| Manning  | Peyton   | Colts    | QB       | 18700000 | \n",
       "| Brady    | Tom      | Patriots | QB       | 14626720 | \n",
       "| Pepper   | Julius   | Panthers | DE       | 14137500 | \n",
       "| Palmer   | Carson   | Bengals  | QB       | 13980000 | \n",
       "| Manning  | Eli      | Giants   | QB       | 12916666 | \n",
       "\n",
       "\n"
      ],
      "text/plain": [
       "  name.last name.first team     position salary  \n",
       "1 Manning   Peyton     Colts    QB       18700000\n",
       "2 Brady     Tom        Patriots QB       14626720\n",
       "3 Pepper    Julius     Panthers DE       14137500\n",
       "4 Palmer    Carson     Bengals  QB       13980000\n",
       "5 Manning   Eli        Giants   QB       12916666"
      ]
     },
     "metadata": {},
     "output_type": "display_data"
    }
   ],
   "source": [
    "top.5.salaries"
   ]
  },
  {
   "cell_type": "code",
   "execution_count": 5,
   "metadata": {},
   "outputs": [
    {
     "ename": "ERROR",
     "evalue": "Error in edit(top.5.salaries): 'edit()' not yet supported in the Jupyter R kernel\n",
     "output_type": "error",
     "traceback": [
      "Error in edit(top.5.salaries): 'edit()' not yet supported in the Jupyter R kernel\nTraceback:\n",
      "1. edit(top.5.salaries)",
      "2. stop(sQuote(\"edit()\"), \" not yet supported in the Jupyter R kernel\")"
     ]
    }
   ],
   "source": [
    "top.5.salaries <- edit(top.5.salaries)"
   ]
  },
  {
   "cell_type": "code",
   "execution_count": null,
   "metadata": {},
   "outputs": [],
   "source": []
  }
 ],
 "metadata": {
  "kernelspec": {
   "display_name": "R",
   "language": "R",
   "name": "ir"
  },
  "language_info": {
   "codemirror_mode": "r",
   "file_extension": ".r",
   "mimetype": "text/x-r-source",
   "name": "R",
   "pygments_lexer": "r",
   "version": "3.4.2"
  }
 },
 "nbformat": 4,
 "nbformat_minor": 2
}
