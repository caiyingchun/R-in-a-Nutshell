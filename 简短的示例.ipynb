{
 "cells": [
  {
   "cell_type": "code",
   "execution_count": 1,
   "metadata": {},
   "outputs": [
    {
     "data": {
      "text/html": [
       "<ol class=list-inline>\n",
       "\t<li>0</li>\n",
       "\t<li>1</li>\n",
       "\t<li>2</li>\n",
       "\t<li>3</li>\n",
       "\t<li>4</li>\n",
       "\t<li>5</li>\n",
       "</ol>\n"
      ],
      "text/latex": [
       "\\begin{enumerate*}\n",
       "\\item 0\n",
       "\\item 1\n",
       "\\item 2\n",
       "\\item 3\n",
       "\\item 4\n",
       "\\item 5\n",
       "\\end{enumerate*}\n"
      ],
      "text/markdown": [
       "1. 0\n",
       "2. 1\n",
       "3. 2\n",
       "4. 3\n",
       "5. 4\n",
       "6. 5\n",
       "\n",
       "\n"
      ],
      "text/plain": [
       "[1] 0 1 2 3 4 5"
      ]
     },
     "metadata": {},
     "output_type": "display_data"
    }
   ],
   "source": [
    "c(0, 1, 2, 3, 4, 5)"
   ]
  },
  {
   "cell_type": "code",
   "execution_count": 2,
   "metadata": {},
   "outputs": [
    {
     "data": {
      "text/html": [
       "<ol class=list-inline>\n",
       "\t<li>1</li>\n",
       "\t<li>2</li>\n",
       "\t<li>3</li>\n",
       "\t<li>4</li>\n",
       "\t<li>5</li>\n",
       "\t<li>6</li>\n",
       "\t<li>7</li>\n",
       "\t<li>8</li>\n",
       "\t<li>9</li>\n",
       "\t<li>10</li>\n",
       "</ol>\n"
      ],
      "text/latex": [
       "\\begin{enumerate*}\n",
       "\\item 1\n",
       "\\item 2\n",
       "\\item 3\n",
       "\\item 4\n",
       "\\item 5\n",
       "\\item 6\n",
       "\\item 7\n",
       "\\item 8\n",
       "\\item 9\n",
       "\\item 10\n",
       "\\end{enumerate*}\n"
      ],
      "text/markdown": [
       "1. 1\n",
       "2. 2\n",
       "3. 3\n",
       "4. 4\n",
       "5. 5\n",
       "6. 6\n",
       "7. 7\n",
       "8. 8\n",
       "9. 9\n",
       "10. 10\n",
       "\n",
       "\n"
      ],
      "text/plain": [
       " [1]  1  2  3  4  5  6  7  8  9 10"
      ]
     },
     "metadata": {},
     "output_type": "display_data"
    }
   ],
   "source": [
    "1:10"
   ]
  },
  {
   "cell_type": "code",
   "execution_count": 3,
   "metadata": {},
   "outputs": [],
   "source": [
    "a <- c(1, 2, 3, 4, 5, 6, 7, 8, 9)"
   ]
  },
  {
   "cell_type": "code",
   "execution_count": 4,
   "metadata": {},
   "outputs": [
    {
     "data": {
      "text/html": [
       "<ol class=list-inline>\n",
       "\t<li>1</li>\n",
       "\t<li>2</li>\n",
       "\t<li>3</li>\n",
       "\t<li>4</li>\n",
       "\t<li>5</li>\n",
       "\t<li>6</li>\n",
       "\t<li>7</li>\n",
       "\t<li>8</li>\n",
       "\t<li>9</li>\n",
       "</ol>\n"
      ],
      "text/latex": [
       "\\begin{enumerate*}\n",
       "\\item 1\n",
       "\\item 2\n",
       "\\item 3\n",
       "\\item 4\n",
       "\\item 5\n",
       "\\item 6\n",
       "\\item 7\n",
       "\\item 8\n",
       "\\item 9\n",
       "\\end{enumerate*}\n"
      ],
      "text/markdown": [
       "1. 1\n",
       "2. 2\n",
       "3. 3\n",
       "4. 4\n",
       "5. 5\n",
       "6. 6\n",
       "7. 7\n",
       "8. 8\n",
       "9. 9\n",
       "\n",
       "\n"
      ],
      "text/plain": [
       "[1] 1 2 3 4 5 6 7 8 9"
      ]
     },
     "metadata": {},
     "output_type": "display_data"
    }
   ],
   "source": [
    "a"
   ]
  },
  {
   "cell_type": "code",
   "execution_count": 5,
   "metadata": {},
   "outputs": [
    {
     "data": {
      "text/html": [
       "4"
      ],
      "text/latex": [
       "4"
      ],
      "text/markdown": [
       "4"
      ],
      "text/plain": [
       "[1] 4"
      ]
     },
     "metadata": {},
     "output_type": "display_data"
    }
   ],
   "source": [
    "a[4]"
   ]
  },
  {
   "cell_type": "code",
   "execution_count": 6,
   "metadata": {},
   "outputs": [
    {
     "data": {
      "text/html": [
       "<ol class=list-inline>\n",
       "\t<li>1</li>\n",
       "\t<li>2</li>\n",
       "\t<li>3</li>\n",
       "\t<li>4</li>\n",
       "</ol>\n"
      ],
      "text/latex": [
       "\\begin{enumerate*}\n",
       "\\item 1\n",
       "\\item 2\n",
       "\\item 3\n",
       "\\item 4\n",
       "\\end{enumerate*}\n"
      ],
      "text/markdown": [
       "1. 1\n",
       "2. 2\n",
       "3. 3\n",
       "4. 4\n",
       "\n",
       "\n"
      ],
      "text/plain": [
       "[1] 1 2 3 4"
      ]
     },
     "metadata": {},
     "output_type": "display_data"
    }
   ],
   "source": [
    "a[1:4]"
   ]
  },
  {
   "cell_type": "markdown",
   "metadata": {},
   "source": [
    "Array"
   ]
  },
  {
   "cell_type": "code",
   "execution_count": 7,
   "metadata": {},
   "outputs": [],
   "source": [
    "b <- array(c(1:20), dim=c(4,5))"
   ]
  },
  {
   "cell_type": "code",
   "execution_count": 8,
   "metadata": {},
   "outputs": [
    {
     "data": {
      "text/html": [
       "<table>\n",
       "<tbody>\n",
       "\t<tr><td>1 </td><td>5 </td><td> 9</td><td>13</td><td>17</td></tr>\n",
       "\t<tr><td>2 </td><td>6 </td><td>10</td><td>14</td><td>18</td></tr>\n",
       "\t<tr><td>3 </td><td>7 </td><td>11</td><td>15</td><td>19</td></tr>\n",
       "\t<tr><td>4 </td><td>8 </td><td>12</td><td>16</td><td>20</td></tr>\n",
       "</tbody>\n",
       "</table>\n"
      ],
      "text/latex": [
       "\\begin{tabular}{lllll}\n",
       "\t 1  & 5  &  9 & 13 & 17\\\\\n",
       "\t 2  & 6  & 10 & 14 & 18\\\\\n",
       "\t 3  & 7  & 11 & 15 & 19\\\\\n",
       "\t 4  & 8  & 12 & 16 & 20\\\\\n",
       "\\end{tabular}\n"
      ],
      "text/markdown": [
       "\n",
       "| 1  | 5  |  9 | 13 | 17 | \n",
       "| 2  | 6  | 10 | 14 | 18 | \n",
       "| 3  | 7  | 11 | 15 | 19 | \n",
       "| 4  | 8  | 12 | 16 | 20 | \n",
       "\n",
       "\n"
      ],
      "text/plain": [
       "     [,1] [,2] [,3] [,4] [,5]\n",
       "[1,] 1    5     9   13   17  \n",
       "[2,] 2    6    10   14   18  \n",
       "[3,] 3    7    11   15   19  \n",
       "[4,] 4    8    12   16   20  "
      ]
     },
     "metadata": {},
     "output_type": "display_data"
    }
   ],
   "source": [
    "b"
   ]
  },
  {
   "cell_type": "code",
   "execution_count": 9,
   "metadata": {},
   "outputs": [
    {
     "data": {
      "text/html": [
       "10"
      ],
      "text/latex": [
       "10"
      ],
      "text/markdown": [
       "10"
      ],
      "text/plain": [
       "[1] 10"
      ]
     },
     "metadata": {},
     "output_type": "display_data"
    }
   ],
   "source": [
    "b[2,3]"
   ]
  },
  {
   "cell_type": "code",
   "execution_count": 10,
   "metadata": {},
   "outputs": [],
   "source": [
    "c <- matrix(data = c(1:20),nrow = 4,ncol = 5)"
   ]
  },
  {
   "cell_type": "code",
   "execution_count": 11,
   "metadata": {},
   "outputs": [
    {
     "data": {
      "text/html": [
       "<table>\n",
       "<tbody>\n",
       "\t<tr><td>1 </td><td>5 </td><td> 9</td><td>13</td><td>17</td></tr>\n",
       "\t<tr><td>2 </td><td>6 </td><td>10</td><td>14</td><td>18</td></tr>\n",
       "\t<tr><td>3 </td><td>7 </td><td>11</td><td>15</td><td>19</td></tr>\n",
       "\t<tr><td>4 </td><td>8 </td><td>12</td><td>16</td><td>20</td></tr>\n",
       "</tbody>\n",
       "</table>\n"
      ],
      "text/latex": [
       "\\begin{tabular}{lllll}\n",
       "\t 1  & 5  &  9 & 13 & 17\\\\\n",
       "\t 2  & 6  & 10 & 14 & 18\\\\\n",
       "\t 3  & 7  & 11 & 15 & 19\\\\\n",
       "\t 4  & 8  & 12 & 16 & 20\\\\\n",
       "\\end{tabular}\n"
      ],
      "text/markdown": [
       "\n",
       "| 1  | 5  |  9 | 13 | 17 | \n",
       "| 2  | 6  | 10 | 14 | 18 | \n",
       "| 3  | 7  | 11 | 15 | 19 | \n",
       "| 4  | 8  | 12 | 16 | 20 | \n",
       "\n",
       "\n"
      ],
      "text/plain": [
       "     [,1] [,2] [,3] [,4] [,5]\n",
       "[1,] 1    5     9   13   17  \n",
       "[2,] 2    6    10   14   18  \n",
       "[3,] 3    7    11   15   19  \n",
       "[4,] 4    8    12   16   20  "
      ]
     },
     "metadata": {},
     "output_type": "display_data"
    }
   ],
   "source": [
    "c"
   ]
  },
  {
   "cell_type": "code",
   "execution_count": 12,
   "metadata": {},
   "outputs": [],
   "source": [
    "d <- list(thing='hat', size='8.25')"
   ]
  },
  {
   "cell_type": "code",
   "execution_count": 13,
   "metadata": {},
   "outputs": [
    {
     "data": {
      "text/html": [
       "<dl>\n",
       "\t<dt>$thing</dt>\n",
       "\t\t<dd>'hat'</dd>\n",
       "\t<dt>$size</dt>\n",
       "\t\t<dd>'8.25'</dd>\n",
       "</dl>\n"
      ],
      "text/latex": [
       "\\begin{description}\n",
       "\\item[\\$thing] 'hat'\n",
       "\\item[\\$size] '8.25'\n",
       "\\end{description}\n"
      ],
      "text/markdown": [
       "$thing\n",
       ":   'hat'\n",
       "$size\n",
       ":   '8.25'\n",
       "\n",
       "\n"
      ],
      "text/plain": [
       "$thing\n",
       "[1] \"hat\"\n",
       "\n",
       "$size\n",
       "[1] \"8.25\"\n"
      ]
     },
     "metadata": {},
     "output_type": "display_data"
    }
   ],
   "source": [
    "d"
   ]
  },
  {
   "cell_type": "code",
   "execution_count": 14,
   "metadata": {},
   "outputs": [
    {
     "data": {
      "text/html": [
       "'hat'"
      ],
      "text/latex": [
       "'hat'"
      ],
      "text/markdown": [
       "'hat'"
      ],
      "text/plain": [
       "[1] \"hat\""
      ]
     },
     "metadata": {},
     "output_type": "display_data"
    }
   ],
   "source": [
    "d$thing"
   ]
  },
  {
   "cell_type": "code",
   "execution_count": 15,
   "metadata": {},
   "outputs": [
    {
     "data": {
      "text/html": [
       "'8.25'"
      ],
      "text/latex": [
       "'8.25'"
      ],
      "text/markdown": [
       "'8.25'"
      ],
      "text/plain": [
       "[1] \"8.25\""
      ]
     },
     "metadata": {},
     "output_type": "display_data"
    }
   ],
   "source": [
    "d$size"
   ]
  },
  {
   "cell_type": "code",
   "execution_count": 16,
   "metadata": {},
   "outputs": [
    {
     "data": {
      "text/html": [
       "<strong>$thing</strong> = 'hat'"
      ],
      "text/latex": [
       "\\textbf{\\$thing} = 'hat'"
      ],
      "text/markdown": [
       "**$thing** = 'hat'"
      ],
      "text/plain": [
       "$thing\n",
       "[1] \"hat\"\n"
      ]
     },
     "metadata": {},
     "output_type": "display_data"
    }
   ],
   "source": [
    "d[1]"
   ]
  },
  {
   "cell_type": "code",
   "execution_count": 17,
   "metadata": {},
   "outputs": [
    {
     "data": {
      "text/html": [
       "'hat'"
      ],
      "text/latex": [
       "'hat'"
      ],
      "text/markdown": [
       "'hat'"
      ],
      "text/plain": [
       "[1] \"hat\""
      ]
     },
     "metadata": {},
     "output_type": "display_data"
    }
   ],
   "source": [
    "d[[1]]"
   ]
  },
  {
   "cell_type": "code",
   "execution_count": 19,
   "metadata": {},
   "outputs": [],
   "source": [
    "e <- list('this is a list', d)"
   ]
  },
  {
   "cell_type": "code",
   "execution_count": 20,
   "metadata": {},
   "outputs": [
    {
     "data": {
      "text/html": [
       "<ol>\n",
       "\t<li>'this is a list'</li>\n",
       "\t<li><dl>\n",
       "\t<dt>$thing</dt>\n",
       "\t\t<dd>'hat'</dd>\n",
       "\t<dt>$size</dt>\n",
       "\t\t<dd>'8.25'</dd>\n",
       "</dl>\n",
       "</li>\n",
       "</ol>\n"
      ],
      "text/latex": [
       "\\begin{enumerate}\n",
       "\\item 'this is a list'\n",
       "\\item \\begin{description}\n",
       "\\item[\\$thing] 'hat'\n",
       "\\item[\\$size] '8.25'\n",
       "\\end{description}\n",
       "\n",
       "\\end{enumerate}\n"
      ],
      "text/markdown": [
       "1. 'this is a list'\n",
       "2. $thing\n",
       ":   'hat'\n",
       "$size\n",
       ":   '8.25'\n",
       "\n",
       "\n",
       "\n",
       "\n",
       "\n"
      ],
      "text/plain": [
       "[[1]]\n",
       "[1] \"this is a list\"\n",
       "\n",
       "[[2]]\n",
       "[[2]]$thing\n",
       "[1] \"hat\"\n",
       "\n",
       "[[2]]$size\n",
       "[1] \"8.25\"\n",
       "\n"
      ]
     },
     "metadata": {},
     "output_type": "display_data"
    }
   ],
   "source": [
    "e"
   ]
  },
  {
   "cell_type": "code",
   "execution_count": 21,
   "metadata": {},
   "outputs": [
    {
     "data": {
      "text/html": [
       "<ol>\n",
       "\t<li>'this is a list'</li>\n",
       "</ol>\n"
      ],
      "text/latex": [
       "\\begin{enumerate}\n",
       "\\item 'this is a list'\n",
       "\\end{enumerate}\n"
      ],
      "text/markdown": [
       "1. 'this is a list'\n",
       "\n",
       "\n"
      ],
      "text/plain": [
       "[[1]]\n",
       "[1] \"this is a list\"\n"
      ]
     },
     "metadata": {},
     "output_type": "display_data"
    }
   ],
   "source": [
    "e[1]"
   ]
  },
  {
   "cell_type": "code",
   "execution_count": 22,
   "metadata": {},
   "outputs": [
    {
     "data": {
      "text/html": [
       "'this is a list'"
      ],
      "text/latex": [
       "'this is a list'"
      ],
      "text/markdown": [
       "'this is a list'"
      ],
      "text/plain": [
       "[1] \"this is a list\""
      ]
     },
     "metadata": {},
     "output_type": "display_data"
    }
   ],
   "source": [
    "e[[1]]"
   ]
  },
  {
   "cell_type": "code",
   "execution_count": 23,
   "metadata": {},
   "outputs": [
    {
     "data": {
      "text/html": [
       "<ol>\n",
       "\t<li><dl>\n",
       "\t<dt>$thing</dt>\n",
       "\t\t<dd>'hat'</dd>\n",
       "\t<dt>$size</dt>\n",
       "\t\t<dd>'8.25'</dd>\n",
       "</dl>\n",
       "</li>\n",
       "</ol>\n"
      ],
      "text/latex": [
       "\\begin{enumerate}\n",
       "\\item \\begin{description}\n",
       "\\item[\\$thing] 'hat'\n",
       "\\item[\\$size] '8.25'\n",
       "\\end{description}\n",
       "\n",
       "\\end{enumerate}\n"
      ],
      "text/markdown": [
       "1. $thing\n",
       ":   'hat'\n",
       "$size\n",
       ":   '8.25'\n",
       "\n",
       "\n",
       "\n",
       "\n",
       "\n"
      ],
      "text/plain": [
       "[[1]]\n",
       "[[1]]$thing\n",
       "[1] \"hat\"\n",
       "\n",
       "[[1]]$size\n",
       "[1] \"8.25\"\n",
       "\n"
      ]
     },
     "metadata": {},
     "output_type": "display_data"
    }
   ],
   "source": [
    "e[2]"
   ]
  },
  {
   "cell_type": "code",
   "execution_count": 25,
   "metadata": {},
   "outputs": [
    {
     "data": {
      "text/html": [
       "<strong>$thing</strong> = 'hat'"
      ],
      "text/latex": [
       "\\textbf{\\$thing} = 'hat'"
      ],
      "text/markdown": [
       "**$thing** = 'hat'"
      ],
      "text/plain": [
       "$thing\n",
       "[1] \"hat\"\n"
      ]
     },
     "metadata": {},
     "output_type": "display_data"
    }
   ],
   "source": [
    "e[[2]][1]"
   ]
  },
  {
   "cell_type": "code",
   "execution_count": 26,
   "metadata": {},
   "outputs": [],
   "source": [
    "teams <- c('a', 'b', 'c', 'd', 'e')\n",
    "w <- c(92, 89, 94, 72, 59)\n",
    "l <- c(70, 73, 77, 90, 102)\n",
    "nleast <- data.frame(teams, w, l)"
   ]
  },
  {
   "cell_type": "code",
   "execution_count": 27,
   "metadata": {},
   "outputs": [
    {
     "data": {
      "text/html": [
       "<table>\n",
       "<thead><tr><th scope=col>teams</th><th scope=col>w</th><th scope=col>l</th></tr></thead>\n",
       "<tbody>\n",
       "\t<tr><td>a  </td><td>92 </td><td> 70</td></tr>\n",
       "\t<tr><td>b  </td><td>89 </td><td> 73</td></tr>\n",
       "\t<tr><td>c  </td><td>94 </td><td> 77</td></tr>\n",
       "\t<tr><td>d  </td><td>72 </td><td> 90</td></tr>\n",
       "\t<tr><td>e  </td><td>59 </td><td>102</td></tr>\n",
       "</tbody>\n",
       "</table>\n"
      ],
      "text/latex": [
       "\\begin{tabular}{r|lll}\n",
       " teams & w & l\\\\\n",
       "\\hline\n",
       "\t a   & 92  &  70\\\\\n",
       "\t b   & 89  &  73\\\\\n",
       "\t c   & 94  &  77\\\\\n",
       "\t d   & 72  &  90\\\\\n",
       "\t e   & 59  & 102\\\\\n",
       "\\end{tabular}\n"
      ],
      "text/markdown": [
       "\n",
       "teams | w | l | \n",
       "|---|---|---|---|---|\n",
       "| a   | 92  |  70 | \n",
       "| b   | 89  |  73 | \n",
       "| c   | 94  |  77 | \n",
       "| d   | 72  |  90 | \n",
       "| e   | 59  | 102 | \n",
       "\n",
       "\n"
      ],
      "text/plain": [
       "  teams w  l  \n",
       "1 a     92  70\n",
       "2 b     89  73\n",
       "3 c     94  77\n",
       "4 d     72  90\n",
       "5 e     59 102"
      ]
     },
     "metadata": {},
     "output_type": "display_data"
    }
   ],
   "source": [
    "nleast"
   ]
  },
  {
   "cell_type": "code",
   "execution_count": 29,
   "metadata": {},
   "outputs": [
    {
     "data": {
      "text/html": [
       "<ol class=list-inline>\n",
       "\t<li>92</li>\n",
       "\t<li>89</li>\n",
       "\t<li>94</li>\n",
       "\t<li>72</li>\n",
       "\t<li>59</li>\n",
       "</ol>\n"
      ],
      "text/latex": [
       "\\begin{enumerate*}\n",
       "\\item 92\n",
       "\\item 89\n",
       "\\item 94\n",
       "\\item 72\n",
       "\\item 59\n",
       "\\end{enumerate*}\n"
      ],
      "text/markdown": [
       "1. 92\n",
       "2. 89\n",
       "3. 94\n",
       "4. 72\n",
       "5. 59\n",
       "\n",
       "\n"
      ],
      "text/plain": [
       "[1] 92 89 94 72 59"
      ]
     },
     "metadata": {},
     "output_type": "display_data"
    }
   ],
   "source": [
    "nleast$w"
   ]
  },
  {
   "cell_type": "code",
   "execution_count": 30,
   "metadata": {},
   "outputs": [
    {
     "data": {
      "text/html": [
       "<table>\n",
       "<thead><tr><th scope=col>speed</th><th scope=col>dist</th></tr></thead>\n",
       "<tbody>\n",
       "\t<tr><td> 4 </td><td>  2</td></tr>\n",
       "\t<tr><td> 4 </td><td> 10</td></tr>\n",
       "\t<tr><td> 7 </td><td>  4</td></tr>\n",
       "\t<tr><td> 7 </td><td> 22</td></tr>\n",
       "\t<tr><td> 8 </td><td> 16</td></tr>\n",
       "\t<tr><td> 9 </td><td> 10</td></tr>\n",
       "\t<tr><td>10 </td><td> 18</td></tr>\n",
       "\t<tr><td>10 </td><td> 26</td></tr>\n",
       "\t<tr><td>10 </td><td> 34</td></tr>\n",
       "\t<tr><td>11 </td><td> 17</td></tr>\n",
       "\t<tr><td>11 </td><td> 28</td></tr>\n",
       "\t<tr><td>12 </td><td> 14</td></tr>\n",
       "\t<tr><td>12 </td><td> 20</td></tr>\n",
       "\t<tr><td>12 </td><td> 24</td></tr>\n",
       "\t<tr><td>12 </td><td> 28</td></tr>\n",
       "\t<tr><td>13 </td><td> 26</td></tr>\n",
       "\t<tr><td>13 </td><td> 34</td></tr>\n",
       "\t<tr><td>13 </td><td> 34</td></tr>\n",
       "\t<tr><td>13 </td><td> 46</td></tr>\n",
       "\t<tr><td>14 </td><td> 26</td></tr>\n",
       "\t<tr><td>14 </td><td> 36</td></tr>\n",
       "\t<tr><td>14 </td><td> 60</td></tr>\n",
       "\t<tr><td>14 </td><td> 80</td></tr>\n",
       "\t<tr><td>15 </td><td> 20</td></tr>\n",
       "\t<tr><td>15 </td><td> 26</td></tr>\n",
       "\t<tr><td>15 </td><td> 54</td></tr>\n",
       "\t<tr><td>16 </td><td> 32</td></tr>\n",
       "\t<tr><td>16 </td><td> 40</td></tr>\n",
       "\t<tr><td>17 </td><td> 32</td></tr>\n",
       "\t<tr><td>17 </td><td> 40</td></tr>\n",
       "\t<tr><td>17 </td><td> 50</td></tr>\n",
       "\t<tr><td>18 </td><td> 42</td></tr>\n",
       "\t<tr><td>18 </td><td> 56</td></tr>\n",
       "\t<tr><td>18 </td><td> 76</td></tr>\n",
       "\t<tr><td>18 </td><td> 84</td></tr>\n",
       "\t<tr><td>19 </td><td> 36</td></tr>\n",
       "\t<tr><td>19 </td><td> 46</td></tr>\n",
       "\t<tr><td>19 </td><td> 68</td></tr>\n",
       "\t<tr><td>20 </td><td> 32</td></tr>\n",
       "\t<tr><td>20 </td><td> 48</td></tr>\n",
       "\t<tr><td>20 </td><td> 52</td></tr>\n",
       "\t<tr><td>20 </td><td> 56</td></tr>\n",
       "\t<tr><td>20 </td><td> 64</td></tr>\n",
       "\t<tr><td>22 </td><td> 66</td></tr>\n",
       "\t<tr><td>23 </td><td> 54</td></tr>\n",
       "\t<tr><td>24 </td><td> 70</td></tr>\n",
       "\t<tr><td>24 </td><td> 92</td></tr>\n",
       "\t<tr><td>24 </td><td> 93</td></tr>\n",
       "\t<tr><td>24 </td><td>120</td></tr>\n",
       "\t<tr><td>25 </td><td> 85</td></tr>\n",
       "</tbody>\n",
       "</table>\n"
      ],
      "text/latex": [
       "\\begin{tabular}{r|ll}\n",
       " speed & dist\\\\\n",
       "\\hline\n",
       "\t  4  &   2\\\\\n",
       "\t  4  &  10\\\\\n",
       "\t  7  &   4\\\\\n",
       "\t  7  &  22\\\\\n",
       "\t  8  &  16\\\\\n",
       "\t  9  &  10\\\\\n",
       "\t 10  &  18\\\\\n",
       "\t 10  &  26\\\\\n",
       "\t 10  &  34\\\\\n",
       "\t 11  &  17\\\\\n",
       "\t 11  &  28\\\\\n",
       "\t 12  &  14\\\\\n",
       "\t 12  &  20\\\\\n",
       "\t 12  &  24\\\\\n",
       "\t 12  &  28\\\\\n",
       "\t 13  &  26\\\\\n",
       "\t 13  &  34\\\\\n",
       "\t 13  &  34\\\\\n",
       "\t 13  &  46\\\\\n",
       "\t 14  &  26\\\\\n",
       "\t 14  &  36\\\\\n",
       "\t 14  &  60\\\\\n",
       "\t 14  &  80\\\\\n",
       "\t 15  &  20\\\\\n",
       "\t 15  &  26\\\\\n",
       "\t 15  &  54\\\\\n",
       "\t 16  &  32\\\\\n",
       "\t 16  &  40\\\\\n",
       "\t 17  &  32\\\\\n",
       "\t 17  &  40\\\\\n",
       "\t 17  &  50\\\\\n",
       "\t 18  &  42\\\\\n",
       "\t 18  &  56\\\\\n",
       "\t 18  &  76\\\\\n",
       "\t 18  &  84\\\\\n",
       "\t 19  &  36\\\\\n",
       "\t 19  &  46\\\\\n",
       "\t 19  &  68\\\\\n",
       "\t 20  &  32\\\\\n",
       "\t 20  &  48\\\\\n",
       "\t 20  &  52\\\\\n",
       "\t 20  &  56\\\\\n",
       "\t 20  &  64\\\\\n",
       "\t 22  &  66\\\\\n",
       "\t 23  &  54\\\\\n",
       "\t 24  &  70\\\\\n",
       "\t 24  &  92\\\\\n",
       "\t 24  &  93\\\\\n",
       "\t 24  & 120\\\\\n",
       "\t 25  &  85\\\\\n",
       "\\end{tabular}\n"
      ],
      "text/markdown": [
       "\n",
       "speed | dist | \n",
       "|---|---|---|---|---|---|---|---|---|---|---|---|---|---|---|---|---|---|---|---|---|---|---|---|---|---|---|---|---|---|---|---|---|---|---|---|---|---|---|---|---|---|---|---|---|---|---|---|---|---|\n",
       "|  4  |   2 | \n",
       "|  4  |  10 | \n",
       "|  7  |   4 | \n",
       "|  7  |  22 | \n",
       "|  8  |  16 | \n",
       "|  9  |  10 | \n",
       "| 10  |  18 | \n",
       "| 10  |  26 | \n",
       "| 10  |  34 | \n",
       "| 11  |  17 | \n",
       "| 11  |  28 | \n",
       "| 12  |  14 | \n",
       "| 12  |  20 | \n",
       "| 12  |  24 | \n",
       "| 12  |  28 | \n",
       "| 13  |  26 | \n",
       "| 13  |  34 | \n",
       "| 13  |  34 | \n",
       "| 13  |  46 | \n",
       "| 14  |  26 | \n",
       "| 14  |  36 | \n",
       "| 14  |  60 | \n",
       "| 14  |  80 | \n",
       "| 15  |  20 | \n",
       "| 15  |  26 | \n",
       "| 15  |  54 | \n",
       "| 16  |  32 | \n",
       "| 16  |  40 | \n",
       "| 17  |  32 | \n",
       "| 17  |  40 | \n",
       "| 17  |  50 | \n",
       "| 18  |  42 | \n",
       "| 18  |  56 | \n",
       "| 18  |  76 | \n",
       "| 18  |  84 | \n",
       "| 19  |  36 | \n",
       "| 19  |  46 | \n",
       "| 19  |  68 | \n",
       "| 20  |  32 | \n",
       "| 20  |  48 | \n",
       "| 20  |  52 | \n",
       "| 20  |  56 | \n",
       "| 20  |  64 | \n",
       "| 22  |  66 | \n",
       "| 23  |  54 | \n",
       "| 24  |  70 | \n",
       "| 24  |  92 | \n",
       "| 24  |  93 | \n",
       "| 24  | 120 | \n",
       "| 25  |  85 | \n",
       "\n",
       "\n"
      ],
      "text/plain": [
       "   speed dist\n",
       "1   4      2 \n",
       "2   4     10 \n",
       "3   7      4 \n",
       "4   7     22 \n",
       "5   8     16 \n",
       "6   9     10 \n",
       "7  10     18 \n",
       "8  10     26 \n",
       "9  10     34 \n",
       "10 11     17 \n",
       "11 11     28 \n",
       "12 12     14 \n",
       "13 12     20 \n",
       "14 12     24 \n",
       "15 12     28 \n",
       "16 13     26 \n",
       "17 13     34 \n",
       "18 13     34 \n",
       "19 13     46 \n",
       "20 14     26 \n",
       "21 14     36 \n",
       "22 14     60 \n",
       "23 14     80 \n",
       "24 15     20 \n",
       "25 15     26 \n",
       "26 15     54 \n",
       "27 16     32 \n",
       "28 16     40 \n",
       "29 17     32 \n",
       "30 17     40 \n",
       "31 17     50 \n",
       "32 18     42 \n",
       "33 18     56 \n",
       "34 18     76 \n",
       "35 18     84 \n",
       "36 19     36 \n",
       "37 19     46 \n",
       "38 19     68 \n",
       "39 20     32 \n",
       "40 20     48 \n",
       "41 20     52 \n",
       "42 20     56 \n",
       "43 20     64 \n",
       "44 22     66 \n",
       "45 23     54 \n",
       "46 24     70 \n",
       "47 24     92 \n",
       "48 24     93 \n",
       "49 24    120 \n",
       "50 25     85 "
      ]
     },
     "metadata": {},
     "output_type": "display_data"
    }
   ],
   "source": [
    "cars"
   ]
  },
  {
   "cell_type": "code",
   "execution_count": 31,
   "metadata": {},
   "outputs": [],
   "source": [
    "cars.lm <- lm(formula = dist ~speed, data=cars)"
   ]
  },
  {
   "cell_type": "code",
   "execution_count": 32,
   "metadata": {},
   "outputs": [
    {
     "data": {
      "text/plain": [
       "\n",
       "Call:\n",
       "lm(formula = dist ~ speed, data = cars)\n",
       "\n",
       "Coefficients:\n",
       "(Intercept)        speed  \n",
       "    -17.579        3.932  \n"
      ]
     },
     "metadata": {},
     "output_type": "display_data"
    }
   ],
   "source": [
    "cars.lm"
   ]
  },
  {
   "cell_type": "code",
   "execution_count": 33,
   "metadata": {},
   "outputs": [
    {
     "data": {
      "text/plain": [
       "\n",
       "Call:\n",
       "lm(formula = dist ~ speed, data = cars)\n",
       "\n",
       "Residuals:\n",
       "    Min      1Q  Median      3Q     Max \n",
       "-29.069  -9.525  -2.272   9.215  43.201 \n",
       "\n",
       "Coefficients:\n",
       "            Estimate Std. Error t value Pr(>|t|)    \n",
       "(Intercept) -17.5791     6.7584  -2.601   0.0123 *  \n",
       "speed         3.9324     0.4155   9.464 1.49e-12 ***\n",
       "---\n",
       "Signif. codes:  0 '***' 0.001 '**' 0.01 '*' 0.05 '.' 0.1 ' ' 1\n",
       "\n",
       "Residual standard error: 15.38 on 48 degrees of freedom\n",
       "Multiple R-squared:  0.6511,\tAdjusted R-squared:  0.6438 \n",
       "F-statistic: 89.57 on 1 and 48 DF,  p-value: 1.49e-12\n"
      ]
     },
     "metadata": {},
     "output_type": "display_data"
    }
   ],
   "source": [
    "summary(cars.lm)"
   ]
  },
  {
   "cell_type": "code",
   "execution_count": 36,
   "metadata": {},
   "outputs": [],
   "source": [
    "library(nutshell)"
   ]
  },
  {
   "cell_type": "code",
   "execution_count": 37,
   "metadata": {},
   "outputs": [],
   "source": [
    "data(field.goals)"
   ]
  },
  {
   "cell_type": "code",
   "execution_count": 38,
   "metadata": {},
   "outputs": [
    {
     "data": {
      "text/html": [
       "<table>\n",
       "<thead><tr><th scope=col>home.team</th><th scope=col>week</th><th scope=col>qtr</th><th scope=col>away.team</th><th scope=col>offense</th><th scope=col>defense</th><th scope=col>play.type</th><th scope=col>player</th><th scope=col>yards</th><th scope=col>stadium.type</th></tr></thead>\n",
       "<tbody>\n",
       "\t<tr><td>ARI          </td><td>14           </td><td>3            </td><td>WAS          </td><td>ARI          </td><td>WAS          </td><td>FG good      </td><td>1-N.Rackers  </td><td>20           </td><td>Out          </td></tr>\n",
       "\t<tr><td>ARI          </td><td> 2           </td><td>4            </td><td>STL          </td><td>ARI          </td><td>STL          </td><td>FG good      </td><td>1-N.Rackers  </td><td>35           </td><td>Out          </td></tr>\n",
       "\t<tr><td>ARI          </td><td> 7           </td><td>3            </td><td>TEN          </td><td>ARI          </td><td>TEN          </td><td>FG good      </td><td>1-N.Rackers  </td><td>24           </td><td>Out          </td></tr>\n",
       "\t<tr><td>ARI          </td><td>12           </td><td>2            </td><td>JAC          </td><td>JAC          </td><td>ARI          </td><td>FG good      </td><td>10-J.Scobee  </td><td>30           </td><td>Out          </td></tr>\n",
       "\t<tr><td>ARI          </td><td> 2           </td><td>3            </td><td>STL          </td><td>ARI          </td><td>STL          </td><td>FG good      </td><td>1-N.Rackers  </td><td>48           </td><td>Out          </td></tr>\n",
       "\t<tr><td>ARI          </td><td> 7           </td><td>4            </td><td>TEN          </td><td>TEN          </td><td>ARI          </td><td>FG aborted   </td><td>15-C.Hentrich</td><td>33           </td><td>Out          </td></tr>\n",
       "\t<tr><td>ARI          </td><td> 2           </td><td>2            </td><td>STL          </td><td>ARI          </td><td>STL          </td><td>FG good      </td><td>1-N.Rackers  </td><td>26           </td><td>Out          </td></tr>\n",
       "\t<tr><td>ARI          </td><td> 7           </td><td>2            </td><td>TEN          </td><td>ARI          </td><td>TEN          </td><td>FG good      </td><td>1-N.Rackers  </td><td>33           </td><td>Out          </td></tr>\n",
       "\t<tr><td>ARI          </td><td>14           </td><td>2            </td><td>WAS          </td><td>ARI          </td><td>WAS          </td><td>FG good      </td><td>1-N.Rackers  </td><td>44           </td><td>Out          </td></tr>\n",
       "\t<tr><td>ARI          </td><td> 2           </td><td>2            </td><td>STL          </td><td>STL          </td><td>ARI          </td><td>FG good      </td><td>14-J.Wilkins </td><td>29           </td><td>Out          </td></tr>\n",
       "\t<tr><td>ARI          </td><td> 4           </td><td>4            </td><td>SF           </td><td>ARI          </td><td>SF           </td><td>FG good      </td><td>1-N.Rackers  </td><td>24           </td><td>Out          </td></tr>\n",
       "\t<tr><td>ARI          </td><td>12           </td><td>3            </td><td>JAC          </td><td>ARI          </td><td>JAC          </td><td>FG good      </td><td>1-N.Rackers  </td><td>42           </td><td>Out          </td></tr>\n",
       "\t<tr><td>ARI          </td><td>12           </td><td>1            </td><td>JAC          </td><td>ARI          </td><td>JAC          </td><td>FG no        </td><td>1-N.Rackers  </td><td>43           </td><td>Out          </td></tr>\n",
       "\t<tr><td>ARI          </td><td>16           </td><td>2            </td><td>PHI          </td><td>ARI          </td><td>PHI          </td><td>FG no        </td><td>1-N.Rackers  </td><td>54           </td><td>Out          </td></tr>\n",
       "\t<tr><td>ARI          </td><td>16           </td><td>1            </td><td>PHI          </td><td>ARI          </td><td>PHI          </td><td>FG good      </td><td>1-N.Rackers  </td><td>32           </td><td>Out          </td></tr>\n",
       "\t<tr><td>ARI          </td><td> 4           </td><td>3            </td><td>SF           </td><td>ARI          </td><td>SF           </td><td>FG good      </td><td>1-N.Rackers  </td><td>23           </td><td>Out          </td></tr>\n",
       "\t<tr><td>ARI          </td><td> 4           </td><td>3            </td><td>SF           </td><td>ARI          </td><td>SF           </td><td>FG good      </td><td>1-N.Rackers  </td><td>48           </td><td>Out          </td></tr>\n",
       "\t<tr><td>ARI          </td><td>12           </td><td>3            </td><td>JAC          </td><td>JAC          </td><td>ARI          </td><td>FG no        </td><td>10-J.Scobee  </td><td>38           </td><td>Out          </td></tr>\n",
       "\t<tr><td>ARI          </td><td> 5           </td><td>1            </td><td>CAR          </td><td>CAR          </td><td>ARI          </td><td>FG good      </td><td>4-J.Kasay    </td><td>46           </td><td>Out          </td></tr>\n",
       "\t<tr><td>ARI          </td><td>14           </td><td>2            </td><td>WAS          </td><td>WAS          </td><td>ARI          </td><td>FG good      </td><td>10-J.Hall    </td><td>41           </td><td>Out          </td></tr>\n",
       "\t<tr><td>ARI          </td><td> 4           </td><td>4            </td><td>SF           </td><td>ARI          </td><td>SF           </td><td>FG good      </td><td>1-N.Rackers  </td><td>43           </td><td>Out          </td></tr>\n",
       "\t<tr><td>ARI          </td><td> 4           </td><td>2            </td><td>SF           </td><td>ARI          </td><td>SF           </td><td>FG good      </td><td>1-N.Rackers  </td><td>45           </td><td>Out          </td></tr>\n",
       "\t<tr><td>ARI          </td><td>16           </td><td>1            </td><td>PHI          </td><td>ARI          </td><td>PHI          </td><td>FG good      </td><td>1-N.Rackers  </td><td>32           </td><td>Out          </td></tr>\n",
       "\t<tr><td>ARI          </td><td> 5           </td><td>2            </td><td>CAR          </td><td>CAR          </td><td>ARI          </td><td>FG no        </td><td>4-J.Kasay    </td><td>53           </td><td>Out          </td></tr>\n",
       "\t<tr><td>ARI          </td><td> 9           </td><td>4            </td><td>SEA          </td><td>ARI          </td><td>SEA          </td><td>FG good      </td><td>1-N.Rackers  </td><td>44           </td><td>Out          </td></tr>\n",
       "\t<tr><td>ARI          </td><td> 2           </td><td>1            </td><td>STL          </td><td>ARI          </td><td>STL          </td><td>FG good      </td><td>1-N.Rackers  </td><td>29           </td><td>Out          </td></tr>\n",
       "\t<tr><td>ARI          </td><td> 4           </td><td>2            </td><td>SF           </td><td>ARI          </td><td>SF           </td><td>FG good      </td><td>1-N.Rackers  </td><td>40           </td><td>Out          </td></tr>\n",
       "\t<tr><td>ARI          </td><td> 5           </td><td>3            </td><td>CAR          </td><td>ARI          </td><td>CAR          </td><td>FG good      </td><td>1-N.Rackers  </td><td>49           </td><td>Out          </td></tr>\n",
       "\t<tr><td>ARI          </td><td> 5           </td><td>2            </td><td>CAR          </td><td>ARI          </td><td>CAR          </td><td>FG good      </td><td>1-N.Rackers  </td><td>39           </td><td>Out          </td></tr>\n",
       "\t<tr><td>ARI          </td><td> 9           </td><td>2            </td><td>SEA          </td><td>ARI          </td><td>SEA          </td><td>FG good      </td><td>1-N.Rackers  </td><td>31           </td><td>Out          </td></tr>\n",
       "\t<tr><td>...</td><td>...</td><td>...</td><td>...</td><td>...</td><td>...</td><td>...</td><td>...</td><td>...</td><td>...</td></tr>\n",
       "\t<tr><td>TEN            </td><td> 8             </td><td>3              </td><td>OAK            </td><td>OAK            </td><td>TEN            </td><td>FG good        </td><td>11-S.Janikowski</td><td>32             </td><td>Out            </td></tr>\n",
       "\t<tr><td>TEN            </td><td> 8             </td><td>1              </td><td>OAK            </td><td>OAK            </td><td>TEN            </td><td>FG good        </td><td>11-S.Janikowski</td><td>22             </td><td>Out            </td></tr>\n",
       "\t<tr><td>WAS            </td><td>12             </td><td>4              </td><td>SD             </td><td>SD             </td><td>WAS            </td><td>FG good        </td><td>10-N.Kaeding   </td><td>48             </td><td>Out            </td></tr>\n",
       "\t<tr><td>WAS            </td><td> 4             </td><td>3              </td><td>SEA            </td><td>WAS            </td><td>SEA            </td><td>FG good        </td><td>3-N.Novak      </td><td>40             </td><td>Out            </td></tr>\n",
       "\t<tr><td>WAS            </td><td>15             </td><td>1              </td><td>DAL            </td><td>DAL            </td><td>WAS            </td><td>FG no          </td><td>3-B.Cundiff    </td><td>38             </td><td>Out            </td></tr>\n",
       "\t<tr><td>WAS            </td><td> 4             </td><td>4              </td><td>SEA            </td><td>SEA            </td><td>WAS            </td><td>FG no          </td><td>3-J.Brown      </td><td>47             </td><td>Out            </td></tr>\n",
       "\t<tr><td>WAS            </td><td> 4             </td><td>1              </td><td>SEA            </td><td>SEA            </td><td>WAS            </td><td>FG good        </td><td>3-J.Brown      </td><td>53             </td><td>Out            </td></tr>\n",
       "\t<tr><td>WAS            </td><td>11             </td><td>4              </td><td>OAK            </td><td>OAK            </td><td>WAS            </td><td>FG good        </td><td>11-S.Janikowski</td><td>19             </td><td>Out            </td></tr>\n",
       "\t<tr><td>WAS            </td><td>12             </td><td>4              </td><td>SD             </td><td>WAS            </td><td>SD             </td><td>FG no          </td><td>10-J.Hall      </td><td>52             </td><td>Out            </td></tr>\n",
       "\t<tr><td>WAS            </td><td>11             </td><td>2              </td><td>OAK            </td><td>WAS            </td><td>OAK            </td><td>FG good        </td><td>10-J.Hall      </td><td>24             </td><td>Out            </td></tr>\n",
       "\t<tr><td>WAS            </td><td> 9             </td><td>2              </td><td>PHI            </td><td>WAS            </td><td>PHI            </td><td>FG good        </td><td>10-J.Hall      </td><td>24             </td><td>Out            </td></tr>\n",
       "\t<tr><td>WAS            </td><td>12             </td><td>3              </td><td>SD             </td><td>SD             </td><td>WAS            </td><td>FG no          </td><td>10-N.Kaeding   </td><td>46             </td><td>Out            </td></tr>\n",
       "\t<tr><td>WAS            </td><td> 1             </td><td>3              </td><td>CHI            </td><td>WAS            </td><td>CHI            </td><td>FG good        </td><td>10-J.Hall      </td><td>19             </td><td>Out            </td></tr>\n",
       "\t<tr><td>WAS            </td><td>12             </td><td>1              </td><td>SD             </td><td>WAS            </td><td>SD             </td><td>FG good        </td><td>10-J.Hall      </td><td>38             </td><td>Out            </td></tr>\n",
       "\t<tr><td>WAS            </td><td>12             </td><td>1              </td><td>SD             </td><td>SD             </td><td>WAS            </td><td>FG no          </td><td>10-N.Kaeding   </td><td>42             </td><td>Out            </td></tr>\n",
       "\t<tr><td>WAS            </td><td> 4             </td><td>3              </td><td>SEA            </td><td>SEA            </td><td>WAS            </td><td>FG no          </td><td>3-J.Brown      </td><td>47             </td><td>Out            </td></tr>\n",
       "\t<tr><td>WAS            </td><td>16             </td><td>1              </td><td>NYG            </td><td>NYG            </td><td>WAS            </td><td>FG good        </td><td>2-J.Feely      </td><td>47             </td><td>Out            </td></tr>\n",
       "\t<tr><td>WAS            </td><td> 4             </td><td>5              </td><td>SEA            </td><td>WAS            </td><td>SEA            </td><td>FG good        </td><td>3-N.Novak      </td><td>39             </td><td>Out            </td></tr>\n",
       "\t<tr><td>WAS            </td><td>11             </td><td>4              </td><td>OAK            </td><td>OAK            </td><td>WAS            </td><td>FG good        </td><td>11-S.Janikowski</td><td>25             </td><td>Out            </td></tr>\n",
       "\t<tr><td>WAS            </td><td> 7             </td><td>3              </td><td>SF             </td><td>WAS            </td><td>SF             </td><td>FG good        </td><td>3-N.Novak      </td><td>27             </td><td>Out            </td></tr>\n",
       "\t<tr><td>WAS            </td><td> 7             </td><td>4              </td><td>SF             </td><td>SF             </td><td>WAS            </td><td>FG good        </td><td>6-J.Nedney     </td><td>47             </td><td>Out            </td></tr>\n",
       "\t<tr><td>WAS            </td><td>11             </td><td>2              </td><td>OAK            </td><td>OAK            </td><td>WAS            </td><td>FG no          </td><td>11-S.Janikowski</td><td>45             </td><td>Out            </td></tr>\n",
       "\t<tr><td>WAS            </td><td>11             </td><td>2              </td><td>OAK            </td><td>WAS            </td><td>OAK            </td><td>FG good        </td><td>10-J.Hall      </td><td>45             </td><td>Out            </td></tr>\n",
       "\t<tr><td>WAS            </td><td> 1             </td><td>2              </td><td>CHI            </td><td>WAS            </td><td>CHI            </td><td>FG good        </td><td>10-J.Hall      </td><td>40             </td><td>Out            </td></tr>\n",
       "\t<tr><td>WAS            </td><td> 1             </td><td>2              </td><td>CHI            </td><td>WAS            </td><td>CHI            </td><td>FG good        </td><td>10-J.Hall      </td><td>43             </td><td>Out            </td></tr>\n",
       "\t<tr><td>WAS            </td><td> 4             </td><td>1              </td><td>SEA            </td><td>WAS            </td><td>SEA            </td><td>FG blocked     </td><td>3-N.Novak      </td><td>39             </td><td>Out            </td></tr>\n",
       "\t<tr><td>WAS            </td><td> 9             </td><td>3              </td><td>PHI            </td><td>PHI            </td><td>WAS            </td><td>FG good        </td><td>2-D.Akers      </td><td>34             </td><td>Out            </td></tr>\n",
       "\t<tr><td>WAS            </td><td>16             </td><td>3              </td><td>NYG            </td><td>NYG            </td><td>WAS            </td><td>FG blocked     </td><td>2-J.Feely      </td><td>29             </td><td>Out            </td></tr>\n",
       "\t<tr><td>WAS            </td><td>11             </td><td>1              </td><td>OAK            </td><td>OAK            </td><td>WAS            </td><td>FG good        </td><td>11-S.Janikowski</td><td>30             </td><td>Out            </td></tr>\n",
       "\t<tr><td>WAS            </td><td>16             </td><td>3              </td><td>NYG            </td><td>NYG            </td><td>WAS            </td><td>FG good        </td><td>2-J.Feely      </td><td>38             </td><td>Out            </td></tr>\n",
       "</tbody>\n",
       "</table>\n"
      ],
      "text/latex": [
       "\\begin{tabular}{r|llllllllll}\n",
       " home.team & week & qtr & away.team & offense & defense & play.type & player & yards & stadium.type\\\\\n",
       "\\hline\n",
       "\t ARI           & 14            & 3             & WAS           & ARI           & WAS           & FG good       & 1-N.Rackers   & 20            & Out          \\\\\n",
       "\t ARI           &  2            & 4             & STL           & ARI           & STL           & FG good       & 1-N.Rackers   & 35            & Out          \\\\\n",
       "\t ARI           &  7            & 3             & TEN           & ARI           & TEN           & FG good       & 1-N.Rackers   & 24            & Out          \\\\\n",
       "\t ARI           & 12            & 2             & JAC           & JAC           & ARI           & FG good       & 10-J.Scobee   & 30            & Out          \\\\\n",
       "\t ARI           &  2            & 3             & STL           & ARI           & STL           & FG good       & 1-N.Rackers   & 48            & Out          \\\\\n",
       "\t ARI           &  7            & 4             & TEN           & TEN           & ARI           & FG aborted    & 15-C.Hentrich & 33            & Out          \\\\\n",
       "\t ARI           &  2            & 2             & STL           & ARI           & STL           & FG good       & 1-N.Rackers   & 26            & Out          \\\\\n",
       "\t ARI           &  7            & 2             & TEN           & ARI           & TEN           & FG good       & 1-N.Rackers   & 33            & Out          \\\\\n",
       "\t ARI           & 14            & 2             & WAS           & ARI           & WAS           & FG good       & 1-N.Rackers   & 44            & Out          \\\\\n",
       "\t ARI           &  2            & 2             & STL           & STL           & ARI           & FG good       & 14-J.Wilkins  & 29            & Out          \\\\\n",
       "\t ARI           &  4            & 4             & SF            & ARI           & SF            & FG good       & 1-N.Rackers   & 24            & Out          \\\\\n",
       "\t ARI           & 12            & 3             & JAC           & ARI           & JAC           & FG good       & 1-N.Rackers   & 42            & Out          \\\\\n",
       "\t ARI           & 12            & 1             & JAC           & ARI           & JAC           & FG no         & 1-N.Rackers   & 43            & Out          \\\\\n",
       "\t ARI           & 16            & 2             & PHI           & ARI           & PHI           & FG no         & 1-N.Rackers   & 54            & Out          \\\\\n",
       "\t ARI           & 16            & 1             & PHI           & ARI           & PHI           & FG good       & 1-N.Rackers   & 32            & Out          \\\\\n",
       "\t ARI           &  4            & 3             & SF            & ARI           & SF            & FG good       & 1-N.Rackers   & 23            & Out          \\\\\n",
       "\t ARI           &  4            & 3             & SF            & ARI           & SF            & FG good       & 1-N.Rackers   & 48            & Out          \\\\\n",
       "\t ARI           & 12            & 3             & JAC           & JAC           & ARI           & FG no         & 10-J.Scobee   & 38            & Out          \\\\\n",
       "\t ARI           &  5            & 1             & CAR           & CAR           & ARI           & FG good       & 4-J.Kasay     & 46            & Out          \\\\\n",
       "\t ARI           & 14            & 2             & WAS           & WAS           & ARI           & FG good       & 10-J.Hall     & 41            & Out          \\\\\n",
       "\t ARI           &  4            & 4             & SF            & ARI           & SF            & FG good       & 1-N.Rackers   & 43            & Out          \\\\\n",
       "\t ARI           &  4            & 2             & SF            & ARI           & SF            & FG good       & 1-N.Rackers   & 45            & Out          \\\\\n",
       "\t ARI           & 16            & 1             & PHI           & ARI           & PHI           & FG good       & 1-N.Rackers   & 32            & Out          \\\\\n",
       "\t ARI           &  5            & 2             & CAR           & CAR           & ARI           & FG no         & 4-J.Kasay     & 53            & Out          \\\\\n",
       "\t ARI           &  9            & 4             & SEA           & ARI           & SEA           & FG good       & 1-N.Rackers   & 44            & Out          \\\\\n",
       "\t ARI           &  2            & 1             & STL           & ARI           & STL           & FG good       & 1-N.Rackers   & 29            & Out          \\\\\n",
       "\t ARI           &  4            & 2             & SF            & ARI           & SF            & FG good       & 1-N.Rackers   & 40            & Out          \\\\\n",
       "\t ARI           &  5            & 3             & CAR           & ARI           & CAR           & FG good       & 1-N.Rackers   & 49            & Out          \\\\\n",
       "\t ARI           &  5            & 2             & CAR           & ARI           & CAR           & FG good       & 1-N.Rackers   & 39            & Out          \\\\\n",
       "\t ARI           &  9            & 2             & SEA           & ARI           & SEA           & FG good       & 1-N.Rackers   & 31            & Out          \\\\\n",
       "\t ... & ... & ... & ... & ... & ... & ... & ... & ... & ...\\\\\n",
       "\t TEN             &  8              & 3               & OAK             & OAK             & TEN             & FG good         & 11-S.Janikowski & 32              & Out            \\\\\n",
       "\t TEN             &  8              & 1               & OAK             & OAK             & TEN             & FG good         & 11-S.Janikowski & 22              & Out            \\\\\n",
       "\t WAS             & 12              & 4               & SD              & SD              & WAS             & FG good         & 10-N.Kaeding    & 48              & Out            \\\\\n",
       "\t WAS             &  4              & 3               & SEA             & WAS             & SEA             & FG good         & 3-N.Novak       & 40              & Out            \\\\\n",
       "\t WAS             & 15              & 1               & DAL             & DAL             & WAS             & FG no           & 3-B.Cundiff     & 38              & Out            \\\\\n",
       "\t WAS             &  4              & 4               & SEA             & SEA             & WAS             & FG no           & 3-J.Brown       & 47              & Out            \\\\\n",
       "\t WAS             &  4              & 1               & SEA             & SEA             & WAS             & FG good         & 3-J.Brown       & 53              & Out            \\\\\n",
       "\t WAS             & 11              & 4               & OAK             & OAK             & WAS             & FG good         & 11-S.Janikowski & 19              & Out            \\\\\n",
       "\t WAS             & 12              & 4               & SD              & WAS             & SD              & FG no           & 10-J.Hall       & 52              & Out            \\\\\n",
       "\t WAS             & 11              & 2               & OAK             & WAS             & OAK             & FG good         & 10-J.Hall       & 24              & Out            \\\\\n",
       "\t WAS             &  9              & 2               & PHI             & WAS             & PHI             & FG good         & 10-J.Hall       & 24              & Out            \\\\\n",
       "\t WAS             & 12              & 3               & SD              & SD              & WAS             & FG no           & 10-N.Kaeding    & 46              & Out            \\\\\n",
       "\t WAS             &  1              & 3               & CHI             & WAS             & CHI             & FG good         & 10-J.Hall       & 19              & Out            \\\\\n",
       "\t WAS             & 12              & 1               & SD              & WAS             & SD              & FG good         & 10-J.Hall       & 38              & Out            \\\\\n",
       "\t WAS             & 12              & 1               & SD              & SD              & WAS             & FG no           & 10-N.Kaeding    & 42              & Out            \\\\\n",
       "\t WAS             &  4              & 3               & SEA             & SEA             & WAS             & FG no           & 3-J.Brown       & 47              & Out            \\\\\n",
       "\t WAS             & 16              & 1               & NYG             & NYG             & WAS             & FG good         & 2-J.Feely       & 47              & Out            \\\\\n",
       "\t WAS             &  4              & 5               & SEA             & WAS             & SEA             & FG good         & 3-N.Novak       & 39              & Out            \\\\\n",
       "\t WAS             & 11              & 4               & OAK             & OAK             & WAS             & FG good         & 11-S.Janikowski & 25              & Out            \\\\\n",
       "\t WAS             &  7              & 3               & SF              & WAS             & SF              & FG good         & 3-N.Novak       & 27              & Out            \\\\\n",
       "\t WAS             &  7              & 4               & SF              & SF              & WAS             & FG good         & 6-J.Nedney      & 47              & Out            \\\\\n",
       "\t WAS             & 11              & 2               & OAK             & OAK             & WAS             & FG no           & 11-S.Janikowski & 45              & Out            \\\\\n",
       "\t WAS             & 11              & 2               & OAK             & WAS             & OAK             & FG good         & 10-J.Hall       & 45              & Out            \\\\\n",
       "\t WAS             &  1              & 2               & CHI             & WAS             & CHI             & FG good         & 10-J.Hall       & 40              & Out            \\\\\n",
       "\t WAS             &  1              & 2               & CHI             & WAS             & CHI             & FG good         & 10-J.Hall       & 43              & Out            \\\\\n",
       "\t WAS             &  4              & 1               & SEA             & WAS             & SEA             & FG blocked      & 3-N.Novak       & 39              & Out            \\\\\n",
       "\t WAS             &  9              & 3               & PHI             & PHI             & WAS             & FG good         & 2-D.Akers       & 34              & Out            \\\\\n",
       "\t WAS             & 16              & 3               & NYG             & NYG             & WAS             & FG blocked      & 2-J.Feely       & 29              & Out            \\\\\n",
       "\t WAS             & 11              & 1               & OAK             & OAK             & WAS             & FG good         & 11-S.Janikowski & 30              & Out            \\\\\n",
       "\t WAS             & 16              & 3               & NYG             & NYG             & WAS             & FG good         & 2-J.Feely       & 38              & Out            \\\\\n",
       "\\end{tabular}\n"
      ],
      "text/markdown": [
       "\n",
       "home.team | week | qtr | away.team | offense | defense | play.type | player | yards | stadium.type | \n",
       "|---|---|---|---|---|---|---|---|---|---|---|---|---|---|---|---|---|---|---|---|---|---|---|---|---|---|---|---|---|---|---|---|---|---|---|---|---|---|---|---|---|---|---|---|---|---|---|---|---|---|---|---|---|---|---|---|---|---|---|---|---|\n",
       "| ARI           | 14            | 3             | WAS           | ARI           | WAS           | FG good       | 1-N.Rackers   | 20            | Out           | \n",
       "| ARI           |  2            | 4             | STL           | ARI           | STL           | FG good       | 1-N.Rackers   | 35            | Out           | \n",
       "| ARI           |  7            | 3             | TEN           | ARI           | TEN           | FG good       | 1-N.Rackers   | 24            | Out           | \n",
       "| ARI           | 12            | 2             | JAC           | JAC           | ARI           | FG good       | 10-J.Scobee   | 30            | Out           | \n",
       "| ARI           |  2            | 3             | STL           | ARI           | STL           | FG good       | 1-N.Rackers   | 48            | Out           | \n",
       "| ARI           |  7            | 4             | TEN           | TEN           | ARI           | FG aborted    | 15-C.Hentrich | 33            | Out           | \n",
       "| ARI           |  2            | 2             | STL           | ARI           | STL           | FG good       | 1-N.Rackers   | 26            | Out           | \n",
       "| ARI           |  7            | 2             | TEN           | ARI           | TEN           | FG good       | 1-N.Rackers   | 33            | Out           | \n",
       "| ARI           | 14            | 2             | WAS           | ARI           | WAS           | FG good       | 1-N.Rackers   | 44            | Out           | \n",
       "| ARI           |  2            | 2             | STL           | STL           | ARI           | FG good       | 14-J.Wilkins  | 29            | Out           | \n",
       "| ARI           |  4            | 4             | SF            | ARI           | SF            | FG good       | 1-N.Rackers   | 24            | Out           | \n",
       "| ARI           | 12            | 3             | JAC           | ARI           | JAC           | FG good       | 1-N.Rackers   | 42            | Out           | \n",
       "| ARI           | 12            | 1             | JAC           | ARI           | JAC           | FG no         | 1-N.Rackers   | 43            | Out           | \n",
       "| ARI           | 16            | 2             | PHI           | ARI           | PHI           | FG no         | 1-N.Rackers   | 54            | Out           | \n",
       "| ARI           | 16            | 1             | PHI           | ARI           | PHI           | FG good       | 1-N.Rackers   | 32            | Out           | \n",
       "| ARI           |  4            | 3             | SF            | ARI           | SF            | FG good       | 1-N.Rackers   | 23            | Out           | \n",
       "| ARI           |  4            | 3             | SF            | ARI           | SF            | FG good       | 1-N.Rackers   | 48            | Out           | \n",
       "| ARI           | 12            | 3             | JAC           | JAC           | ARI           | FG no         | 10-J.Scobee   | 38            | Out           | \n",
       "| ARI           |  5            | 1             | CAR           | CAR           | ARI           | FG good       | 4-J.Kasay     | 46            | Out           | \n",
       "| ARI           | 14            | 2             | WAS           | WAS           | ARI           | FG good       | 10-J.Hall     | 41            | Out           | \n",
       "| ARI           |  4            | 4             | SF            | ARI           | SF            | FG good       | 1-N.Rackers   | 43            | Out           | \n",
       "| ARI           |  4            | 2             | SF            | ARI           | SF            | FG good       | 1-N.Rackers   | 45            | Out           | \n",
       "| ARI           | 16            | 1             | PHI           | ARI           | PHI           | FG good       | 1-N.Rackers   | 32            | Out           | \n",
       "| ARI           |  5            | 2             | CAR           | CAR           | ARI           | FG no         | 4-J.Kasay     | 53            | Out           | \n",
       "| ARI           |  9            | 4             | SEA           | ARI           | SEA           | FG good       | 1-N.Rackers   | 44            | Out           | \n",
       "| ARI           |  2            | 1             | STL           | ARI           | STL           | FG good       | 1-N.Rackers   | 29            | Out           | \n",
       "| ARI           |  4            | 2             | SF            | ARI           | SF            | FG good       | 1-N.Rackers   | 40            | Out           | \n",
       "| ARI           |  5            | 3             | CAR           | ARI           | CAR           | FG good       | 1-N.Rackers   | 49            | Out           | \n",
       "| ARI           |  5            | 2             | CAR           | ARI           | CAR           | FG good       | 1-N.Rackers   | 39            | Out           | \n",
       "| ARI           |  9            | 2             | SEA           | ARI           | SEA           | FG good       | 1-N.Rackers   | 31            | Out           | \n",
       "| ... | ... | ... | ... | ... | ... | ... | ... | ... | ... | \n",
       "| TEN             |  8              | 3               | OAK             | OAK             | TEN             | FG good         | 11-S.Janikowski | 32              | Out             | \n",
       "| TEN             |  8              | 1               | OAK             | OAK             | TEN             | FG good         | 11-S.Janikowski | 22              | Out             | \n",
       "| WAS             | 12              | 4               | SD              | SD              | WAS             | FG good         | 10-N.Kaeding    | 48              | Out             | \n",
       "| WAS             |  4              | 3               | SEA             | WAS             | SEA             | FG good         | 3-N.Novak       | 40              | Out             | \n",
       "| WAS             | 15              | 1               | DAL             | DAL             | WAS             | FG no           | 3-B.Cundiff     | 38              | Out             | \n",
       "| WAS             |  4              | 4               | SEA             | SEA             | WAS             | FG no           | 3-J.Brown       | 47              | Out             | \n",
       "| WAS             |  4              | 1               | SEA             | SEA             | WAS             | FG good         | 3-J.Brown       | 53              | Out             | \n",
       "| WAS             | 11              | 4               | OAK             | OAK             | WAS             | FG good         | 11-S.Janikowski | 19              | Out             | \n",
       "| WAS             | 12              | 4               | SD              | WAS             | SD              | FG no           | 10-J.Hall       | 52              | Out             | \n",
       "| WAS             | 11              | 2               | OAK             | WAS             | OAK             | FG good         | 10-J.Hall       | 24              | Out             | \n",
       "| WAS             |  9              | 2               | PHI             | WAS             | PHI             | FG good         | 10-J.Hall       | 24              | Out             | \n",
       "| WAS             | 12              | 3               | SD              | SD              | WAS             | FG no           | 10-N.Kaeding    | 46              | Out             | \n",
       "| WAS             |  1              | 3               | CHI             | WAS             | CHI             | FG good         | 10-J.Hall       | 19              | Out             | \n",
       "| WAS             | 12              | 1               | SD              | WAS             | SD              | FG good         | 10-J.Hall       | 38              | Out             | \n",
       "| WAS             | 12              | 1               | SD              | SD              | WAS             | FG no           | 10-N.Kaeding    | 42              | Out             | \n",
       "| WAS             |  4              | 3               | SEA             | SEA             | WAS             | FG no           | 3-J.Brown       | 47              | Out             | \n",
       "| WAS             | 16              | 1               | NYG             | NYG             | WAS             | FG good         | 2-J.Feely       | 47              | Out             | \n",
       "| WAS             |  4              | 5               | SEA             | WAS             | SEA             | FG good         | 3-N.Novak       | 39              | Out             | \n",
       "| WAS             | 11              | 4               | OAK             | OAK             | WAS             | FG good         | 11-S.Janikowski | 25              | Out             | \n",
       "| WAS             |  7              | 3               | SF              | WAS             | SF              | FG good         | 3-N.Novak       | 27              | Out             | \n",
       "| WAS             |  7              | 4               | SF              | SF              | WAS             | FG good         | 6-J.Nedney      | 47              | Out             | \n",
       "| WAS             | 11              | 2               | OAK             | OAK             | WAS             | FG no           | 11-S.Janikowski | 45              | Out             | \n",
       "| WAS             | 11              | 2               | OAK             | WAS             | OAK             | FG good         | 10-J.Hall       | 45              | Out             | \n",
       "| WAS             |  1              | 2               | CHI             | WAS             | CHI             | FG good         | 10-J.Hall       | 40              | Out             | \n",
       "| WAS             |  1              | 2               | CHI             | WAS             | CHI             | FG good         | 10-J.Hall       | 43              | Out             | \n",
       "| WAS             |  4              | 1               | SEA             | WAS             | SEA             | FG blocked      | 3-N.Novak       | 39              | Out             | \n",
       "| WAS             |  9              | 3               | PHI             | PHI             | WAS             | FG good         | 2-D.Akers       | 34              | Out             | \n",
       "| WAS             | 16              | 3               | NYG             | NYG             | WAS             | FG blocked      | 2-J.Feely       | 29              | Out             | \n",
       "| WAS             | 11              | 1               | OAK             | OAK             | WAS             | FG good         | 11-S.Janikowski | 30              | Out             | \n",
       "| WAS             | 16              | 3               | NYG             | NYG             | WAS             | FG good         | 2-J.Feely       | 38              | Out             | \n",
       "\n",
       "\n"
      ],
      "text/plain": [
       "    home.team week qtr away.team offense defense play.type  player         \n",
       "1   ARI       14   3   WAS       ARI     WAS     FG good    1-N.Rackers    \n",
       "2   ARI        2   4   STL       ARI     STL     FG good    1-N.Rackers    \n",
       "3   ARI        7   3   TEN       ARI     TEN     FG good    1-N.Rackers    \n",
       "4   ARI       12   2   JAC       JAC     ARI     FG good    10-J.Scobee    \n",
       "5   ARI        2   3   STL       ARI     STL     FG good    1-N.Rackers    \n",
       "6   ARI        7   4   TEN       TEN     ARI     FG aborted 15-C.Hentrich  \n",
       "7   ARI        2   2   STL       ARI     STL     FG good    1-N.Rackers    \n",
       "8   ARI        7   2   TEN       ARI     TEN     FG good    1-N.Rackers    \n",
       "9   ARI       14   2   WAS       ARI     WAS     FG good    1-N.Rackers    \n",
       "10  ARI        2   2   STL       STL     ARI     FG good    14-J.Wilkins   \n",
       "11  ARI        4   4   SF        ARI     SF      FG good    1-N.Rackers    \n",
       "12  ARI       12   3   JAC       ARI     JAC     FG good    1-N.Rackers    \n",
       "13  ARI       12   1   JAC       ARI     JAC     FG no      1-N.Rackers    \n",
       "14  ARI       16   2   PHI       ARI     PHI     FG no      1-N.Rackers    \n",
       "15  ARI       16   1   PHI       ARI     PHI     FG good    1-N.Rackers    \n",
       "16  ARI        4   3   SF        ARI     SF      FG good    1-N.Rackers    \n",
       "17  ARI        4   3   SF        ARI     SF      FG good    1-N.Rackers    \n",
       "18  ARI       12   3   JAC       JAC     ARI     FG no      10-J.Scobee    \n",
       "19  ARI        5   1   CAR       CAR     ARI     FG good    4-J.Kasay      \n",
       "20  ARI       14   2   WAS       WAS     ARI     FG good    10-J.Hall      \n",
       "21  ARI        4   4   SF        ARI     SF      FG good    1-N.Rackers    \n",
       "22  ARI        4   2   SF        ARI     SF      FG good    1-N.Rackers    \n",
       "23  ARI       16   1   PHI       ARI     PHI     FG good    1-N.Rackers    \n",
       "24  ARI        5   2   CAR       CAR     ARI     FG no      4-J.Kasay      \n",
       "25  ARI        9   4   SEA       ARI     SEA     FG good    1-N.Rackers    \n",
       "26  ARI        2   1   STL       ARI     STL     FG good    1-N.Rackers    \n",
       "27  ARI        4   2   SF        ARI     SF      FG good    1-N.Rackers    \n",
       "28  ARI        5   3   CAR       ARI     CAR     FG good    1-N.Rackers    \n",
       "29  ARI        5   2   CAR       ARI     CAR     FG good    1-N.Rackers    \n",
       "30  ARI        9   2   SEA       ARI     SEA     FG good    1-N.Rackers    \n",
       "... ...       ...  ... ...       ...     ...     ...        ...            \n",
       "953 TEN        8   3   OAK       OAK     TEN     FG good    11-S.Janikowski\n",
       "954 TEN        8   1   OAK       OAK     TEN     FG good    11-S.Janikowski\n",
       "955 WAS       12   4   SD        SD      WAS     FG good    10-N.Kaeding   \n",
       "956 WAS        4   3   SEA       WAS     SEA     FG good    3-N.Novak      \n",
       "957 WAS       15   1   DAL       DAL     WAS     FG no      3-B.Cundiff    \n",
       "958 WAS        4   4   SEA       SEA     WAS     FG no      3-J.Brown      \n",
       "959 WAS        4   1   SEA       SEA     WAS     FG good    3-J.Brown      \n",
       "960 WAS       11   4   OAK       OAK     WAS     FG good    11-S.Janikowski\n",
       "961 WAS       12   4   SD        WAS     SD      FG no      10-J.Hall      \n",
       "962 WAS       11   2   OAK       WAS     OAK     FG good    10-J.Hall      \n",
       "963 WAS        9   2   PHI       WAS     PHI     FG good    10-J.Hall      \n",
       "964 WAS       12   3   SD        SD      WAS     FG no      10-N.Kaeding   \n",
       "965 WAS        1   3   CHI       WAS     CHI     FG good    10-J.Hall      \n",
       "966 WAS       12   1   SD        WAS     SD      FG good    10-J.Hall      \n",
       "967 WAS       12   1   SD        SD      WAS     FG no      10-N.Kaeding   \n",
       "968 WAS        4   3   SEA       SEA     WAS     FG no      3-J.Brown      \n",
       "969 WAS       16   1   NYG       NYG     WAS     FG good    2-J.Feely      \n",
       "970 WAS        4   5   SEA       WAS     SEA     FG good    3-N.Novak      \n",
       "971 WAS       11   4   OAK       OAK     WAS     FG good    11-S.Janikowski\n",
       "972 WAS        7   3   SF        WAS     SF      FG good    3-N.Novak      \n",
       "973 WAS        7   4   SF        SF      WAS     FG good    6-J.Nedney     \n",
       "974 WAS       11   2   OAK       OAK     WAS     FG no      11-S.Janikowski\n",
       "975 WAS       11   2   OAK       WAS     OAK     FG good    10-J.Hall      \n",
       "976 WAS        1   2   CHI       WAS     CHI     FG good    10-J.Hall      \n",
       "977 WAS        1   2   CHI       WAS     CHI     FG good    10-J.Hall      \n",
       "978 WAS        4   1   SEA       WAS     SEA     FG blocked 3-N.Novak      \n",
       "979 WAS        9   3   PHI       PHI     WAS     FG good    2-D.Akers      \n",
       "980 WAS       16   3   NYG       NYG     WAS     FG blocked 2-J.Feely      \n",
       "981 WAS       11   1   OAK       OAK     WAS     FG good    11-S.Janikowski\n",
       "982 WAS       16   3   NYG       NYG     WAS     FG good    2-J.Feely      \n",
       "    yards stadium.type\n",
       "1   20    Out         \n",
       "2   35    Out         \n",
       "3   24    Out         \n",
       "4   30    Out         \n",
       "5   48    Out         \n",
       "6   33    Out         \n",
       "7   26    Out         \n",
       "8   33    Out         \n",
       "9   44    Out         \n",
       "10  29    Out         \n",
       "11  24    Out         \n",
       "12  42    Out         \n",
       "13  43    Out         \n",
       "14  54    Out         \n",
       "15  32    Out         \n",
       "16  23    Out         \n",
       "17  48    Out         \n",
       "18  38    Out         \n",
       "19  46    Out         \n",
       "20  41    Out         \n",
       "21  43    Out         \n",
       "22  45    Out         \n",
       "23  32    Out         \n",
       "24  53    Out         \n",
       "25  44    Out         \n",
       "26  29    Out         \n",
       "27  40    Out         \n",
       "28  49    Out         \n",
       "29  39    Out         \n",
       "30  31    Out         \n",
       "... ...   ...         \n",
       "953 32    Out         \n",
       "954 22    Out         \n",
       "955 48    Out         \n",
       "956 40    Out         \n",
       "957 38    Out         \n",
       "958 47    Out         \n",
       "959 53    Out         \n",
       "960 19    Out         \n",
       "961 52    Out         \n",
       "962 24    Out         \n",
       "963 24    Out         \n",
       "964 46    Out         \n",
       "965 19    Out         \n",
       "966 38    Out         \n",
       "967 42    Out         \n",
       "968 47    Out         \n",
       "969 47    Out         \n",
       "970 39    Out         \n",
       "971 25    Out         \n",
       "972 27    Out         \n",
       "973 47    Out         \n",
       "974 45    Out         \n",
       "975 45    Out         \n",
       "976 40    Out         \n",
       "977 43    Out         \n",
       "978 39    Out         \n",
       "979 34    Out         \n",
       "980 29    Out         \n",
       "981 30    Out         \n",
       "982 38    Out         "
      ]
     },
     "metadata": {},
     "output_type": "display_data"
    }
   ],
   "source": [
    "field.goals"
   ]
  },
  {
   "cell_type": "code",
   "execution_count": 39,
   "metadata": {},
   "outputs": [
    {
     "data": {
      "text/html": [
       "<ol class=list-inline>\n",
       "\t<li>'home.team'</li>\n",
       "\t<li>'week'</li>\n",
       "\t<li>'qtr'</li>\n",
       "\t<li>'away.team'</li>\n",
       "\t<li>'offense'</li>\n",
       "\t<li>'defense'</li>\n",
       "\t<li>'play.type'</li>\n",
       "\t<li>'player'</li>\n",
       "\t<li>'yards'</li>\n",
       "\t<li>'stadium.type'</li>\n",
       "</ol>\n"
      ],
      "text/latex": [
       "\\begin{enumerate*}\n",
       "\\item 'home.team'\n",
       "\\item 'week'\n",
       "\\item 'qtr'\n",
       "\\item 'away.team'\n",
       "\\item 'offense'\n",
       "\\item 'defense'\n",
       "\\item 'play.type'\n",
       "\\item 'player'\n",
       "\\item 'yards'\n",
       "\\item 'stadium.type'\n",
       "\\end{enumerate*}\n"
      ],
      "text/markdown": [
       "1. 'home.team'\n",
       "2. 'week'\n",
       "3. 'qtr'\n",
       "4. 'away.team'\n",
       "5. 'offense'\n",
       "6. 'defense'\n",
       "7. 'play.type'\n",
       "8. 'player'\n",
       "9. 'yards'\n",
       "10. 'stadium.type'\n",
       "\n",
       "\n"
      ],
      "text/plain": [
       " [1] \"home.team\"    \"week\"         \"qtr\"          \"away.team\"    \"offense\"     \n",
       " [6] \"defense\"      \"play.type\"    \"player\"       \"yards\"        \"stadium.type\""
      ]
     },
     "metadata": {},
     "output_type": "display_data"
    }
   ],
   "source": [
    "names(field.goals)"
   ]
  },
  {
   "cell_type": "code",
   "execution_count": 46,
   "metadata": {},
   "outputs": [],
   "source": [
    "?data"
   ]
  },
  {
   "cell_type": "code",
   "execution_count": 43,
   "metadata": {},
   "outputs": [],
   "source": [
    "data()"
   ]
  },
  {
   "cell_type": "code",
   "execution_count": 47,
   "metadata": {},
   "outputs": [
    {
     "data": {
      "image/png": "[encoded data removed]",
      "text/plain": [
       "Plot with title \"Histogram of field.goals$yards\""
      ]
     },
     "metadata": {},
     "output_type": "display_data"
    }
   ],
   "source": [
    "hist(field.goals$yards)"
   ]
  },
  {
   "cell_type": "code",
   "execution_count": 50,
   "metadata": {},
   "outputs": [],
   "source": [
    "?hist"
   ]
  },
  {
   "cell_type": "code",
   "execution_count": 49,
   "metadata": {},
   "outputs": [
    {
     "data": {
      "image/png": "[encoded data removed]",
      "text/plain": [
       "Plot with title \"Histogram of field.goals$yards\""
      ]
     },
     "metadata": {},
     "output_type": "display_data"
    }
   ],
   "source": [
    "hist(field.goals$yards, breaks = 35)"
   ]
  },
  {
   "cell_type": "code",
   "execution_count": 51,
   "metadata": {},
   "outputs": [
    {
     "data": {
      "text/plain": [
       "\n",
       "FG aborted FG blocked    FG good      FG no \n",
       "         8         24        787        163 "
      ]
     },
     "metadata": {},
     "output_type": "display_data"
    }
   ],
   "source": [
    "table(field.goals$play.type)"
   ]
  },
  {
   "cell_type": "code",
   "execution_count": 52,
   "metadata": {},
   "outputs": [
    {
     "data": {
      "image/png": "[encoded data removed]",
      "text/plain": [
       "plot without title"
      ]
     },
     "metadata": {},
     "output_type": "display_data"
    }
   ],
   "source": [
    "stripchart(field.goals[field.goals$play.type=='FG blocked',]$yards, pch=19, method='jitter')"
   ]
  },
  {
   "cell_type": "code",
   "execution_count": 53,
   "metadata": {},
   "outputs": [],
   "source": [
    "data(cars)"
   ]
  },
  {
   "cell_type": "code",
   "execution_count": 54,
   "metadata": {},
   "outputs": [
    {
     "data": {
      "text/html": [
       "<ol class=list-inline>\n",
       "\t<li>50</li>\n",
       "\t<li>2</li>\n",
       "</ol>\n"
      ],
      "text/latex": [
       "\\begin{enumerate*}\n",
       "\\item 50\n",
       "\\item 2\n",
       "\\end{enumerate*}\n"
      ],
      "text/markdown": [
       "1. 50\n",
       "2. 2\n",
       "\n",
       "\n"
      ],
      "text/plain": [
       "[1] 50  2"
      ]
     },
     "metadata": {},
     "output_type": "display_data"
    }
   ],
   "source": [
    "dim(cars)"
   ]
  },
  {
   "cell_type": "code",
   "execution_count": 55,
   "metadata": {},
   "outputs": [
    {
     "data": {
      "text/html": [
       "<ol class=list-inline>\n",
       "\t<li>'speed'</li>\n",
       "\t<li>'dist'</li>\n",
       "</ol>\n"
      ],
      "text/latex": [
       "\\begin{enumerate*}\n",
       "\\item 'speed'\n",
       "\\item 'dist'\n",
       "\\end{enumerate*}\n"
      ],
      "text/markdown": [
       "1. 'speed'\n",
       "2. 'dist'\n",
       "\n",
       "\n"
      ],
      "text/plain": [
       "[1] \"speed\" \"dist\" "
      ]
     },
     "metadata": {},
     "output_type": "display_data"
    }
   ],
   "source": [
    "names(cars)"
   ]
  },
  {
   "cell_type": "code",
   "execution_count": 56,
   "metadata": {},
   "outputs": [
    {
     "data": {
      "text/plain": [
       "     speed           dist       \n",
       " Min.   : 4.0   Min.   :  2.00  \n",
       " 1st Qu.:12.0   1st Qu.: 26.00  \n",
       " Median :15.0   Median : 36.00  \n",
       " Mean   :15.4   Mean   : 42.98  \n",
       " 3rd Qu.:19.0   3rd Qu.: 56.00  \n",
       " Max.   :25.0   Max.   :120.00  "
      ]
     },
     "metadata": {},
     "output_type": "display_data"
    }
   ],
   "source": [
    "summary(cars)"
   ]
  },
  {
   "cell_type": "code",
   "execution_count": 57,
   "metadata": {},
   "outputs": [
    {
     "data": {
      "image/png": "[encoded data removed]",
      "text/plain": [
       "plot without title"
      ]
     },
     "metadata": {},
     "output_type": "display_data"
    }
   ],
   "source": [
    "plot(cars, xlab = 'Speed（mph）', ylab = 'Stopping distance(ft)', las=1, xlim=c(0,25))"
   ]
  },
  {
   "cell_type": "code",
   "execution_count": 58,
   "metadata": {},
   "outputs": [],
   "source": [
    "?plot"
   ]
  },
  {
   "cell_type": "code",
   "execution_count": 59,
   "metadata": {},
   "outputs": [],
   "source": [
    "library(lattice)"
   ]
  },
  {
   "cell_type": "code",
   "execution_count": 60,
   "metadata": {},
   "outputs": [],
   "source": [
    "data(consumption)"
   ]
  },
  {
   "cell_type": "code",
   "execution_count": 61,
   "metadata": {},
   "outputs": [
    {
     "data": {
      "text/html": [
       "<table>\n",
       "<thead><tr><th scope=col>Food</th><th scope=col>Units</th><th scope=col>Year</th><th scope=col>Amount</th></tr></thead>\n",
       "<tbody>\n",
       "\t<tr><td>Red Meat                 </td><td>Pounds                   </td><td>1980                     </td><td>126.42799                </td></tr>\n",
       "\t<tr><td>Poultry                  </td><td>Pounds                   </td><td>1980                     </td><td> 40.80441                </td></tr>\n",
       "\t<tr><td>Fish and Shellfist       </td><td>Pounds                   </td><td>1980                     </td><td> 12.41404                </td></tr>\n",
       "\t<tr><td>Eggs                     </td><td>Number                   </td><td>1980                     </td><td>271.13484                </td></tr>\n",
       "\t<tr><td>Dairy products           </td><td>Pounds                   </td><td>1980                     </td><td>543.14395                </td></tr>\n",
       "\t<tr><td>Flour and cereal products</td><td>Pounds                   </td><td>1980                     </td><td>144.88092                </td></tr>\n",
       "\t<tr><td>Caloric sweeteners       </td><td>Pounds                   </td><td>1980                     </td><td>120.23124                </td></tr>\n",
       "\t<tr><td>Fruits and Vegetables    </td><td>Pounds                   </td><td>1980                     </td><td>603.57948                </td></tr>\n",
       "\t<tr><td>Red Meat                 </td><td>Pounds                   </td><td>1985                     </td><td>124.85776                </td></tr>\n",
       "\t<tr><td>Poultry                  </td><td>Pounds                   </td><td>1985                     </td><td> 45.58714                </td></tr>\n",
       "\t<tr><td>Fish and Shellfist       </td><td>Pounds                   </td><td>1985                     </td><td> 15.00843                </td></tr>\n",
       "\t<tr><td>Eggs                     </td><td>Number                   </td><td>1985                     </td><td>255.16760                </td></tr>\n",
       "\t<tr><td>Dairy products           </td><td>Pounds                   </td><td>1985                     </td><td>593.58986                </td></tr>\n",
       "\t<tr><td>Flour and cereal products</td><td>Pounds                   </td><td>1985                     </td><td>156.65475                </td></tr>\n",
       "\t<tr><td>Caloric sweeteners       </td><td>Pounds                   </td><td>1985                     </td><td>126.18184                </td></tr>\n",
       "\t<tr><td>Fruits and Vegetables    </td><td>Pounds                   </td><td>1985                     </td><td>630.24491                </td></tr>\n",
       "\t<tr><td>Red Meat                 </td><td>Pounds                   </td><td>1990                     </td><td>112.20456                </td></tr>\n",
       "\t<tr><td>Poultry                  </td><td>Pounds                   </td><td>1990                     </td><td> 56.24324                </td></tr>\n",
       "\t<tr><td>Fish and Shellfist       </td><td>Pounds                   </td><td>1990                     </td><td> 14.94411                </td></tr>\n",
       "\t<tr><td>Eggs                     </td><td>Number                   </td><td>1990                     </td><td>234.10895                </td></tr>\n",
       "\t<tr><td>Dairy products           </td><td>Pounds                   </td><td>1990                     </td><td>567.95396                </td></tr>\n",
       "\t<tr><td>Flour and cereal products</td><td>Pounds                   </td><td>1990                     </td><td>180.97786                </td></tr>\n",
       "\t<tr><td>Caloric sweeteners       </td><td>Pounds                   </td><td>1990                     </td><td>132.43113                </td></tr>\n",
       "\t<tr><td>Fruits and Vegetables    </td><td>Pounds                   </td><td>1990                     </td><td>642.49926                </td></tr>\n",
       "\t<tr><td>Red Meat                 </td><td>Pounds                   </td><td>1995                     </td><td>113.56585                </td></tr>\n",
       "\t<tr><td>Poultry                  </td><td>Pounds                   </td><td>1995                     </td><td> 62.09310                </td></tr>\n",
       "\t<tr><td>Fish and Shellfist       </td><td>Pounds                   </td><td>1995                     </td><td> 14.75107                </td></tr>\n",
       "\t<tr><td>Eggs                     </td><td>Number                   </td><td>1995                     </td><td>232.28203                </td></tr>\n",
       "\t<tr><td>Dairy products           </td><td>Pounds                   </td><td>1995                     </td><td>576.22602                </td></tr>\n",
       "\t<tr><td>Flour and cereal products</td><td>Pounds                   </td><td>1995                     </td><td>188.72087                </td></tr>\n",
       "\t<tr><td>Caloric sweeteners       </td><td>Pounds                   </td><td>1995                     </td><td>144.08113                </td></tr>\n",
       "\t<tr><td>Fruits and Vegetables    </td><td>Pounds                   </td><td>1995                     </td><td>682.28760                </td></tr>\n",
       "\t<tr><td>Red Meat                 </td><td>Pounds                   </td><td>2000                     </td><td>113.67910                </td></tr>\n",
       "\t<tr><td>Poultry                  </td><td>Pounds                   </td><td>2000                     </td><td> 67.88350                </td></tr>\n",
       "\t<tr><td>Fish and Shellfist       </td><td>Pounds                   </td><td>2000                     </td><td> 15.19465                </td></tr>\n",
       "\t<tr><td>Eggs                     </td><td>Number                   </td><td>2000                     </td><td>251.01664                </td></tr>\n",
       "\t<tr><td>Dairy products           </td><td>Pounds                   </td><td>2000                     </td><td>592.22818                </td></tr>\n",
       "\t<tr><td>Flour and cereal products</td><td>Pounds                   </td><td>2000                     </td><td>199.16733                </td></tr>\n",
       "\t<tr><td>Caloric sweeteners       </td><td>Pounds                   </td><td>2000                     </td><td>148.80793                </td></tr>\n",
       "\t<tr><td>Fruits and Vegetables    </td><td>Pounds                   </td><td>2000                     </td><td>708.94975                </td></tr>\n",
       "\t<tr><td>Red Meat                 </td><td>Pounds                   </td><td>2005                     </td><td>110.15396                </td></tr>\n",
       "\t<tr><td>Poultry                  </td><td>Pounds                   </td><td>2005                     </td><td> 73.64454                </td></tr>\n",
       "\t<tr><td>Fish and Shellfist       </td><td>Pounds                   </td><td>2005                     </td><td> 16.14422                </td></tr>\n",
       "\t<tr><td>Eggs                     </td><td>Number                   </td><td>2005                     </td><td>254.57110                </td></tr>\n",
       "\t<tr><td>Dairy products           </td><td>Pounds                   </td><td>2005                     </td><td>597.69814                </td></tr>\n",
       "\t<tr><td>Flour and cereal products</td><td>Pounds                   </td><td>2005                     </td><td>191.86874                </td></tr>\n",
       "\t<tr><td>Caloric sweeteners       </td><td>Pounds                   </td><td>2005                     </td><td>142.17361                </td></tr>\n",
       "\t<tr><td>Fruits and Vegetables    </td><td>Pounds                   </td><td>2005                     </td><td>685.29877                </td></tr>\n",
       "</tbody>\n",
       "</table>\n"
      ],
      "text/latex": [
       "\\begin{tabular}{r|llll}\n",
       " Food & Units & Year & Amount\\\\\n",
       "\\hline\n",
       "\t Red Meat                  & Pounds                    & 1980                      & 126.42799                \\\\\n",
       "\t Poultry                   & Pounds                    & 1980                      &  40.80441                \\\\\n",
       "\t Fish and Shellfist        & Pounds                    & 1980                      &  12.41404                \\\\\n",
       "\t Eggs                      & Number                    & 1980                      & 271.13484                \\\\\n",
       "\t Dairy products            & Pounds                    & 1980                      & 543.14395                \\\\\n",
       "\t Flour and cereal products & Pounds                    & 1980                      & 144.88092                \\\\\n",
       "\t Caloric sweeteners        & Pounds                    & 1980                      & 120.23124                \\\\\n",
       "\t Fruits and Vegetables     & Pounds                    & 1980                      & 603.57948                \\\\\n",
       "\t Red Meat                  & Pounds                    & 1985                      & 124.85776                \\\\\n",
       "\t Poultry                   & Pounds                    & 1985                      &  45.58714                \\\\\n",
       "\t Fish and Shellfist        & Pounds                    & 1985                      &  15.00843                \\\\\n",
       "\t Eggs                      & Number                    & 1985                      & 255.16760                \\\\\n",
       "\t Dairy products            & Pounds                    & 1985                      & 593.58986                \\\\\n",
       "\t Flour and cereal products & Pounds                    & 1985                      & 156.65475                \\\\\n",
       "\t Caloric sweeteners        & Pounds                    & 1985                      & 126.18184                \\\\\n",
       "\t Fruits and Vegetables     & Pounds                    & 1985                      & 630.24491                \\\\\n",
       "\t Red Meat                  & Pounds                    & 1990                      & 112.20456                \\\\\n",
       "\t Poultry                   & Pounds                    & 1990                      &  56.24324                \\\\\n",
       "\t Fish and Shellfist        & Pounds                    & 1990                      &  14.94411                \\\\\n",
       "\t Eggs                      & Number                    & 1990                      & 234.10895                \\\\\n",
       "\t Dairy products            & Pounds                    & 1990                      & 567.95396                \\\\\n",
       "\t Flour and cereal products & Pounds                    & 1990                      & 180.97786                \\\\\n",
       "\t Caloric sweeteners        & Pounds                    & 1990                      & 132.43113                \\\\\n",
       "\t Fruits and Vegetables     & Pounds                    & 1990                      & 642.49926                \\\\\n",
       "\t Red Meat                  & Pounds                    & 1995                      & 113.56585                \\\\\n",
       "\t Poultry                   & Pounds                    & 1995                      &  62.09310                \\\\\n",
       "\t Fish and Shellfist        & Pounds                    & 1995                      &  14.75107                \\\\\n",
       "\t Eggs                      & Number                    & 1995                      & 232.28203                \\\\\n",
       "\t Dairy products            & Pounds                    & 1995                      & 576.22602                \\\\\n",
       "\t Flour and cereal products & Pounds                    & 1995                      & 188.72087                \\\\\n",
       "\t Caloric sweeteners        & Pounds                    & 1995                      & 144.08113                \\\\\n",
       "\t Fruits and Vegetables     & Pounds                    & 1995                      & 682.28760                \\\\\n",
       "\t Red Meat                  & Pounds                    & 2000                      & 113.67910                \\\\\n",
       "\t Poultry                   & Pounds                    & 2000                      &  67.88350                \\\\\n",
       "\t Fish and Shellfist        & Pounds                    & 2000                      &  15.19465                \\\\\n",
       "\t Eggs                      & Number                    & 2000                      & 251.01664                \\\\\n",
       "\t Dairy products            & Pounds                    & 2000                      & 592.22818                \\\\\n",
       "\t Flour and cereal products & Pounds                    & 2000                      & 199.16733                \\\\\n",
       "\t Caloric sweeteners        & Pounds                    & 2000                      & 148.80793                \\\\\n",
       "\t Fruits and Vegetables     & Pounds                    & 2000                      & 708.94975                \\\\\n",
       "\t Red Meat                  & Pounds                    & 2005                      & 110.15396                \\\\\n",
       "\t Poultry                   & Pounds                    & 2005                      &  73.64454                \\\\\n",
       "\t Fish and Shellfist        & Pounds                    & 2005                      &  16.14422                \\\\\n",
       "\t Eggs                      & Number                    & 2005                      & 254.57110                \\\\\n",
       "\t Dairy products            & Pounds                    & 2005                      & 597.69814                \\\\\n",
       "\t Flour and cereal products & Pounds                    & 2005                      & 191.86874                \\\\\n",
       "\t Caloric sweeteners        & Pounds                    & 2005                      & 142.17361                \\\\\n",
       "\t Fruits and Vegetables     & Pounds                    & 2005                      & 685.29877                \\\\\n",
       "\\end{tabular}\n"
      ],
      "text/markdown": [
       "\n",
       "Food | Units | Year | Amount | \n",
       "|---|---|---|---|---|---|---|---|---|---|---|---|---|---|---|---|---|---|---|---|---|---|---|---|---|---|---|---|---|---|---|---|---|---|---|---|---|---|---|---|---|---|---|---|---|---|---|---|\n",
       "| Red Meat                  | Pounds                    | 1980                      | 126.42799                 | \n",
       "| Poultry                   | Pounds                    | 1980                      |  40.80441                 | \n",
       "| Fish and Shellfist        | Pounds                    | 1980                      |  12.41404                 | \n",
       "| Eggs                      | Number                    | 1980                      | 271.13484                 | \n",
       "| Dairy products            | Pounds                    | 1980                      | 543.14395                 | \n",
       "| Flour and cereal products | Pounds                    | 1980                      | 144.88092                 | \n",
       "| Caloric sweeteners        | Pounds                    | 1980                      | 120.23124                 | \n",
       "| Fruits and Vegetables     | Pounds                    | 1980                      | 603.57948                 | \n",
       "| Red Meat                  | Pounds                    | 1985                      | 124.85776                 | \n",
       "| Poultry                   | Pounds                    | 1985                      |  45.58714                 | \n",
       "| Fish and Shellfist        | Pounds                    | 1985                      |  15.00843                 | \n",
       "| Eggs                      | Number                    | 1985                      | 255.16760                 | \n",
       "| Dairy products            | Pounds                    | 1985                      | 593.58986                 | \n",
       "| Flour and cereal products | Pounds                    | 1985                      | 156.65475                 | \n",
       "| Caloric sweeteners        | Pounds                    | 1985                      | 126.18184                 | \n",
       "| Fruits and Vegetables     | Pounds                    | 1985                      | 630.24491                 | \n",
       "| Red Meat                  | Pounds                    | 1990                      | 112.20456                 | \n",
       "| Poultry                   | Pounds                    | 1990                      |  56.24324                 | \n",
       "| Fish and Shellfist        | Pounds                    | 1990                      |  14.94411                 | \n",
       "| Eggs                      | Number                    | 1990                      | 234.10895                 | \n",
       "| Dairy products            | Pounds                    | 1990                      | 567.95396                 | \n",
       "| Flour and cereal products | Pounds                    | 1990                      | 180.97786                 | \n",
       "| Caloric sweeteners        | Pounds                    | 1990                      | 132.43113                 | \n",
       "| Fruits and Vegetables     | Pounds                    | 1990                      | 642.49926                 | \n",
       "| Red Meat                  | Pounds                    | 1995                      | 113.56585                 | \n",
       "| Poultry                   | Pounds                    | 1995                      |  62.09310                 | \n",
       "| Fish and Shellfist        | Pounds                    | 1995                      |  14.75107                 | \n",
       "| Eggs                      | Number                    | 1995                      | 232.28203                 | \n",
       "| Dairy products            | Pounds                    | 1995                      | 576.22602                 | \n",
       "| Flour and cereal products | Pounds                    | 1995                      | 188.72087                 | \n",
       "| Caloric sweeteners        | Pounds                    | 1995                      | 144.08113                 | \n",
       "| Fruits and Vegetables     | Pounds                    | 1995                      | 682.28760                 | \n",
       "| Red Meat                  | Pounds                    | 2000                      | 113.67910                 | \n",
       "| Poultry                   | Pounds                    | 2000                      |  67.88350                 | \n",
       "| Fish and Shellfist        | Pounds                    | 2000                      |  15.19465                 | \n",
       "| Eggs                      | Number                    | 2000                      | 251.01664                 | \n",
       "| Dairy products            | Pounds                    | 2000                      | 592.22818                 | \n",
       "| Flour and cereal products | Pounds                    | 2000                      | 199.16733                 | \n",
       "| Caloric sweeteners        | Pounds                    | 2000                      | 148.80793                 | \n",
       "| Fruits and Vegetables     | Pounds                    | 2000                      | 708.94975                 | \n",
       "| Red Meat                  | Pounds                    | 2005                      | 110.15396                 | \n",
       "| Poultry                   | Pounds                    | 2005                      |  73.64454                 | \n",
       "| Fish and Shellfist        | Pounds                    | 2005                      |  16.14422                 | \n",
       "| Eggs                      | Number                    | 2005                      | 254.57110                 | \n",
       "| Dairy products            | Pounds                    | 2005                      | 597.69814                 | \n",
       "| Flour and cereal products | Pounds                    | 2005                      | 191.86874                 | \n",
       "| Caloric sweeteners        | Pounds                    | 2005                      | 142.17361                 | \n",
       "| Fruits and Vegetables     | Pounds                    | 2005                      | 685.29877                 | \n",
       "\n",
       "\n"
      ],
      "text/plain": [
       "   Food                      Units  Year Amount   \n",
       "1  Red Meat                  Pounds 1980 126.42799\n",
       "2  Poultry                   Pounds 1980  40.80441\n",
       "3  Fish and Shellfist        Pounds 1980  12.41404\n",
       "4  Eggs                      Number 1980 271.13484\n",
       "5  Dairy products            Pounds 1980 543.14395\n",
       "6  Flour and cereal products Pounds 1980 144.88092\n",
       "7  Caloric sweeteners        Pounds 1980 120.23124\n",
       "8  Fruits and Vegetables     Pounds 1980 603.57948\n",
       "9  Red Meat                  Pounds 1985 124.85776\n",
       "10 Poultry                   Pounds 1985  45.58714\n",
       "11 Fish and Shellfist        Pounds 1985  15.00843\n",
       "12 Eggs                      Number 1985 255.16760\n",
       "13 Dairy products            Pounds 1985 593.58986\n",
       "14 Flour and cereal products Pounds 1985 156.65475\n",
       "15 Caloric sweeteners        Pounds 1985 126.18184\n",
       "16 Fruits and Vegetables     Pounds 1985 630.24491\n",
       "17 Red Meat                  Pounds 1990 112.20456\n",
       "18 Poultry                   Pounds 1990  56.24324\n",
       "19 Fish and Shellfist        Pounds 1990  14.94411\n",
       "20 Eggs                      Number 1990 234.10895\n",
       "21 Dairy products            Pounds 1990 567.95396\n",
       "22 Flour and cereal products Pounds 1990 180.97786\n",
       "23 Caloric sweeteners        Pounds 1990 132.43113\n",
       "24 Fruits and Vegetables     Pounds 1990 642.49926\n",
       "25 Red Meat                  Pounds 1995 113.56585\n",
       "26 Poultry                   Pounds 1995  62.09310\n",
       "27 Fish and Shellfist        Pounds 1995  14.75107\n",
       "28 Eggs                      Number 1995 232.28203\n",
       "29 Dairy products            Pounds 1995 576.22602\n",
       "30 Flour and cereal products Pounds 1995 188.72087\n",
       "31 Caloric sweeteners        Pounds 1995 144.08113\n",
       "32 Fruits and Vegetables     Pounds 1995 682.28760\n",
       "33 Red Meat                  Pounds 2000 113.67910\n",
       "34 Poultry                   Pounds 2000  67.88350\n",
       "35 Fish and Shellfist        Pounds 2000  15.19465\n",
       "36 Eggs                      Number 2000 251.01664\n",
       "37 Dairy products            Pounds 2000 592.22818\n",
       "38 Flour and cereal products Pounds 2000 199.16733\n",
       "39 Caloric sweeteners        Pounds 2000 148.80793\n",
       "40 Fruits and Vegetables     Pounds 2000 708.94975\n",
       "41 Red Meat                  Pounds 2005 110.15396\n",
       "42 Poultry                   Pounds 2005  73.64454\n",
       "43 Fish and Shellfist        Pounds 2005  16.14422\n",
       "44 Eggs                      Number 2005 254.57110\n",
       "45 Dairy products            Pounds 2005 597.69814\n",
       "46 Flour and cereal products Pounds 2005 191.86874\n",
       "47 Caloric sweeteners        Pounds 2005 142.17361\n",
       "48 Fruits and Vegetables     Pounds 2005 685.29877"
      ]
     },
     "metadata": {},
     "output_type": "display_data"
    }
   ],
   "source": [
    "consumption"
   ]
  },
  {
   "cell_type": "code",
   "execution_count": 62,
   "metadata": {},
   "outputs": [
    {
     "data": {},
     "metadata": {},
     "output_type": "display_data"
    },
    {
     "data": {
      "image/png": "[encoded data removed]",
      "text/plain": [
       "plot without title"
      ]
     },
     "metadata": {},
     "output_type": "display_data"
    }
   ],
   "source": [
    "dotplot(Amount~Year|Food, consumption)"
   ]
  },
  {
   "cell_type": "code",
   "execution_count": 64,
   "metadata": {},
   "outputs": [
    {
     "data": {},
     "metadata": {},
     "output_type": "display_data"
    },
    {
     "data": {
      "image/png": "[encoded data removed]",
      "text/plain": [
       "plot without title"
      ]
     },
     "metadata": {},
     "output_type": "display_data"
    }
   ],
   "source": [
    "dotplot(Amount~Year|Food, consumption, aspect='xy',scales=list(relation='sliced',cex=.4))"
   ]
  },
  {
   "cell_type": "code",
   "execution_count": null,
   "metadata": {},
   "outputs": [],
   "source": []
  }
 ],
 "metadata": {
  "kernelspec": {
   "display_name": "R",
   "language": "R",
   "name": "ir"
  },
  "language_info": {
   "codemirror_mode": "r",
   "file_extension": ".r",
   "mimetype": "text/x-r-source",
   "name": "R",
   "pygments_lexer": "r",
   "version": "3.4.2"
  }
 },
 "nbformat": 4,
 "nbformat_minor": 2
}
